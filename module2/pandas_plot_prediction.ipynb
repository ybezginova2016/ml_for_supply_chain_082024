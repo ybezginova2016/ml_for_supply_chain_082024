{
 "cells": [
  {
   "cell_type": "markdown",
   "metadata": {
    "pycharm": {
     "name": "#%% md\n"
    }
   },
   "source": [
    "### Prediciting and Plotting Product Demand"
   ]
  },
  {
   "cell_type": "markdown",
   "metadata": {
    "pycharm": {
     "name": "#%% md\n"
    }
   },
   "source": [
    "Importing Packages"
   ]
  },
  {
   "cell_type": "code",
   "execution_count": null,
   "metadata": {
    "pycharm": {
     "name": "#%%\n"
    }
   },
   "outputs": [],
   "source": [
    "import pandas as pd\n",
    "import numpy as np\n",
    "import pulp\n",
    "\n",
    "import statsmodels.api as sm\n",
    "import matplotlib.pyplot as plt"
   ]
  },
  {
   "cell_type": "code",
   "execution_count": null,
   "metadata": {
    "pycharm": {
     "name": "#%%\n"
    }
   },
   "outputs": [],
   "source": [
    "orders = pd.read_csv('updated_orders.csv')"
   ]
  },
  {
   "cell_type": "markdown",
   "metadata": {
    "pycharm": {
     "name": "#%% md\n"
    }
   },
   "source": [
    "This function predicts product demand for a given series. You shouldn't modify this function."
   ]
  },
  {
   "cell_type": "code",
   "execution_count": null,
   "metadata": {
    "pycharm": {
     "name": "#%%\n"
    }
   },
   "outputs": [],
   "source": [
    "### Predict demand for Port 09\n",
    "### Dataframe (y) must have date as the index and have a single column (called a series)\n",
    "\n",
    "def plot_demand_prediction(y, start_prediction_date):\n",
    "    y.index = pd.to_datetime(y.index)\n",
    "    y = pd.DataFrame(y.reset_index())\n",
    "    y = y[y['Order Date'] < '12/31/2019']\n",
    "    y = y.groupby('Order Date').sum()\n",
    "    \n",
    "    mod = sm.tsa.statespace.SARIMAX(y, order=(1, 1, 1),\n",
    "                                enforce_stationarity=False,\n",
    "                                enforce_invertibility=False)\n",
    "    results = mod.fit()\n",
    "    \n",
    "    pred = results.get_prediction(start=pd.to_datetime(start_prediction_date), dynamic=False)\n",
    "    pred_ci = pred.conf_int()\n",
    "    ax = y['2019':].plot(label='observed')\n",
    "    pred.predicted_mean.plot(ax=ax, label='One-step ahead Forecast', alpha=.7, figsize=(14, 7))\n",
    "    ax.fill_between(pred_ci.index,\n",
    "                    pred_ci.iloc[:, 0],\n",
    "                    pred_ci.iloc[:, 1], color='k', alpha=.2)\n",
    "    ax.set_xlabel('Date')\n",
    "    ax.set_ylabel('Order_Qty')\n",
    "    plt.legend()\n",
    "    plt.show()"
   ]
  },
  {
   "cell_type": "code",
   "execution_count": null,
   "metadata": {
    "deletable": false,
    "nbgrader": {
     "cell_type": "code",
     "checksum": "892ef0e83a494372aa35ac6ade4920a9",
     "grade": false,
     "grade_id": "plotting_demand_prediction",
     "locked": false,
     "schema_version": 3,
     "solution": true,
     "task": false
    },
    "pycharm": {
     "name": "#%%\n"
    }
   },
   "outputs": [],
   "source": [
    "### See if you can create y to make the following function run. run. \n",
    "### Hint: You'll need to index into when the destination port is 9. Then, set the index to the order date and use\n",
    "### the unit quantity as the column to plot.\n",
    "\n",
    "# your code here\n",
    "\n",
    "\n",
    "plot_demand_prediction(y, '9/1/19')"
   ]
  },
  {
   "cell_type": "code",
   "execution_count": null,
   "metadata": {
    "deletable": false,
    "editable": false,
    "nbgrader": {
     "cell_type": "code",
     "checksum": "e5d004b54aadeed9cec60c1b1fe47401",
     "grade": true,
     "grade_id": "cell-ea03fa063f77e34f",
     "locked": true,
     "points": 1,
     "schema_version": 3,
     "solution": false,
     "task": false
    },
    "pycharm": {
     "name": "#%%\n"
    }
   },
   "outputs": [],
   "source": [
    "assert y.iloc[200] == 5452\n",
    "assert y.iloc[1000] == 4153"
   ]
  }
 ],
 "metadata": {
  "kernelspec": {
   "display_name": "Python 3",
   "language": "python",
   "name": "python3"
  },
  "language_info": {
   "codemirror_mode": {
    "name": "ipython",
    "version": 3
   },
   "file_extension": ".py",
   "mimetype": "text/x-python",
   "name": "python",
   "nbconvert_exporter": "python",
   "pygments_lexer": "ipython3",
   "version": "3.7.6"
  }
 },
 "nbformat": 4,
 "nbformat_minor": 4
}
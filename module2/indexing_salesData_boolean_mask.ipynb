{
 "cells": [
  {
   "cell_type": "markdown",
   "source": [
    "## Filtering with Boolean Masking"
   ],
   "metadata": {
    "collapsed": false,
    "pycharm": {
     "name": "#%% md\n"
    }
   }
  },
  {
   "cell_type": "code",
   "execution_count": 1,
   "outputs": [],
   "source": [
    "import pandas as pd"
   ],
   "metadata": {
    "collapsed": false,
    "pycharm": {
     "name": "#%%\n"
    }
   }
  },
  {
   "cell_type": "code",
   "execution_count": 5,
   "outputs": [
    {
     "data": {
      "text/plain": "  Country Name Country Code  Year  Value\n0        Aruba          ABW  1960  54608\n1        Aruba          ABW  1961  55811\n2        Aruba          ABW  1962  56682\n3        Aruba          ABW  1963  57475\n4        Aruba          ABW  1964  58178",
      "text/html": "<div>\n<style scoped>\n    .dataframe tbody tr th:only-of-type {\n        vertical-align: middle;\n    }\n\n    .dataframe tbody tr th {\n        vertical-align: top;\n    }\n\n    .dataframe thead th {\n        text-align: right;\n    }\n</style>\n<table border=\"1\" class=\"dataframe\">\n  <thead>\n    <tr style=\"text-align: right;\">\n      <th></th>\n      <th>Country Name</th>\n      <th>Country Code</th>\n      <th>Year</th>\n      <th>Value</th>\n    </tr>\n  </thead>\n  <tbody>\n    <tr>\n      <th>0</th>\n      <td>Aruba</td>\n      <td>ABW</td>\n      <td>1960</td>\n      <td>54608</td>\n    </tr>\n    <tr>\n      <th>1</th>\n      <td>Aruba</td>\n      <td>ABW</td>\n      <td>1961</td>\n      <td>55811</td>\n    </tr>\n    <tr>\n      <th>2</th>\n      <td>Aruba</td>\n      <td>ABW</td>\n      <td>1962</td>\n      <td>56682</td>\n    </tr>\n    <tr>\n      <th>3</th>\n      <td>Aruba</td>\n      <td>ABW</td>\n      <td>1963</td>\n      <td>57475</td>\n    </tr>\n    <tr>\n      <th>4</th>\n      <td>Aruba</td>\n      <td>ABW</td>\n      <td>1964</td>\n      <td>58178</td>\n    </tr>\n  </tbody>\n</table>\n</div>"
     },
     "execution_count": 5,
     "metadata": {},
     "output_type": "execute_result"
    }
   ],
   "source": [
    "population = pd.read_csv(\"C:\\\\Users\\\\HOME\\\\Documents\\\\data_science\\\\ml_for_supply_chain_082024\\\\module2\\\\population.csv\")\n",
    "population.head()"
   ],
   "metadata": {
    "collapsed": false,
    "pycharm": {
     "name": "#%%\n"
    }
   }
  },
  {
   "cell_type": "markdown",
   "source": [
    "Create a boolean mask - a list-like object of True/False values of the same length as the dataframe `population`."
   ],
   "metadata": {
    "collapsed": false,
    "pycharm": {
     "name": "#%% md\n"
    }
   }
  },
  {
   "cell_type": "code",
   "execution_count": 7,
   "outputs": [
    {
     "data": {
      "text/plain": "0        False\n1        False\n2        False\n3        False\n4        False\n         ...  \n16395     True\n16396     True\n16397     True\n16398     True\n16399     True\nName: Value, Length: 16400, dtype: bool"
     },
     "execution_count": 7,
     "metadata": {},
     "output_type": "execute_result"
    }
   ],
   "source": [
    "population.Value > 100000"
   ],
   "metadata": {
    "collapsed": false,
    "pycharm": {
     "name": "#%%\n"
    }
   }
  },
  {
   "cell_type": "code",
   "execution_count": 9,
   "outputs": [],
   "source": [
    "# фильтрация данных в DataFrame population с использованием ранее созданной маски mask.\n",
    "mask = population.Value > 100000"
   ],
   "metadata": {
    "collapsed": false,
    "pycharm": {
     "name": "#%%\n"
    }
   }
  },
  {
   "cell_type": "markdown",
   "source": [
    "## `.loc[row_label, column_label]`\n",
    "\n",
    "* `row_label`: метка или список меток для выбора строк.\n",
    "* `column_label`: метка или список меток для выбора столбцов.\n",
    "\n",
    "Этот код создает булевую маску, которая содержит значения `True` и `False`.\n",
    "Маска имеет ту же длину, что и столбец `Value` в `DataFrame population`.\n",
    "Для каждой строки в `DataFrame`, если значение в столбце Value больше 100000, соответствующий элемент маски будет равен `True`, иначе — `False`.\n",
    "\n",
    "В этом коде используется метод `.loc[]`, который позволяет выбирать строки и столбцы по меткам или логическим массивам. **Он позволяет выбирать данные на основе меток (!!! индексов строк и имен столбцов) и выполнять фильтрацию с использованием логических массивов (булевых масок).**"
   ],
   "metadata": {
    "collapsed": false,
    "pycharm": {
     "name": "#%% md\n"
    }
   }
  },
  {
   "cell_type": "code",
   "execution_count": 10,
   "outputs": [
    {
     "data": {
      "text/plain": "14585"
     },
     "execution_count": 10,
     "metadata": {},
     "output_type": "execute_result"
    }
   ],
   "source": [
    "# Python treats Trues as 1s and Falses as 0s\n",
    "mask.sum()"
   ],
   "metadata": {
    "collapsed": false,
    "pycharm": {
     "name": "#%%\n"
    }
   }
  },
  {
   "cell_type": "code",
   "execution_count": 11,
   "outputs": [
    {
     "data": {
      "text/plain": "      Country Name Country Code  Year     Value\n50           Aruba          ABW  2010    100341\n51           Aruba          ABW  2011    101288\n52           Aruba          ABW  2012    102112\n53           Aruba          ABW  2013    102880\n54           Aruba          ABW  2014    103594\n...            ...          ...   ...       ...\n16395     Zimbabwe          ZWE  2017  14751101\n16396     Zimbabwe          ZWE  2018  15052184\n16397     Zimbabwe          ZWE  2019  15354608\n16398     Zimbabwe          ZWE  2020  15669666\n16399     Zimbabwe          ZWE  2021  15993524\n\n[14585 rows x 4 columns]",
      "text/html": "<div>\n<style scoped>\n    .dataframe tbody tr th:only-of-type {\n        vertical-align: middle;\n    }\n\n    .dataframe tbody tr th {\n        vertical-align: top;\n    }\n\n    .dataframe thead th {\n        text-align: right;\n    }\n</style>\n<table border=\"1\" class=\"dataframe\">\n  <thead>\n    <tr style=\"text-align: right;\">\n      <th></th>\n      <th>Country Name</th>\n      <th>Country Code</th>\n      <th>Year</th>\n      <th>Value</th>\n    </tr>\n  </thead>\n  <tbody>\n    <tr>\n      <th>50</th>\n      <td>Aruba</td>\n      <td>ABW</td>\n      <td>2010</td>\n      <td>100341</td>\n    </tr>\n    <tr>\n      <th>51</th>\n      <td>Aruba</td>\n      <td>ABW</td>\n      <td>2011</td>\n      <td>101288</td>\n    </tr>\n    <tr>\n      <th>52</th>\n      <td>Aruba</td>\n      <td>ABW</td>\n      <td>2012</td>\n      <td>102112</td>\n    </tr>\n    <tr>\n      <th>53</th>\n      <td>Aruba</td>\n      <td>ABW</td>\n      <td>2013</td>\n      <td>102880</td>\n    </tr>\n    <tr>\n      <th>54</th>\n      <td>Aruba</td>\n      <td>ABW</td>\n      <td>2014</td>\n      <td>103594</td>\n    </tr>\n    <tr>\n      <th>...</th>\n      <td>...</td>\n      <td>...</td>\n      <td>...</td>\n      <td>...</td>\n    </tr>\n    <tr>\n      <th>16395</th>\n      <td>Zimbabwe</td>\n      <td>ZWE</td>\n      <td>2017</td>\n      <td>14751101</td>\n    </tr>\n    <tr>\n      <th>16396</th>\n      <td>Zimbabwe</td>\n      <td>ZWE</td>\n      <td>2018</td>\n      <td>15052184</td>\n    </tr>\n    <tr>\n      <th>16397</th>\n      <td>Zimbabwe</td>\n      <td>ZWE</td>\n      <td>2019</td>\n      <td>15354608</td>\n    </tr>\n    <tr>\n      <th>16398</th>\n      <td>Zimbabwe</td>\n      <td>ZWE</td>\n      <td>2020</td>\n      <td>15669666</td>\n    </tr>\n    <tr>\n      <th>16399</th>\n      <td>Zimbabwe</td>\n      <td>ZWE</td>\n      <td>2021</td>\n      <td>15993524</td>\n    </tr>\n  </tbody>\n</table>\n<p>14585 rows × 4 columns</p>\n</div>"
     },
     "execution_count": 11,
     "metadata": {},
     "output_type": "execute_result"
    }
   ],
   "source": [
    "population.loc[mask] # loc know to keep only rows corresponding to True\n",
    "\n",
    "# Возвращает все строки, где значение в столбце 'ColumnName' соответствует True в маске"
   ],
   "metadata": {
    "collapsed": false,
    "pycharm": {
     "name": "#%%\n"
    }
   }
  },
  {
   "cell_type": "code",
   "execution_count": 12,
   "outputs": [],
   "source": [
    "# Изменяет значение в строке с индексом 56 и в столбце 'Country Name' на 'Russia'.\n",
    "population.loc[56, 'Country Name'] = 'Russia'"
   ],
   "metadata": {
    "collapsed": false,
    "pycharm": {
     "name": "#%%\n"
    }
   }
  },
  {
   "cell_type": "code",
   "execution_count": 14,
   "outputs": [
    {
     "data": {
      "text/plain": "'Russia'"
     },
     "execution_count": 14,
     "metadata": {},
     "output_type": "execute_result"
    }
   ],
   "source": [
    "population.loc[56, 'Country Name']"
   ],
   "metadata": {
    "collapsed": false,
    "pycharm": {
     "name": "#%%\n"
    }
   }
  },
  {
   "cell_type": "code",
   "execution_count": 15,
   "outputs": [
    {
     "data": {
      "text/plain": "      Country Name Country Code  Year     Value\n50           Aruba          ABW  2010    100341\n51           Aruba          ABW  2011    101288\n52           Aruba          ABW  2012    102112\n53           Aruba          ABW  2013    102880\n54           Aruba          ABW  2014    103594\n...            ...          ...   ...       ...\n16395     Zimbabwe          ZWE  2017  14751101\n16396     Zimbabwe          ZWE  2018  15052184\n16397     Zimbabwe          ZWE  2019  15354608\n16398     Zimbabwe          ZWE  2020  15669666\n16399     Zimbabwe          ZWE  2021  15993524\n\n[14585 rows x 4 columns]",
      "text/html": "<div>\n<style scoped>\n    .dataframe tbody tr th:only-of-type {\n        vertical-align: middle;\n    }\n\n    .dataframe tbody tr th {\n        vertical-align: top;\n    }\n\n    .dataframe thead th {\n        text-align: right;\n    }\n</style>\n<table border=\"1\" class=\"dataframe\">\n  <thead>\n    <tr style=\"text-align: right;\">\n      <th></th>\n      <th>Country Name</th>\n      <th>Country Code</th>\n      <th>Year</th>\n      <th>Value</th>\n    </tr>\n  </thead>\n  <tbody>\n    <tr>\n      <th>50</th>\n      <td>Aruba</td>\n      <td>ABW</td>\n      <td>2010</td>\n      <td>100341</td>\n    </tr>\n    <tr>\n      <th>51</th>\n      <td>Aruba</td>\n      <td>ABW</td>\n      <td>2011</td>\n      <td>101288</td>\n    </tr>\n    <tr>\n      <th>52</th>\n      <td>Aruba</td>\n      <td>ABW</td>\n      <td>2012</td>\n      <td>102112</td>\n    </tr>\n    <tr>\n      <th>53</th>\n      <td>Aruba</td>\n      <td>ABW</td>\n      <td>2013</td>\n      <td>102880</td>\n    </tr>\n    <tr>\n      <th>54</th>\n      <td>Aruba</td>\n      <td>ABW</td>\n      <td>2014</td>\n      <td>103594</td>\n    </tr>\n    <tr>\n      <th>...</th>\n      <td>...</td>\n      <td>...</td>\n      <td>...</td>\n      <td>...</td>\n    </tr>\n    <tr>\n      <th>16395</th>\n      <td>Zimbabwe</td>\n      <td>ZWE</td>\n      <td>2017</td>\n      <td>14751101</td>\n    </tr>\n    <tr>\n      <th>16396</th>\n      <td>Zimbabwe</td>\n      <td>ZWE</td>\n      <td>2018</td>\n      <td>15052184</td>\n    </tr>\n    <tr>\n      <th>16397</th>\n      <td>Zimbabwe</td>\n      <td>ZWE</td>\n      <td>2019</td>\n      <td>15354608</td>\n    </tr>\n    <tr>\n      <th>16398</th>\n      <td>Zimbabwe</td>\n      <td>ZWE</td>\n      <td>2020</td>\n      <td>15669666</td>\n    </tr>\n    <tr>\n      <th>16399</th>\n      <td>Zimbabwe</td>\n      <td>ZWE</td>\n      <td>2021</td>\n      <td>15993524</td>\n    </tr>\n  </tbody>\n</table>\n<p>14585 rows × 4 columns</p>\n</div>"
     },
     "execution_count": 15,
     "metadata": {},
     "output_type": "execute_result"
    }
   ],
   "source": [
    "population[mask]"
   ],
   "metadata": {
    "collapsed": false,
    "pycharm": {
     "name": "#%%\n"
    }
   }
  },
  {
   "cell_type": "code",
   "execution_count": 18,
   "outputs": [
    {
     "data": {
      "text/plain": "50         100341\n51         101288\n52         102112\n53         102880\n54         103594\n           ...   \n16395    14751101\n16396    15052184\n16397    15354608\n16398    15669666\n16399    15993524\nName: Value, Length: 14585, dtype: int64"
     },
     "execution_count": 18,
     "metadata": {},
     "output_type": "execute_result"
    }
   ],
   "source": [
    "# if we want a dataframe with one column instead\n",
    "population.loc[mask, 'Value']"
   ],
   "metadata": {
    "collapsed": false,
    "pycharm": {
     "name": "#%%\n"
    }
   }
  },
  {
   "cell_type": "code",
   "execution_count": 20,
   "outputs": [
    {
     "data": {
      "text/plain": "      Country Name Country Code  Year     Value\n0            Aruba          ABW  1960     54608\n1            Aruba          ABW  1961     55811\n2            Aruba          ABW  1962     56682\n3            Aruba          ABW  1963     57475\n4            Aruba          ABW  1964     58178\n...            ...          ...   ...       ...\n16395     Zimbabwe          ZWE  2017  14751101\n16396     Zimbabwe          ZWE  2018  15052184\n16397     Zimbabwe          ZWE  2019  15354608\n16398     Zimbabwe          ZWE  2020  15669666\n16399     Zimbabwe          ZWE  2021  15993524\n\n[16400 rows x 4 columns]",
      "text/html": "<div>\n<style scoped>\n    .dataframe tbody tr th:only-of-type {\n        vertical-align: middle;\n    }\n\n    .dataframe tbody tr th {\n        vertical-align: top;\n    }\n\n    .dataframe thead th {\n        text-align: right;\n    }\n</style>\n<table border=\"1\" class=\"dataframe\">\n  <thead>\n    <tr style=\"text-align: right;\">\n      <th></th>\n      <th>Country Name</th>\n      <th>Country Code</th>\n      <th>Year</th>\n      <th>Value</th>\n    </tr>\n  </thead>\n  <tbody>\n    <tr>\n      <th>0</th>\n      <td>Aruba</td>\n      <td>ABW</td>\n      <td>1960</td>\n      <td>54608</td>\n    </tr>\n    <tr>\n      <th>1</th>\n      <td>Aruba</td>\n      <td>ABW</td>\n      <td>1961</td>\n      <td>55811</td>\n    </tr>\n    <tr>\n      <th>2</th>\n      <td>Aruba</td>\n      <td>ABW</td>\n      <td>1962</td>\n      <td>56682</td>\n    </tr>\n    <tr>\n      <th>3</th>\n      <td>Aruba</td>\n      <td>ABW</td>\n      <td>1963</td>\n      <td>57475</td>\n    </tr>\n    <tr>\n      <th>4</th>\n      <td>Aruba</td>\n      <td>ABW</td>\n      <td>1964</td>\n      <td>58178</td>\n    </tr>\n    <tr>\n      <th>...</th>\n      <td>...</td>\n      <td>...</td>\n      <td>...</td>\n      <td>...</td>\n    </tr>\n    <tr>\n      <th>16395</th>\n      <td>Zimbabwe</td>\n      <td>ZWE</td>\n      <td>2017</td>\n      <td>14751101</td>\n    </tr>\n    <tr>\n      <th>16396</th>\n      <td>Zimbabwe</td>\n      <td>ZWE</td>\n      <td>2018</td>\n      <td>15052184</td>\n    </tr>\n    <tr>\n      <th>16397</th>\n      <td>Zimbabwe</td>\n      <td>ZWE</td>\n      <td>2019</td>\n      <td>15354608</td>\n    </tr>\n    <tr>\n      <th>16398</th>\n      <td>Zimbabwe</td>\n      <td>ZWE</td>\n      <td>2020</td>\n      <td>15669666</td>\n    </tr>\n    <tr>\n      <th>16399</th>\n      <td>Zimbabwe</td>\n      <td>ZWE</td>\n      <td>2021</td>\n      <td>15993524</td>\n    </tr>\n  </tbody>\n</table>\n<p>16400 rows × 4 columns</p>\n</div>"
     },
     "execution_count": 20,
     "metadata": {},
     "output_type": "execute_result"
    }
   ],
   "source": [
    "# 3 ways to filter dataframe\n",
    "\n",
    "# 1\n",
    "population[population['Value'] > 1000]"
   ],
   "metadata": {
    "collapsed": false,
    "pycharm": {
     "name": "#%%\n"
    }
   }
  },
  {
   "cell_type": "code",
   "execution_count": 21,
   "outputs": [
    {
     "data": {
      "text/plain": "      Country Name Country Code  Year     Value\n0            Aruba          ABW  1960     54608\n1            Aruba          ABW  1961     55811\n2            Aruba          ABW  1962     56682\n3            Aruba          ABW  1963     57475\n4            Aruba          ABW  1964     58178\n...            ...          ...   ...       ...\n16395     Zimbabwe          ZWE  2017  14751101\n16396     Zimbabwe          ZWE  2018  15052184\n16397     Zimbabwe          ZWE  2019  15354608\n16398     Zimbabwe          ZWE  2020  15669666\n16399     Zimbabwe          ZWE  2021  15993524\n\n[16400 rows x 4 columns]",
      "text/html": "<div>\n<style scoped>\n    .dataframe tbody tr th:only-of-type {\n        vertical-align: middle;\n    }\n\n    .dataframe tbody tr th {\n        vertical-align: top;\n    }\n\n    .dataframe thead th {\n        text-align: right;\n    }\n</style>\n<table border=\"1\" class=\"dataframe\">\n  <thead>\n    <tr style=\"text-align: right;\">\n      <th></th>\n      <th>Country Name</th>\n      <th>Country Code</th>\n      <th>Year</th>\n      <th>Value</th>\n    </tr>\n  </thead>\n  <tbody>\n    <tr>\n      <th>0</th>\n      <td>Aruba</td>\n      <td>ABW</td>\n      <td>1960</td>\n      <td>54608</td>\n    </tr>\n    <tr>\n      <th>1</th>\n      <td>Aruba</td>\n      <td>ABW</td>\n      <td>1961</td>\n      <td>55811</td>\n    </tr>\n    <tr>\n      <th>2</th>\n      <td>Aruba</td>\n      <td>ABW</td>\n      <td>1962</td>\n      <td>56682</td>\n    </tr>\n    <tr>\n      <th>3</th>\n      <td>Aruba</td>\n      <td>ABW</td>\n      <td>1963</td>\n      <td>57475</td>\n    </tr>\n    <tr>\n      <th>4</th>\n      <td>Aruba</td>\n      <td>ABW</td>\n      <td>1964</td>\n      <td>58178</td>\n    </tr>\n    <tr>\n      <th>...</th>\n      <td>...</td>\n      <td>...</td>\n      <td>...</td>\n      <td>...</td>\n    </tr>\n    <tr>\n      <th>16395</th>\n      <td>Zimbabwe</td>\n      <td>ZWE</td>\n      <td>2017</td>\n      <td>14751101</td>\n    </tr>\n    <tr>\n      <th>16396</th>\n      <td>Zimbabwe</td>\n      <td>ZWE</td>\n      <td>2018</td>\n      <td>15052184</td>\n    </tr>\n    <tr>\n      <th>16397</th>\n      <td>Zimbabwe</td>\n      <td>ZWE</td>\n      <td>2019</td>\n      <td>15354608</td>\n    </tr>\n    <tr>\n      <th>16398</th>\n      <td>Zimbabwe</td>\n      <td>ZWE</td>\n      <td>2020</td>\n      <td>15669666</td>\n    </tr>\n    <tr>\n      <th>16399</th>\n      <td>Zimbabwe</td>\n      <td>ZWE</td>\n      <td>2021</td>\n      <td>15993524</td>\n    </tr>\n  </tbody>\n</table>\n<p>16400 rows × 4 columns</p>\n</div>"
     },
     "execution_count": 21,
     "metadata": {},
     "output_type": "execute_result"
    }
   ],
   "source": [
    "# 2\n",
    "mask = population.Value > 1000\n",
    "population[mask]"
   ],
   "metadata": {
    "collapsed": false,
    "pycharm": {
     "name": "#%%\n"
    }
   }
  },
  {
   "cell_type": "code",
   "execution_count": 22,
   "outputs": [
    {
     "data": {
      "text/plain": "      Country Name Country Code  Year     Value\n0            Aruba          ABW  1960     54608\n1            Aruba          ABW  1961     55811\n2            Aruba          ABW  1962     56682\n3            Aruba          ABW  1963     57475\n4            Aruba          ABW  1964     58178\n...            ...          ...   ...       ...\n16395     Zimbabwe          ZWE  2017  14751101\n16396     Zimbabwe          ZWE  2018  15052184\n16397     Zimbabwe          ZWE  2019  15354608\n16398     Zimbabwe          ZWE  2020  15669666\n16399     Zimbabwe          ZWE  2021  15993524\n\n[16400 rows x 4 columns]",
      "text/html": "<div>\n<style scoped>\n    .dataframe tbody tr th:only-of-type {\n        vertical-align: middle;\n    }\n\n    .dataframe tbody tr th {\n        vertical-align: top;\n    }\n\n    .dataframe thead th {\n        text-align: right;\n    }\n</style>\n<table border=\"1\" class=\"dataframe\">\n  <thead>\n    <tr style=\"text-align: right;\">\n      <th></th>\n      <th>Country Name</th>\n      <th>Country Code</th>\n      <th>Year</th>\n      <th>Value</th>\n    </tr>\n  </thead>\n  <tbody>\n    <tr>\n      <th>0</th>\n      <td>Aruba</td>\n      <td>ABW</td>\n      <td>1960</td>\n      <td>54608</td>\n    </tr>\n    <tr>\n      <th>1</th>\n      <td>Aruba</td>\n      <td>ABW</td>\n      <td>1961</td>\n      <td>55811</td>\n    </tr>\n    <tr>\n      <th>2</th>\n      <td>Aruba</td>\n      <td>ABW</td>\n      <td>1962</td>\n      <td>56682</td>\n    </tr>\n    <tr>\n      <th>3</th>\n      <td>Aruba</td>\n      <td>ABW</td>\n      <td>1963</td>\n      <td>57475</td>\n    </tr>\n    <tr>\n      <th>4</th>\n      <td>Aruba</td>\n      <td>ABW</td>\n      <td>1964</td>\n      <td>58178</td>\n    </tr>\n    <tr>\n      <th>...</th>\n      <td>...</td>\n      <td>...</td>\n      <td>...</td>\n      <td>...</td>\n    </tr>\n    <tr>\n      <th>16395</th>\n      <td>Zimbabwe</td>\n      <td>ZWE</td>\n      <td>2017</td>\n      <td>14751101</td>\n    </tr>\n    <tr>\n      <th>16396</th>\n      <td>Zimbabwe</td>\n      <td>ZWE</td>\n      <td>2018</td>\n      <td>15052184</td>\n    </tr>\n    <tr>\n      <th>16397</th>\n      <td>Zimbabwe</td>\n      <td>ZWE</td>\n      <td>2019</td>\n      <td>15354608</td>\n    </tr>\n    <tr>\n      <th>16398</th>\n      <td>Zimbabwe</td>\n      <td>ZWE</td>\n      <td>2020</td>\n      <td>15669666</td>\n    </tr>\n    <tr>\n      <th>16399</th>\n      <td>Zimbabwe</td>\n      <td>ZWE</td>\n      <td>2021</td>\n      <td>15993524</td>\n    </tr>\n  </tbody>\n</table>\n<p>16400 rows × 4 columns</p>\n</div>"
     },
     "execution_count": 22,
     "metadata": {},
     "output_type": "execute_result"
    }
   ],
   "source": [
    "# 3\n",
    "mask = population.Value > 1000\n",
    "population.loc[mask]"
   ],
   "metadata": {
    "collapsed": false,
    "pycharm": {
     "name": "#%%\n"
    }
   }
  },
  {
   "cell_type": "markdown",
   "source": [
    "# Создание выборок\n",
    "\n",
    "Параметр frac в методе .sample() используется для определения доли строк, которые нужно выбрать из DataFrame. Значение frac должно быть числом от 0 до 1, но оно может также превышать 1 в некоторых случаях. Вот как разные значения frac влияют на выборку:\n",
    "\n",
    "Возможные значения параметра frac:\n",
    "* frac=1:\n",
    "\n",
    "Выбирает 100% строк из DataFrame, то есть все строки. При этом строки выбираются случайным образом и перемешиваются.\n",
    "\n",
    "* frac < 1 (например, frac=0.5):\n",
    "\n",
    "Выбирает определенную долю строк из DataFrame. Например, если frac=0.5, выбирается 50% строк случайным образом.\n",
    "Это полезно для случайной выборки подмножества данных."
   ],
   "metadata": {
    "collapsed": false,
    "pycharm": {
     "name": "#%% md\n"
    }
   }
  },
  {
   "cell_type": "code",
   "execution_count": 23,
   "outputs": [
    {
     "name": "stdout",
     "output_type": "stream",
     "text": [
      "50% выборка:\n",
      "    A  B\n",
      "4  5  e\n",
      "2  3  c\n",
      "\n",
      "100% выборка с перемешиванием:\n",
      "    A  B\n",
      "0  1  a\n",
      "3  4  d\n",
      "4  5  e\n",
      "1  2  b\n",
      "2  3  c\n",
      "\n",
      "200% выборка (с повторением):\n",
      "    A  B\n",
      "3  4  d\n",
      "0  1  a\n",
      "3  4  d\n",
      "3  4  d\n",
      "4  5  e\n",
      "2  3  c\n",
      "2  3  c\n",
      "4  5  e\n",
      "3  4  d\n",
      "0  1  a\n"
     ]
    }
   ],
   "source": [
    "import pandas as pd\n",
    "\n",
    "# Пример DataFrame\n",
    "data = {\n",
    "    'A': [1, 2, 3, 4, 5],\n",
    "    'B': ['a', 'b', 'c', 'd', 'e']\n",
    "}\n",
    "df = pd.DataFrame(data)\n",
    "\n",
    "# Выборка 50% строк\n",
    "sample_50 = df.sample(frac=0.5)\n",
    "print(\"50% выборка:\\n\", sample_50)\n",
    "\n",
    "# Выборка всех строк с перемешиванием\n",
    "sample_100 = df.sample(frac=1)\n",
    "print(\"\\n100% выборка с перемешиванием:\\n\", sample_100)\n",
    "\n",
    "# Выборка строк в два раза больше (с повторением)\n",
    "sample_200 = df.sample(frac=2, replace=True)\n",
    "print(\"\\n200% выборка (с повторением):\\n\", sample_200)"
   ],
   "metadata": {
    "collapsed": false,
    "pycharm": {
     "name": "#%%\n"
    }
   }
  },
  {
   "cell_type": "code",
   "execution_count": 25,
   "outputs": [
    {
     "data": {
      "text/plain": "{'A': [1, 2, 3, 4, 5], 'B': ['a', 'b', 'c', 'd', 'e']}"
     },
     "execution_count": 25,
     "metadata": {},
     "output_type": "execute_result"
    }
   ],
   "source": [
    "data"
   ],
   "metadata": {
    "collapsed": false,
    "pycharm": {
     "name": "#%%\n"
    }
   }
  },
  {
   "cell_type": "code",
   "execution_count": null,
   "outputs": [],
   "source": [
    "# subtle point\n",
    "\n",
    "population_shuffled = population.sample(frac = 1)"
   ],
   "metadata": {
    "collapsed": false,
    "pycharm": {
     "name": "#%%\n"
    }
   }
  },
  {
   "cell_type": "code",
   "execution_count": 28,
   "outputs": [
    {
     "data": {
      "text/plain": "array([49.76230138, 53.23593618, 52.73538908, ..., 48.56145263,\n       49.95390795, 50.93480896])"
     },
     "execution_count": 28,
     "metadata": {},
     "output_type": "execute_result"
    }
   ],
   "source": [
    "import numpy as np\n",
    "\n",
    "temp_array = np.random.normal(50,3, 10000)\n",
    "temp_array"
   ],
   "metadata": {
    "collapsed": false,
    "pycharm": {
     "name": "#%%\n"
    }
   }
  },
  {
   "cell_type": "code",
   "execution_count": null,
   "outputs": [],
   "source": [
    "# how to fill NAs\n",
    "\n",
    "# sales['earnings'].fillna(method = 'ffill', inplace = True)"
   ],
   "metadata": {
    "collapsed": false,
    "pycharm": {
     "name": "#%%\n"
    }
   }
  }
 ],
 "metadata": {
  "kernelspec": {
   "display_name": "Python 3",
   "language": "python",
   "name": "python3"
  },
  "language_info": {
   "codemirror_mode": {
    "name": "ipython",
    "version": 2
   },
   "file_extension": ".py",
   "mimetype": "text/x-python",
   "name": "python",
   "nbconvert_exporter": "python",
   "pygments_lexer": "ipython2",
   "version": "2.7.6"
  }
 },
 "nbformat": 4,
 "nbformat_minor": 0
}
{
 "cells": [
  {
   "cell_type": "code",
   "execution_count": null,
   "metadata": {
    "pycharm": {
     "name": "#%%\n"
    }
   },
   "outputs": [],
   "source": [
    "'''\n",
    "In this notebook, we'll predict product demand using a Seasonal ARIMA model.\n",
    "You can read more about it here: https://towardsdatascience.com/time-series-forecasting-with-a-sarima-model-db051b7ae459\n",
    "\n",
    "We've set up most of the functionality, so you'll only need to add a few lines of code.\n",
    "'''"
   ]
  },
  {
   "cell_type": "code",
   "execution_count": null,
   "metadata": {
    "pycharm": {
     "name": "#%%\n"
    }
   },
   "outputs": [],
   "source": [
    "### In this cell, we import the resequite libraries.\n",
    "\n",
    "import pandas as pd\n",
    "import numpy as np\n",
    "import pulp\n",
    "\n",
    "import statsmodels.api as sm\n",
    "import matplotlib.pyplot as plt"
   ]
  },
  {
   "cell_type": "code",
   "execution_count": null,
   "metadata": {
    "pycharm": {
     "name": "#%%\n"
    }
   },
   "outputs": [],
   "source": [
    "### In this cell, we read the data into a dataframe called 'orders'.\n",
    "\n",
    "orders = pd.read_csv('updated_orders.csv')"
   ]
  },
  {
   "cell_type": "code",
   "execution_count": null,
   "metadata": {
    "pycharm": {
     "name": "#%%\n"
    }
   },
   "outputs": [],
   "source": [
    "### Predict demand for Port 09\n",
    "### Dataframe (y) must have date as the index and have a single column (called a series)\n",
    "\n",
    "def plot_demand_prediction(y, start_prediction_date):\n",
    "    y.index = pd.to_datetime(y.index)\n",
    "    y = pd.DataFrame(y.reset_index())\n",
    "    y = y[y['Order Date'] < '12/31/2019']\n",
    "    y = y.groupby('Order Date').sum()\n",
    "    \n",
    "    mod = sm.tsa.statespace.SARIMAX(y, order=(1, 1, 1),\n",
    "                                enforce_stationarity=False,\n",
    "                                enforce_invertibility=False)\n",
    "    results = mod.fit()\n",
    "    \n",
    "    pred = results.get_prediction(start=pd.to_datetime(start_prediction_date), dynamic=False)\n",
    "    pred_ci = pred.conf_int()\n",
    "    ax = y['2019':].plot(label='observed')\n",
    "    pred.predicted_mean.plot(ax=ax, label='One-step ahead Forecast', alpha=.7, figsize=(14, 7))\n",
    "    ax.fill_between(pred_ci.index,\n",
    "                    pred_ci.iloc[:, 0],\n",
    "                    pred_ci.iloc[:, 1], color='k', alpha=.2)\n",
    "    ax.set_xlabel('Date')\n",
    "    ax.set_ylabel('Order_Qty')\n",
    "    plt.legend()\n",
    "    plt.show()"
   ]
  },
  {
   "cell_type": "code",
   "execution_count": null,
   "metadata": {
    "pycharm": {
     "name": "#%%\n"
    }
   },
   "outputs": [],
   "source": [
    "### See if you can create a 'y' series to make the above code run. \n",
    "### Hint: You'll need to index into when the destination port is 9. Then, set the index to the order date and use\n",
    "### the unit quantity as the column to plot.\n",
    "### When it works, you shouls see a plot fo the demand forecast.\n",
    "\n",
    "orders.set_index('Order Date', inplace = True)\n",
    "orders = orders[orders['Destination Port'] == 'PORT09']\n",
    "y = orders['Unit quantity']\n",
    "\n",
    "plot_demand_prediction(y, '9/1/19')"
   ]
  }
 ],
 "metadata": {
  "kernelspec": {
   "display_name": "Python 3",
   "language": "python",
   "name": "python3"
  },
  "language_info": {
   "codemirror_mode": {
    "name": "ipython",
    "version": 3
   },
   "file_extension": ".py",
   "mimetype": "text/x-python",
   "name": "python",
   "nbconvert_exporter": "python",
   "pygments_lexer": "ipython3",
   "version": "3.7.6"
  }
 },
 "nbformat": 4,
 "nbformat_minor": 4
}
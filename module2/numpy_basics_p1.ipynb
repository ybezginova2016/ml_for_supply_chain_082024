{
 "cells": [
  {
   "cell_type": "markdown",
   "source": [
    "### Numpy Quick Start\n",
    "* https://numpy.org/doc/stable/user/quickstart.html"
   ],
   "metadata": {
    "collapsed": false,
    "pycharm": {
     "name": "#%% md\n"
    }
   }
  },
  {
   "cell_type": "code",
   "execution_count": 2,
   "outputs": [],
   "source": [
    "import numpy as np\n",
    "import pandas as pd"
   ],
   "metadata": {
    "collapsed": false,
    "pycharm": {
     "name": "#%%\n"
    }
   }
  },
  {
   "cell_type": "code",
   "execution_count": 3,
   "outputs": [],
   "source": [
    "# Установка начального значения генератора случайных чисел\n",
    "np.random.seed(123)"
   ],
   "metadata": {
    "collapsed": false,
    "pycharm": {
     "name": "#%%\n"
    }
   }
  },
  {
   "cell_type": "code",
   "execution_count": 4,
   "outputs": [],
   "source": [
    "# create a vector with intergers from 1 to 100\n",
    "population = np.arange(1, 101)"
   ],
   "metadata": {
    "collapsed": false,
    "pycharm": {
     "name": "#%%\n"
    }
   }
  },
  {
   "cell_type": "code",
   "execution_count": 4,
   "outputs": [
    {
     "data": {
      "text/plain": "array([67, 93, 99, 18, 84, 58, 87, 98, 97, 48])"
     },
     "execution_count": 4,
     "metadata": {},
     "output_type": "execute_result"
    }
   ],
   "source": [
    "# generate a random sample of a size 10 from the population with replacement\n",
    "\n",
    "sample = np.random.choice(population, size=10, replace=True)\n",
    "\n",
    "sample"
   ],
   "metadata": {
    "collapsed": false,
    "pycharm": {
     "name": "#%%\n"
    }
   }
  },
  {
   "cell_type": "code",
   "execution_count": 8,
   "outputs": [
    {
     "data": {
      "text/plain": "array([[67, 93, 99, 18, 84],\n       [58, 87, 98, 97, 48]])"
     },
     "execution_count": 8,
     "metadata": {},
     "output_type": "execute_result"
    }
   ],
   "source": [
    "# сделали вектор в одну строку, а теперь его надо отрешейпить\n",
    "\n",
    "sample_re = sample.reshape(2, 5)\n",
    "sample_re"
   ],
   "metadata": {
    "collapsed": false,
    "pycharm": {
     "name": "#%%\n"
    }
   }
  },
  {
   "cell_type": "markdown",
   "source": [
    "#### Что такое \"seed\"?\n",
    "\n",
    "##### \"Seed\" (или \"начальное значение\") — это число, которое используется для инициализации генератора случайных чисел. Оно определяет начальное состояние генератора, что позволяет ему создавать последовательность случайных чисел, которую можно воспроизвести.\n",
    "\n",
    "##### Для чего используется `np.random.seed(123)`?\n",
    "\n",
    "Эта строка устанавливает начальное значение генератора случайных чисел в NumPy на 123. Это обеспечивает, что каждый раз при выполнении кода с этим значением \"seed\" генератор будет создавать одну и ту же последовательность случайных чисел.\n",
    "\n",
    "Установка \"seed\" важна, когда вы хотите, чтобы результаты генерации случайных чисел были воспроизводимы. Например, если вы делаете эксперимент или тест, который требует случайных данных, установка \"seed\" гарантирует, что результаты будут одинаковыми при каждом запуске кода с этим значением."
   ],
   "metadata": {
    "collapsed": false,
    "pycharm": {
     "name": "#%% md\n"
    }
   }
  },
  {
   "cell_type": "code",
   "execution_count": 5,
   "outputs": [
    {
     "data": {
      "text/plain": "array([0.39211752, 0.34317802, 0.72904971, 0.43857224, 0.0596779 ])"
     },
     "execution_count": 5,
     "metadata": {},
     "output_type": "execute_result"
    }
   ],
   "source": [
    "random_numbers = np.random.rand(5)\n",
    "random_numbers"
   ],
   "metadata": {
    "collapsed": false,
    "pycharm": {
     "name": "#%%\n"
    }
   }
  },
  {
   "cell_type": "code",
   "execution_count": 9,
   "outputs": [
    {
     "data": {
      "text/plain": "(2, 5)"
     },
     "execution_count": 9,
     "metadata": {},
     "output_type": "execute_result"
    }
   ],
   "source": [
    "sample_re.shape"
   ],
   "metadata": {
    "collapsed": false,
    "pycharm": {
     "name": "#%%\n"
    }
   }
  },
  {
   "cell_type": "code",
   "execution_count": 10,
   "outputs": [
    {
     "data": {
      "text/plain": "2"
     },
     "execution_count": 10,
     "metadata": {},
     "output_type": "execute_result"
    }
   ],
   "source": [
    "sample_re.ndim"
   ],
   "metadata": {
    "collapsed": false,
    "pycharm": {
     "name": "#%%\n"
    }
   }
  },
  {
   "cell_type": "code",
   "execution_count": null,
   "outputs": [],
   "source": [
    "# WRONG\n",
    "# a = np.array(1, 2, 3, 4)  # WRONG\n",
    "\n",
    "# Функция np.array() ожидает либо один аргумент (например, список, кортеж и т. д.), который будет преобразован в массив NumPy, либо два аргумента (например, массив и dtype).\n",
    "#\n",
    "# Один аргумент: массив или последовательность данных, которую вы хотите преобразовать в массив NumPy.\n",
    "# Два аргумента: массив или последовательность данных и опционально dtype (тип данных).\n",
    "# В данном случае вы передали четыре позиционных аргумента (1, 2, 3, 4), что не соответствует ожидаемым аргументам функции.\n",
    "\n",
    "# CORRECT\n",
    "\n",
    "a = np.array([1, 2, 3, 4])  # RIGHT\n",
    "# Правильное использование: np.array() принимает один аргумент — список или другую последовательность данных, которую вы хотите преобразовать в массив NumPy.\n",
    "# Почему работает: Вы передали один аргумент, который является списком [1, 2, 3, 4]. Этот список правильно преобразуется в массив NumPy."
   ],
   "metadata": {
    "collapsed": false,
    "pycharm": {
     "name": "#%%\n"
    }
   }
  },
  {
   "cell_type": "code",
   "execution_count": 11,
   "outputs": [
    {
     "data": {
      "text/plain": "array([[1, 2, 3],\n       [5, 6, 7]])"
     },
     "execution_count": 11,
     "metadata": {},
     "output_type": "execute_result"
    }
   ],
   "source": [
    "b = np.array([(1, 2, 3), (5, 6, 7)])\n",
    "b"
   ],
   "metadata": {
    "collapsed": false,
    "pycharm": {
     "name": "#%%\n"
    }
   }
  },
  {
   "cell_type": "code",
   "execution_count": 12,
   "outputs": [
    {
     "data": {
      "text/plain": "array([[1.+0.j, 3.+0.j],\n       [3.+0.j, 6.+0.j]])"
     },
     "execution_count": 12,
     "metadata": {},
     "output_type": "execute_result"
    }
   ],
   "source": [
    "c = np.array([[1, 3], [3, 6]], dtype=complex)\n",
    "c"
   ],
   "metadata": {
    "collapsed": false,
    "pycharm": {
     "name": "#%%\n"
    }
   }
  },
  {
   "cell_type": "code",
   "execution_count": 13,
   "outputs": [
    {
     "data": {
      "text/plain": "array([[1., 4.],\n       [3., 6.],\n       [8., 7.]])"
     },
     "execution_count": 13,
     "metadata": {},
     "output_type": "execute_result"
    }
   ],
   "source": [
    "d = np.array([[1, 4], [3, 6], [8, 7]], dtype=float)\n",
    "d"
   ],
   "metadata": {
    "collapsed": false,
    "pycharm": {
     "name": "#%%\n"
    }
   }
  },
  {
   "cell_type": "code",
   "execution_count": 18,
   "outputs": [
    {
     "data": {
      "text/plain": "array([[0.+0.j, 0.+0.j, 0.+0.j, 0.+0.j],\n       [0.+0.j, 0.+0.j, 0.+0.j, 0.+0.j],\n       [0.+0.j, 0.+0.j, 0.+0.j, 0.+0.j]])"
     },
     "execution_count": 18,
     "metadata": {},
     "output_type": "execute_result"
    }
   ],
   "source": [
    "np.zeros((3, 4), dtype=complex)\n",
    "\n",
    "# (3, 5) — кортеж, указывающий размер массива. Здесь это двумерный массив с двумя \"слоями\", каждый из которых имеет размер 3 x 4."
   ],
   "metadata": {
    "collapsed": false,
    "pycharm": {
     "name": "#%%\n"
    }
   }
  },
  {
   "cell_type": "code",
   "execution_count": 19,
   "outputs": [
    {
     "data": {
      "text/plain": "array([[[1., 1., 1., 1., 1., 1.],\n        [1., 1., 1., 1., 1., 1.],\n        [1., 1., 1., 1., 1., 1.],\n        [1., 1., 1., 1., 1., 1.],\n        [1., 1., 1., 1., 1., 1.]],\n\n       [[1., 1., 1., 1., 1., 1.],\n        [1., 1., 1., 1., 1., 1.],\n        [1., 1., 1., 1., 1., 1.],\n        [1., 1., 1., 1., 1., 1.],\n        [1., 1., 1., 1., 1., 1.]],\n\n       [[1., 1., 1., 1., 1., 1.],\n        [1., 1., 1., 1., 1., 1.],\n        [1., 1., 1., 1., 1., 1.],\n        [1., 1., 1., 1., 1., 1.],\n        [1., 1., 1., 1., 1., 1.]]])"
     },
     "execution_count": 19,
     "metadata": {},
     "output_type": "execute_result"
    }
   ],
   "source": [
    "e = np.ones((3, 5, 6), dtype=float)\n",
    "e\n",
    "# (3, 5, 6) — кортеж, указывающий размер массива. Здесь это трёхмерный массив с 3 \"слоями\", каждый из которых имеет размер 5 x 6."
   ],
   "metadata": {
    "collapsed": false,
    "pycharm": {
     "name": "#%%\n"
    }
   }
  },
  {
   "cell_type": "code",
   "execution_count": 21,
   "outputs": [
    {
     "data": {
      "text/plain": "(3, 5, 6)"
     },
     "execution_count": 21,
     "metadata": {},
     "output_type": "execute_result"
    }
   ],
   "source": [
    "# понять массив\n",
    "e.shape"
   ],
   "metadata": {
    "collapsed": false,
    "pycharm": {
     "name": "#%%\n"
    }
   }
  },
  {
   "cell_type": "code",
   "execution_count": 22,
   "outputs": [
    {
     "data": {
      "text/plain": "dtype('float64')"
     },
     "execution_count": 22,
     "metadata": {},
     "output_type": "execute_result"
    }
   ],
   "source": [
    "e.dtype\n",
    "e.dtype"
   ],
   "metadata": {
    "collapsed": false,
    "pycharm": {
     "name": "#%%\n"
    }
   }
  },
  {
   "cell_type": "code",
   "execution_count": 30,
   "outputs": [
    {
     "data": {
      "text/plain": "array([2, 4, 6, 8])"
     },
     "execution_count": 30,
     "metadata": {},
     "output_type": "execute_result"
    }
   ],
   "source": [
    "data = np.array([2, 4, 6, 8])\n",
    "data"
   ],
   "metadata": {
    "collapsed": false,
    "pycharm": {
     "name": "#%%\n"
    }
   }
  },
  {
   "cell_type": "code",
   "execution_count": 31,
   "outputs": [
    {
     "data": {
      "text/plain": "array([4, 6, 8])"
     },
     "execution_count": 31,
     "metadata": {},
     "output_type": "execute_result"
    }
   ],
   "source": [
    "data[1:5]\n"
   ],
   "metadata": {
    "collapsed": false,
    "pycharm": {
     "name": "#%%\n"
    }
   }
  },
  {
   "cell_type": "code",
   "execution_count": 34,
   "outputs": [
    {
     "data": {
      "text/plain": "array([1., 3., 5., 7.])"
     },
     "execution_count": 34,
     "metadata": {},
     "output_type": "execute_result"
    }
   ],
   "source": [
    "ones = np.ones(4)\n",
    "data - ones"
   ],
   "metadata": {
    "collapsed": false,
    "pycharm": {
     "name": "#%%\n"
    }
   }
  },
  {
   "cell_type": "code",
   "execution_count": 35,
   "outputs": [
    {
     "data": {
      "text/plain": "[2, 8, 10, 18, 40, 22]"
     },
     "execution_count": 35,
     "metadata": {},
     "output_type": "execute_result"
    }
   ],
   "source": [
    "l = [2, 8, 10, 18, 40, 22]\n",
    "l"
   ],
   "metadata": {
    "collapsed": false,
    "pycharm": {
     "name": "#%%\n"
    }
   }
  },
  {
   "cell_type": "code",
   "execution_count": 40,
   "outputs": [
    {
     "data": {
      "text/plain": "14.0"
     },
     "execution_count": 40,
     "metadata": {},
     "output_type": "execute_result"
    }
   ],
   "source": [
    "np.median(l)"
   ],
   "metadata": {
    "collapsed": false,
    "pycharm": {
     "name": "#%%\n"
    }
   }
  },
  {
   "cell_type": "code",
   "execution_count": 42,
   "outputs": [
    {
     "data": {
      "text/plain": "{'Product_ID': ['21499',\n  '22458',\n  '22898',\n  '22303',\n  '22302',\n  '22961',\n  '22386',\n  '85099B',\n  '22862',\n  '22896',\n  '22667',\n  '22379',\n  '20682',\n  '20718',\n  '21498',\n  '22808',\n  '85123A',\n  '22062',\n  '22644',\n  '22508'],\n 'Quantity': [25,\n  8,\n  8,\n  6,\n  6,\n  12,\n  10,\n  10,\n  4,\n  6,\n  6,\n  5,\n  6,\n  10,\n  25,\n  12,\n  12,\n  24,\n  60,\n  16],\n 'Item_Total': [10.5,\n  20.4,\n  15.6,\n  15.3,\n  15.3,\n  17.4,\n  19.5,\n  19.5,\n  17,\n  15.3,\n  17.7,\n  10.5,\n  19.5,\n  12.5,\n  10.5,\n  35.4,\n  35.4,\n  70.8,\n  87,\n  54.24]}"
     },
     "execution_count": 42,
     "metadata": {},
     "output_type": "execute_result"
    }
   ],
   "source": [
    "# Creating the data as a dictionary\n",
    "# Изучите таблицу ниже. По данным таблицы вычислите среднее значение столбца Item_Total только для тех строк, для которых Quantity > 20.\n",
    "data = {\n",
    "    'Product_ID': ['21499', '22458', '22898', '22303', '22302', '22961', '22386', '85099B', '22862', '22896',\n",
    "                   '22667', '22379', '20682', '20718', '21498', '22808', '85123A', '22062', '22644', '22508'],\n",
    "    'Quantity': [25, 8, 8, 6, 6, 12, 10, 10, 4, 6, 6, 5, 6, 10, 25, 12, 12, 24, 60, 16],\n",
    "    'Item_Total': [10.5, 20.4, 15.6, 15.3, 15.3, 17.4, 19.5, 19.5, 17, 15.3, 17.7, 10.5, 19.5, 12.5, 10.5, 35.4,\n",
    "                   35.4, 70.8, 87, 54.24]\n",
    "}\n",
    "data"
   ],
   "metadata": {
    "collapsed": false,
    "pycharm": {
     "name": "#%%\n"
    }
   }
  },
  {
   "cell_type": "code",
   "execution_count": 45,
   "outputs": [
    {
     "name": "stdout",
     "output_type": "stream",
     "text": [
      "   Product_ID  Quantity  Item_Total\n",
      "0       21499        25       10.50\n",
      "1       22458         8       20.40\n",
      "2       22898         8       15.60\n",
      "3       22303         6       15.30\n",
      "4       22302         6       15.30\n",
      "5       22961        12       17.40\n",
      "6       22386        10       19.50\n",
      "7      85099B        10       19.50\n",
      "8       22862         4       17.00\n",
      "9       22896         6       15.30\n",
      "10      22667         6       17.70\n",
      "11      22379         5       10.50\n",
      "12      20682         6       19.50\n",
      "13      20718        10       12.50\n",
      "14      21498        25       10.50\n",
      "15      22808        12       35.40\n",
      "16     85123A        12       35.40\n",
      "17      22062        24       70.80\n",
      "18      22644        60       87.00\n",
      "19      22508        16       54.24\n"
     ]
    }
   ],
   "source": [
    "# Creating the DataFrame\n",
    "df = pd.DataFrame(data)\n",
    "\n",
    "# Displaying the DataFrame\n",
    "print(df)"
   ],
   "metadata": {
    "collapsed": false,
    "pycharm": {
     "name": "#%%\n"
    }
   }
  },
  {
   "cell_type": "code",
   "execution_count": 61,
   "outputs": [
    {
     "name": "stdout",
     "output_type": "stream",
     "text": [
      "The median value of Item_Total for quantities greater than 20 is: 40.65\n",
      "[10.5, 10.5, 70.8, 87.0]\n"
     ]
    }
   ],
   "source": [
    "list_s = []\n",
    "\n",
    "# Используем zip для объединения столбцов Quantity и Item_Total в пары\n",
    "for quantity, item_total in zip(df['Quantity'], df['Item_Total']):\n",
    "    if quantity > 20:  # Проверяем, если количество больше 20\n",
    "        list_s.append(item_total) # Если да, добавляем соответствующее Item_Total в список\n",
    "\n",
    "print(list_s)\n",
    "\n",
    "# Объяснение:\n",
    "\n",
    "# zip(df['Quantity'], df['Item_Total']): Мы используем zip, чтобы объединить соответствующие значения из столбцов Quantity и Item_Total в пары. Это позволяет проверять каждую пару значений.\n",
    "# if quantity > 20:: Условие теперь проверяется для каждого значения в столбце Quantity.\n",
    "# list_s.append(item_total): Если условие выполнено (т.е. Quantity > 20), соответствующее значение Item_Total добавляется в список list_s."
   ],
   "metadata": {
    "collapsed": false,
    "pycharm": {
     "name": "#%%\n"
    }
   }
  },
  {
   "cell_type": "code",
   "execution_count": 62,
   "outputs": [
    {
     "name": "stdout",
     "output_type": "stream",
     "text": [
      "The median value of Item_Total for quantities greater than 20 is: 40.65\n"
     ]
    }
   ],
   "source": [
    "# Вычисляем медиану списка\n",
    "median_value = pd.Series(list_s).median()\n",
    "print(f\"The median value of Item_Total for quantities greater than 20 is: {median_value}\")"
   ],
   "metadata": {
    "collapsed": false,
    "pycharm": {
     "name": "#%%\n"
    }
   }
  },
  {
   "cell_type": "code",
   "execution_count": 65,
   "outputs": [
    {
     "name": "stdout",
     "output_type": "stream",
     "text": [
      "The median value of Item_Total for quantities greater than 20 is: 44.7\n"
     ]
    }
   ],
   "source": [
    "# Вычисляем медиану списка\n",
    "mean_value = pd.Series(list_s).mean()\n",
    "print(f\"The median value of Item_Total for quantities greater than 20 is: {mean_value}\")"
   ],
   "metadata": {
    "collapsed": false,
    "pycharm": {
     "name": "#%%\n"
    }
   }
  },
  {
   "cell_type": "code",
   "execution_count": 56,
   "outputs": [],
   "source": [
    "# Фильтрация строк, где Quantity > 20\n",
    "filtered_df = df[df['Quantity'] > 20]"
   ],
   "metadata": {
    "collapsed": false,
    "pycharm": {
     "name": "#%%\n"
    }
   }
  },
  {
   "cell_type": "code",
   "execution_count": 63,
   "outputs": [
    {
     "data": {
      "text/plain": "0      True\n1     False\n2     False\n3     False\n4     False\n5     False\n6     False\n7     False\n8     False\n9     False\n10    False\n11    False\n12    False\n13    False\n14     True\n15    False\n16    False\n17     True\n18     True\n19    False\nName: Quantity, dtype: bool"
     },
     "execution_count": 63,
     "metadata": {},
     "output_type": "execute_result"
    }
   ],
   "source": [
    "df['Quantity'] > 20\n",
    "#\n",
    "# df['Quantity'] > 20: Эта часть кода создает булевскую маску (логический массив), где для каждой строки DataFrame df проверяется условие: является ли значение в столбце Quantity больше 20. Результатом будет серия True и False, где True соответствует строкам, которые удовлетворяют условию (т.е. где Quantity > 20), а False — тем, которые не удовлетворяют.\n",
    "\n",
    "# Добавление df[] к булевой маске нужно для того, чтобы отфильтровать строки исходного DataFrame на основе условий, заданных в этой маске. Давайте рассмотрим, почему это необходимо и что происходит в процессе."
   ],
   "metadata": {
    "collapsed": false,
    "pycharm": {
     "name": "#%%\n"
    }
   }
  },
  {
   "cell_type": "markdown",
   "source": [
    "Когда мы пишем df[булева маска], мы используем синтаксис индексации DataFrame для фильтрации строк. Внутри квадратных скобок [] находится наша булева маска. Это приводит к следующему:\n",
    "\n",
    "df[] — это способ доступа к строкам DataFrame, где [] внутри содержит либо индексы строк, либо булевы значения (True/False), указывающие, какие строки следует выбрать."
   ],
   "metadata": {
    "collapsed": false,
    "pycharm": {
     "name": "#%% md\n"
    }
   }
  },
  {
   "cell_type": "code",
   "execution_count": 57,
   "outputs": [
    {
     "name": "stdout",
     "output_type": "stream",
     "text": [
      "Среднее значение столбца Item_Total для строк, где Quantity > 20: 44.7\n"
     ]
    }
   ],
   "source": [
    "# Вычисление среднего значения столбца Item_Total для отфильтрованных строк\n",
    "mean_item_total = filtered_df['Item_Total'].mean()\n",
    "\n",
    "print(f\"Среднее значение столбца Item_Total для строк, где Quantity > 20: {mean_item_total}\")"
   ],
   "metadata": {
    "collapsed": false,
    "pycharm": {
     "name": "#%%\n"
    }
   }
  },
  {
   "cell_type": "code",
   "execution_count": 64,
   "outputs": [
    {
     "name": "stdout",
     "output_type": "stream",
     "text": [
      "  Product_ID  Quantity  Item_Total\n",
      "0      21499        25        10.5\n",
      "4      22644        60        87.0\n"
     ]
    }
   ],
   "source": [
    "data = {\n",
    "    'Product_ID': ['21499', '22458', '22898', '22303', '22644'],\n",
    "    'Quantity': [25, 8, 8, 6, 60],\n",
    "    'Item_Total': [10.5, 20.4, 15.6, 15.3, 87.0]\n",
    "}\n",
    "\n",
    "df = pd.DataFrame(data)\n",
    "\n",
    "# Создаем булеву маску\n",
    "mask = df['Quantity'] > 20\n",
    "\n",
    "# Применяем булеву маску для фильтрации строк\n",
    "filtered_df = df[mask]\n",
    "\n",
    "print(filtered_df)\n"
   ],
   "metadata": {
    "collapsed": false,
    "pycharm": {
     "name": "#%%\n"
    }
   }
  },
  {
   "cell_type": "markdown",
   "source": [
    "#### Распределение бимодальное - так называются распределения с двумя локальными максимумами; суммарная вероятность принять значения 4-5 больше 0.2, тогда как суммарная вероятность принять значения 10-11 около 0.1"
   ],
   "metadata": {
    "collapsed": false,
    "pycharm": {
     "name": "#%% md\n"
    }
   }
  },
  {
   "cell_type": "code",
   "execution_count": null,
   "outputs": [],
   "source": [
    "sorted([42, 123, 0]) # does not change the list\n",
    "# sorted([42, 123, 0]): Эта функция создает новый отсортированный список и возвращает его, не изменяя оригинальный список.\n",
    "\n",
    "[42, 123, 0].sort() # does change the list\n",
    "# [42, 123, 0].sort(): Этот метод сортирует список на месте и не возвращает новый список, а изменяет существующий."
   ],
   "metadata": {
    "collapsed": false,
    "pycharm": {
     "name": "#%%\n"
    }
   }
  },
  {
   "cell_type": "code",
   "execution_count": 1,
   "outputs": [
    {
     "name": "stdout",
     "output_type": "stream",
     "text": [
      "[5, 7, 9]\n"
     ]
    }
   ],
   "source": [
    "result = list(map(lambda x, y: x + y, [1, 2, 3], [4, 5, 6]))\n",
    "print(result)"
   ],
   "metadata": {
    "collapsed": false,
    "pycharm": {
     "name": "#%%\n"
    }
   }
  },
  {
   "cell_type": "markdown",
   "source": [
    "В этом коде происходит следующее:\n",
    "\n",
    "* `map` функция: map применяется к двум спискам [1, 2, 3] и [4, 5, 6]. Она берет каждый элемент из обоих списков поочередно и применяет к ним функцию, указанную в lambda.\n",
    "\n",
    "* `lambda` функция: lambda x, y: x + y — это анонимная функция, которая принимает два аргумента x и y и возвращает их сумму (x + y).\n",
    "\n",
    "* `list(map(...))`: Результат работы map превращается в список с помощью функции list().\n",
    "\n",
    "Что происходит шаг за шагом:\n",
    "\n",
    "* При первом вызове lambda:\n",
    "\n",
    "x = 1, y = 4, результат: 1 + 4 = 5\n",
    "\n",
    "* При втором вызове lambda:\n",
    "x = 2, y = 5, результат: 2 + 5 = 7\n",
    "\n",
    "* При третьем вызове lambda:\n",
    "x = 3, y = 6, результат: 3 + 6 = 9\n",
    "\n",
    "**Результат:** Код складывает соответствующие элементы из двух списков и создает новый список с результатами."
   ],
   "metadata": {
    "collapsed": false,
    "pycharm": {
     "name": "#%% md\n"
    }
   }
  },
  {
   "cell_type": "code",
   "execution_count": 5,
   "outputs": [],
   "source": [
    "A  = np.ones((4, 3)) *3\n",
    "\n",
    "B = np.zeros((4,3)) + 3"
   ],
   "metadata": {
    "collapsed": false,
    "pycharm": {
     "name": "#%%\n"
    }
   }
  },
  {
   "cell_type": "code",
   "execution_count": 6,
   "outputs": [
    {
     "data": {
      "text/plain": "array([[3., 3., 3.],\n       [3., 3., 3.],\n       [3., 3., 3.],\n       [3., 3., 3.]])"
     },
     "execution_count": 6,
     "metadata": {},
     "output_type": "execute_result"
    }
   ],
   "source": [
    "A"
   ],
   "metadata": {
    "collapsed": false,
    "pycharm": {
     "name": "#%%\n"
    }
   }
  },
  {
   "cell_type": "code",
   "execution_count": 7,
   "outputs": [
    {
     "data": {
      "text/plain": "array([[3., 3., 3.],\n       [3., 3., 3.],\n       [3., 3., 3.],\n       [3., 3., 3.]])"
     },
     "execution_count": 7,
     "metadata": {},
     "output_type": "execute_result"
    }
   ],
   "source": [
    "B"
   ],
   "metadata": {
    "collapsed": false,
    "pycharm": {
     "name": "#%%\n"
    }
   }
  },
  {
   "cell_type": "code",
   "execution_count": 8,
   "outputs": [
    {
     "data": {
      "text/plain": "array([[9., 9., 9.],\n       [9., 9., 9.],\n       [9., 9., 9.],\n       [9., 9., 9.]])"
     },
     "execution_count": 8,
     "metadata": {},
     "output_type": "execute_result"
    }
   ],
   "source": [
    "C = 2 * B + A\n",
    "C"
   ],
   "metadata": {
    "collapsed": false,
    "pycharm": {
     "name": "#%%\n"
    }
   }
  },
  {
   "cell_type": "code",
   "execution_count": 9,
   "outputs": [
    {
     "data": {
      "text/plain": "9.0"
     },
     "execution_count": 9,
     "metadata": {},
     "output_type": "execute_result"
    }
   ],
   "source": [
    "C[3,2]"
   ],
   "metadata": {
    "collapsed": false,
    "pycharm": {
     "name": "#%%\n"
    }
   }
  },
  {
   "cell_type": "code",
   "execution_count": 10,
   "outputs": [
    {
     "data": {
      "text/plain": "array([[3, 2],\n       [6, 5],\n       [5, 9]])"
     },
     "execution_count": 10,
     "metadata": {},
     "output_type": "execute_result"
    }
   ],
   "source": [
    "mat = np.array([[3, 2], [6, 5], [5, 9]])\n",
    "mat"
   ],
   "metadata": {
    "collapsed": false,
    "pycharm": {
     "name": "#%%\n"
    }
   }
  },
  {
   "cell_type": "code",
   "execution_count": 11,
   "outputs": [
    {
     "data": {
      "text/plain": "array([6, 9])"
     },
     "execution_count": 11,
     "metadata": {},
     "output_type": "execute_result"
    }
   ],
   "source": [
    "mat.max(axis=0) # aggregating by col"
   ],
   "metadata": {
    "collapsed": false,
    "pycharm": {
     "name": "#%%\n"
    }
   }
  },
  {
   "cell_type": "code",
   "execution_count": 13,
   "outputs": [
    {
     "data": {
      "text/plain": "array([3, 6, 9])"
     },
     "execution_count": 13,
     "metadata": {},
     "output_type": "execute_result"
    }
   ],
   "source": [
    "mat.max(axis=1) # aggregating by rows"
   ],
   "metadata": {
    "collapsed": false,
    "pycharm": {
     "name": "#%%\n"
    }
   }
  },
  {
   "cell_type": "code",
   "execution_count": 14,
   "outputs": [
    {
     "data": {
      "text/plain": "array([2, 4, 6, 7])"
     },
     "execution_count": 14,
     "metadata": {},
     "output_type": "execute_result"
    }
   ],
   "source": [
    "arr = np.array([2, 4, 6, 7])\n",
    "arr"
   ],
   "metadata": {
    "collapsed": false,
    "pycharm": {
     "name": "#%%\n"
    }
   }
  },
  {
   "cell_type": "markdown",
   "source": [
    "### Зачем использоваться NumPy, почему нельзя просто обойтись листом\n",
    "\n",
    "Создание списка в Python, как в примере arr = [2, 4, 6, 7], и использование библиотеки NumPy для создания массива, как в arr = np.array([2, 4, 6, 7]), имеют разные цели и функциональные возможности. Вот основные причины, почему может понадобиться использование NumPy:\n",
    "\n",
    "Операции с массивами: В NumPy можно выполнять арифметические операции непосредственно на массивах, что значительно упрощает и ускоряет вычисления. Например, если вы хотите умножить каждый элемент массива на 2, в NumPy это можно сделать так:\n",
    "\n",
    "`arr = np.array([2, 4, 6, 7])`\n",
    "`arr * 2`\n",
    "\n",
    "Результатом будет новый массив [4, 8, 12, 14]. В обычном списке вам пришлось бы использовать цикл или list comprehension:\n",
    "\n",
    "`arr = [2, 4, 6, 7]`\n",
    "`arr = [x * 2 for x in arr]`\n",
    "\n",
    "**Производительность:** NumPy написан на C, что делает его операции с массивами гораздо более быстрыми и эффективными по сравнению с аналогичными операциями на обычных списках Python.\n",
    "\n",
    "**Многомерные массивы:** NumPy поддерживает работу с многомерными массивами (матрицами), что позволяет легко выполнять сложные математические операции, такие как линейная алгебра, операции с тензорами и т.д.\n",
    "\n",
    "**Удобство работы с данными:** NumPy предлагает множество удобных функций и методов для работы с массивами, таких как вычисление средних значений, стандартного отклонения, сортировки, и многое другое. Это делает его незаменимым инструментом для научных вычислений, обработки данных и машинного обучения.\n",
    "\n",
    "**Сопоставление данных:** Если вы работаете с большими объемами данных (например, в Data Science), использование списков может быть неудобным и неэффективным. NumPy позволяет эффективно управлять и обрабатывать большие массивы данных с минимальными затратами памяти."
   ],
   "metadata": {
    "collapsed": false,
    "pycharm": {
     "name": "#%% md\n"
    }
   }
  },
  {
   "cell_type": "code",
   "execution_count": 15,
   "outputs": [
    {
     "data": {
      "text/plain": "array([ 4,  8, 12, 14])"
     },
     "execution_count": 15,
     "metadata": {},
     "output_type": "execute_result"
    }
   ],
   "source": [
    "arr * 2"
   ],
   "metadata": {
    "collapsed": false,
    "pycharm": {
     "name": "#%%\n"
    }
   }
  },
  {
   "cell_type": "code",
   "execution_count": 16,
   "outputs": [],
   "source": [
    "# n-D Array = array with one or more dimensions"
   ],
   "metadata": {
    "collapsed": false,
    "pycharm": {
     "name": "#%%\n"
    }
   }
  },
  {
   "cell_type": "code",
   "execution_count": null,
   "outputs": [],
   "source": [],
   "metadata": {
    "collapsed": false,
    "pycharm": {
     "name": "#%%\n"
    }
   }
  }
 ],
 "metadata": {
  "kernelspec": {
   "display_name": "Python 3",
   "language": "python",
   "name": "python3"
  },
  "language_info": {
   "codemirror_mode": {
    "name": "ipython",
    "version": 2
   },
   "file_extension": ".py",
   "mimetype": "text/x-python",
   "name": "python",
   "nbconvert_exporter": "python",
   "pygments_lexer": "ipython2",
   "version": "2.7.6"
  }
 },
 "nbformat": 4,
 "nbformat_minor": 0
}
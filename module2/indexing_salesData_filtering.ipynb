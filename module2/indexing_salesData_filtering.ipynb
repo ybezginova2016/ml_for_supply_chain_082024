{
 "cells": [
  {
   "cell_type": "code",
   "execution_count": 69,
   "outputs": [],
   "source": [
    "import pandas as pd"
   ],
   "metadata": {
    "collapsed": false,
    "pycharm": {
     "name": "#%%\n"
    }
   }
  },
  {
   "cell_type": "code",
   "execution_count": 111,
   "outputs": [
    {
     "data": {
      "text/plain": "    Invoice ID Branch       City Customer type  Gender  \\\n0  750-67-8428      A     Yangon        Member  Female   \n1  226-31-3081      C  Naypyitaw        Normal  Female   \n2  631-41-3108      A     Yangon        Normal    Male   \n3  123-19-1176      A     Yangon        Member    Male   \n4  373-73-7910      A     Yangon        Normal    Male   \n\n             Product line  Unit price  Quantity   Tax 5%     Total       Date  \\\n0       Health and beauty       74.69         7  26.1415  548.9715   1/5/2019   \n1  Electronic accessories       15.28         5   3.8200   80.2200   3/8/2019   \n2      Home and lifestyle       46.33         7  16.2155  340.5255   3/3/2019   \n3       Health and beauty       58.22         8  23.2880  489.0480  1/27/2019   \n4       Sports and travel       86.31         7  30.2085  634.3785   2/8/2019   \n\n    Time      Payment  Cost of goods sold  Gross margin percentage  \\\n0  13:08      Ewallet              522.83                 4.761905   \n1  10:29         Cash               76.40                 4.761905   \n2  13:23  Credit card              324.31                 4.761905   \n3  20:33      Ewallet              465.76                 4.761905   \n4  10:37      Ewallet              604.17                 4.761905   \n\n   Gross income  Customer stratification rating  \n0       26.1415                             9.1  \n1        3.8200                             9.6  \n2       16.2155                             7.4  \n3       23.2880                             8.4  \n4       30.2085                             5.3  ",
      "text/html": "<div>\n<style scoped>\n    .dataframe tbody tr th:only-of-type {\n        vertical-align: middle;\n    }\n\n    .dataframe tbody tr th {\n        vertical-align: top;\n    }\n\n    .dataframe thead th {\n        text-align: right;\n    }\n</style>\n<table border=\"1\" class=\"dataframe\">\n  <thead>\n    <tr style=\"text-align: right;\">\n      <th></th>\n      <th>Invoice ID</th>\n      <th>Branch</th>\n      <th>City</th>\n      <th>Customer type</th>\n      <th>Gender</th>\n      <th>Product line</th>\n      <th>Unit price</th>\n      <th>Quantity</th>\n      <th>Tax 5%</th>\n      <th>Total</th>\n      <th>Date</th>\n      <th>Time</th>\n      <th>Payment</th>\n      <th>Cost of goods sold</th>\n      <th>Gross margin percentage</th>\n      <th>Gross income</th>\n      <th>Customer stratification rating</th>\n    </tr>\n  </thead>\n  <tbody>\n    <tr>\n      <th>0</th>\n      <td>750-67-8428</td>\n      <td>A</td>\n      <td>Yangon</td>\n      <td>Member</td>\n      <td>Female</td>\n      <td>Health and beauty</td>\n      <td>74.69</td>\n      <td>7</td>\n      <td>26.1415</td>\n      <td>548.9715</td>\n      <td>1/5/2019</td>\n      <td>13:08</td>\n      <td>Ewallet</td>\n      <td>522.83</td>\n      <td>4.761905</td>\n      <td>26.1415</td>\n      <td>9.1</td>\n    </tr>\n    <tr>\n      <th>1</th>\n      <td>226-31-3081</td>\n      <td>C</td>\n      <td>Naypyitaw</td>\n      <td>Normal</td>\n      <td>Female</td>\n      <td>Electronic accessories</td>\n      <td>15.28</td>\n      <td>5</td>\n      <td>3.8200</td>\n      <td>80.2200</td>\n      <td>3/8/2019</td>\n      <td>10:29</td>\n      <td>Cash</td>\n      <td>76.40</td>\n      <td>4.761905</td>\n      <td>3.8200</td>\n      <td>9.6</td>\n    </tr>\n    <tr>\n      <th>2</th>\n      <td>631-41-3108</td>\n      <td>A</td>\n      <td>Yangon</td>\n      <td>Normal</td>\n      <td>Male</td>\n      <td>Home and lifestyle</td>\n      <td>46.33</td>\n      <td>7</td>\n      <td>16.2155</td>\n      <td>340.5255</td>\n      <td>3/3/2019</td>\n      <td>13:23</td>\n      <td>Credit card</td>\n      <td>324.31</td>\n      <td>4.761905</td>\n      <td>16.2155</td>\n      <td>7.4</td>\n    </tr>\n    <tr>\n      <th>3</th>\n      <td>123-19-1176</td>\n      <td>A</td>\n      <td>Yangon</td>\n      <td>Member</td>\n      <td>Male</td>\n      <td>Health and beauty</td>\n      <td>58.22</td>\n      <td>8</td>\n      <td>23.2880</td>\n      <td>489.0480</td>\n      <td>1/27/2019</td>\n      <td>20:33</td>\n      <td>Ewallet</td>\n      <td>465.76</td>\n      <td>4.761905</td>\n      <td>23.2880</td>\n      <td>8.4</td>\n    </tr>\n    <tr>\n      <th>4</th>\n      <td>373-73-7910</td>\n      <td>A</td>\n      <td>Yangon</td>\n      <td>Normal</td>\n      <td>Male</td>\n      <td>Sports and travel</td>\n      <td>86.31</td>\n      <td>7</td>\n      <td>30.2085</td>\n      <td>634.3785</td>\n      <td>2/8/2019</td>\n      <td>10:37</td>\n      <td>Ewallet</td>\n      <td>604.17</td>\n      <td>4.761905</td>\n      <td>30.2085</td>\n      <td>5.3</td>\n    </tr>\n  </tbody>\n</table>\n</div>"
     },
     "execution_count": 111,
     "metadata": {},
     "output_type": "execute_result"
    }
   ],
   "source": [
    "sales = pd.read_csv(\"C:\\\\Users\\\\HOME\\\\Documents\\\\data_science\\\\ml_for_supply_chain_082024\\\\module2\\\\supermarket_Sales.csv\")\n",
    "sales.head()"
   ],
   "metadata": {
    "collapsed": false,
    "pycharm": {
     "name": "#%%\n"
    }
   }
  },
  {
   "cell_type": "code",
   "execution_count": 112,
   "outputs": [
    {
     "data": {
      "text/plain": "RangeIndex(start=0, stop=1000, step=1)"
     },
     "execution_count": 112,
     "metadata": {},
     "output_type": "execute_result"
    }
   ],
   "source": [
    "sales.index"
   ],
   "metadata": {
    "collapsed": false,
    "pycharm": {
     "name": "#%%\n"
    }
   }
  },
  {
   "cell_type": "code",
   "execution_count": 113,
   "outputs": [
    {
     "data": {
      "text/plain": "array([  0,   1,   2,   3,   4,   5,   6,   7,   8,   9,  10,  11,  12,\n        13,  14,  15,  16,  17,  18,  19,  20,  21,  22,  23,  24,  25,\n        26,  27,  28,  29,  30,  31,  32,  33,  34,  35,  36,  37,  38,\n        39,  40,  41,  42,  43,  44,  45,  46,  47,  48,  49,  50,  51,\n        52,  53,  54,  55,  56,  57,  58,  59,  60,  61,  62,  63,  64,\n        65,  66,  67,  68,  69,  70,  71,  72,  73,  74,  75,  76,  77,\n        78,  79,  80,  81,  82,  83,  84,  85,  86,  87,  88,  89,  90,\n        91,  92,  93,  94,  95,  96,  97,  98,  99, 100, 101, 102, 103,\n       104, 105, 106, 107, 108, 109, 110, 111, 112, 113, 114, 115, 116,\n       117, 118, 119, 120, 121, 122, 123, 124, 125, 126, 127, 128, 129,\n       130, 131, 132, 133, 134, 135, 136, 137, 138, 139, 140, 141, 142,\n       143, 144, 145, 146, 147, 148, 149, 150, 151, 152, 153, 154, 155,\n       156, 157, 158, 159, 160, 161, 162, 163, 164, 165, 166, 167, 168,\n       169, 170, 171, 172, 173, 174, 175, 176, 177, 178, 179, 180, 181,\n       182, 183, 184, 185, 186, 187, 188, 189, 190, 191, 192, 193, 194,\n       195, 196, 197, 198, 199, 200, 201, 202, 203, 204, 205, 206, 207,\n       208, 209, 210, 211, 212, 213, 214, 215, 216, 217, 218, 219, 220,\n       221, 222, 223, 224, 225, 226, 227, 228, 229, 230, 231, 232, 233,\n       234, 235, 236, 237, 238, 239, 240, 241, 242, 243, 244, 245, 246,\n       247, 248, 249, 250, 251, 252, 253, 254, 255, 256, 257, 258, 259,\n       260, 261, 262, 263, 264, 265, 266, 267, 268, 269, 270, 271, 272,\n       273, 274, 275, 276, 277, 278, 279, 280, 281, 282, 283, 284, 285,\n       286, 287, 288, 289, 290, 291, 292, 293, 294, 295, 296, 297, 298,\n       299, 300, 301, 302, 303, 304, 305, 306, 307, 308, 309, 310, 311,\n       312, 313, 314, 315, 316, 317, 318, 319, 320, 321, 322, 323, 324,\n       325, 326, 327, 328, 329, 330, 331, 332, 333, 334, 335, 336, 337,\n       338, 339, 340, 341, 342, 343, 344, 345, 346, 347, 348, 349, 350,\n       351, 352, 353, 354, 355, 356, 357, 358, 359, 360, 361, 362, 363,\n       364, 365, 366, 367, 368, 369, 370, 371, 372, 373, 374, 375, 376,\n       377, 378, 379, 380, 381, 382, 383, 384, 385, 386, 387, 388, 389,\n       390, 391, 392, 393, 394, 395, 396, 397, 398, 399, 400, 401, 402,\n       403, 404, 405, 406, 407, 408, 409, 410, 411, 412, 413, 414, 415,\n       416, 417, 418, 419, 420, 421, 422, 423, 424, 425, 426, 427, 428,\n       429, 430, 431, 432, 433, 434, 435, 436, 437, 438, 439, 440, 441,\n       442, 443, 444, 445, 446, 447, 448, 449, 450, 451, 452, 453, 454,\n       455, 456, 457, 458, 459, 460, 461, 462, 463, 464, 465, 466, 467,\n       468, 469, 470, 471, 472, 473, 474, 475, 476, 477, 478, 479, 480,\n       481, 482, 483, 484, 485, 486, 487, 488, 489, 490, 491, 492, 493,\n       494, 495, 496, 497, 498, 499, 500, 501, 502, 503, 504, 505, 506,\n       507, 508, 509, 510, 511, 512, 513, 514, 515, 516, 517, 518, 519,\n       520, 521, 522, 523, 524, 525, 526, 527, 528, 529, 530, 531, 532,\n       533, 534, 535, 536, 537, 538, 539, 540, 541, 542, 543, 544, 545,\n       546, 547, 548, 549, 550, 551, 552, 553, 554, 555, 556, 557, 558,\n       559, 560, 561, 562, 563, 564, 565, 566, 567, 568, 569, 570, 571,\n       572, 573, 574, 575, 576, 577, 578, 579, 580, 581, 582, 583, 584,\n       585, 586, 587, 588, 589, 590, 591, 592, 593, 594, 595, 596, 597,\n       598, 599, 600, 601, 602, 603, 604, 605, 606, 607, 608, 609, 610,\n       611, 612, 613, 614, 615, 616, 617, 618, 619, 620, 621, 622, 623,\n       624, 625, 626, 627, 628, 629, 630, 631, 632, 633, 634, 635, 636,\n       637, 638, 639, 640, 641, 642, 643, 644, 645, 646, 647, 648, 649,\n       650, 651, 652, 653, 654, 655, 656, 657, 658, 659, 660, 661, 662,\n       663, 664, 665, 666, 667, 668, 669, 670, 671, 672, 673, 674, 675,\n       676, 677, 678, 679, 680, 681, 682, 683, 684, 685, 686, 687, 688,\n       689, 690, 691, 692, 693, 694, 695, 696, 697, 698, 699, 700, 701,\n       702, 703, 704, 705, 706, 707, 708, 709, 710, 711, 712, 713, 714,\n       715, 716, 717, 718, 719, 720, 721, 722, 723, 724, 725, 726, 727,\n       728, 729, 730, 731, 732, 733, 734, 735, 736, 737, 738, 739, 740,\n       741, 742, 743, 744, 745, 746, 747, 748, 749, 750, 751, 752, 753,\n       754, 755, 756, 757, 758, 759, 760, 761, 762, 763, 764, 765, 766,\n       767, 768, 769, 770, 771, 772, 773, 774, 775, 776, 777, 778, 779,\n       780, 781, 782, 783, 784, 785, 786, 787, 788, 789, 790, 791, 792,\n       793, 794, 795, 796, 797, 798, 799, 800, 801, 802, 803, 804, 805,\n       806, 807, 808, 809, 810, 811, 812, 813, 814, 815, 816, 817, 818,\n       819, 820, 821, 822, 823, 824, 825, 826, 827, 828, 829, 830, 831,\n       832, 833, 834, 835, 836, 837, 838, 839, 840, 841, 842, 843, 844,\n       845, 846, 847, 848, 849, 850, 851, 852, 853, 854, 855, 856, 857,\n       858, 859, 860, 861, 862, 863, 864, 865, 866, 867, 868, 869, 870,\n       871, 872, 873, 874, 875, 876, 877, 878, 879, 880, 881, 882, 883,\n       884, 885, 886, 887, 888, 889, 890, 891, 892, 893, 894, 895, 896,\n       897, 898, 899, 900, 901, 902, 903, 904, 905, 906, 907, 908, 909,\n       910, 911, 912, 913, 914, 915, 916, 917, 918, 919, 920, 921, 922,\n       923, 924, 925, 926, 927, 928, 929, 930, 931, 932, 933, 934, 935,\n       936, 937, 938, 939, 940, 941, 942, 943, 944, 945, 946, 947, 948,\n       949, 950, 951, 952, 953, 954, 955, 956, 957, 958, 959, 960, 961,\n       962, 963, 964, 965, 966, 967, 968, 969, 970, 971, 972, 973, 974,\n       975, 976, 977, 978, 979, 980, 981, 982, 983, 984, 985, 986, 987,\n       988, 989, 990, 991, 992, 993, 994, 995, 996, 997, 998, 999],\n      dtype=int64)"
     },
     "execution_count": 113,
     "metadata": {},
     "output_type": "execute_result"
    }
   ],
   "source": [
    "sales.index.values"
   ],
   "metadata": {
    "collapsed": false,
    "pycharm": {
     "name": "#%%\n"
    }
   }
  },
  {
   "cell_type": "code",
   "execution_count": 114,
   "outputs": [
    {
     "name": "stdout",
     "output_type": "stream",
     "text": [
      "Invoice ID                              750-67-8428\n",
      "Branch                                            A\n",
      "City                                         Yangon\n",
      "Customer type                                Member\n",
      "Gender                                       Female\n",
      "Product line                      Health and beauty\n",
      "Unit price                                    74.69\n",
      "Quantity                                          7\n",
      "Tax 5%                                      26.1415\n",
      "Total                                      548.9715\n",
      "Date                                       1/5/2019\n",
      "Time                                          13:08\n",
      "Payment                                     Ewallet\n",
      "Cost of goods sold                           522.83\n",
      "Gross margin percentage                    4.761905\n",
      "Gross income                                26.1415\n",
      "Customer stratification rating                  9.1\n",
      "Name: 0, dtype: object\n"
     ]
    }
   ],
   "source": [
    "print(sales.loc[0])"
   ],
   "metadata": {
    "collapsed": false,
    "pycharm": {
     "name": "#%%\n"
    }
   }
  },
  {
   "cell_type": "code",
   "execution_count": 115,
   "outputs": [
    {
     "name": "stdout",
     "output_type": "stream",
     "text": [
      "Invoice ID                                   226-31-3081\n",
      "Branch                                                 C\n",
      "City                                           Naypyitaw\n",
      "Customer type                                     Normal\n",
      "Gender                                            Female\n",
      "Product line                      Electronic accessories\n",
      "Unit price                                         15.28\n",
      "Quantity                                               5\n",
      "Tax 5%                                              3.82\n",
      "Total                                              80.22\n",
      "Date                                            3/8/2019\n",
      "Time                                               10:29\n",
      "Payment                                             Cash\n",
      "Cost of goods sold                                  76.4\n",
      "Gross margin percentage                         4.761905\n",
      "Gross income                                        3.82\n",
      "Customer stratification rating                       9.6\n",
      "Name: 1, dtype: object\n"
     ]
    }
   ],
   "source": [
    "print(sales.loc[1])"
   ],
   "metadata": {
    "collapsed": false,
    "pycharm": {
     "name": "#%%\n"
    }
   }
  },
  {
   "cell_type": "code",
   "execution_count": 116,
   "outputs": [
    {
     "name": "stdout",
     "output_type": "stream",
     "text": [
      "Invoice ID                                   226-31-3081\n",
      "Branch                                                 C\n",
      "City                                           Naypyitaw\n",
      "Customer type                                     Normal\n",
      "Gender                                            Female\n",
      "Product line                      Electronic accessories\n",
      "Unit price                                         15.28\n",
      "Quantity                                               5\n",
      "Tax 5%                                              3.82\n",
      "Total                                              80.22\n",
      "Date                                            3/8/2019\n",
      "Time                                               10:29\n",
      "Payment                                             Cash\n",
      "Cost of goods sold                                  76.4\n",
      "Gross margin percentage                         4.761905\n",
      "Gross income                                        3.82\n",
      "Customer stratification rating                       9.6\n",
      "Name: 1, dtype: object\n"
     ]
    }
   ],
   "source": [
    "print(sales.iloc[1])"
   ],
   "metadata": {
    "collapsed": false,
    "pycharm": {
     "name": "#%%\n"
    }
   }
  },
  {
   "cell_type": "code",
   "execution_count": 131,
   "outputs": [],
   "source": [
    "## Set index to date\n",
    "sales.set_index('Date', inplace = True)"
   ],
   "metadata": {
    "collapsed": false,
    "pycharm": {
     "name": "#%%\n"
    }
   }
  },
  {
   "cell_type": "code",
   "execution_count": 132,
   "outputs": [
    {
     "data": {
      "text/plain": "            Invoice ID Branch       City Customer type  Gender  \\\nDate                                                             \n1/5/2019   750-67-8428      A     Yangon        Member  Female   \n3/8/2019   226-31-3081      C  Naypyitaw        Normal  Female   \n3/3/2019   631-41-3108      A     Yangon        Normal    Male   \n1/27/2019  123-19-1176      A     Yangon        Member    Male   \n2/8/2019   373-73-7910      A     Yangon        Normal    Male   \n...                ...    ...        ...           ...     ...   \n1/29/2019  233-67-5758      C  Naypyitaw        Normal    Male   \n3/2/2019   303-96-2227      B   Mandalay        Normal  Female   \n2/9/2019   727-02-1313      A     Yangon        Member    Male   \n2/22/2019  347-56-2442      A     Yangon        Normal    Male   \n2/18/2019  849-09-3807      A     Yangon        Member  Female   \n\n                     Product line  Unit price  Quantity   Tax 5%      Total  \\\nDate                                                                          \n1/5/2019        Health and beauty       74.69         7  26.1415   548.9715   \n3/8/2019   Electronic accessories       15.28         5   3.8200    80.2200   \n3/3/2019       Home and lifestyle       46.33         7  16.2155   340.5255   \n1/27/2019       Health and beauty       58.22         8  23.2880   489.0480   \n2/8/2019        Sports and travel       86.31         7  30.2085   634.3785   \n...                           ...         ...       ...      ...        ...   \n1/29/2019       Health and beauty       40.35         1   2.0175    42.3675   \n3/2/2019       Home and lifestyle       97.38        10  48.6900  1022.4900   \n2/9/2019       Food and beverages       31.84         1   1.5920    33.4320   \n2/22/2019      Home and lifestyle       65.82         1   3.2910    69.1110   \n2/18/2019     Fashion accessories       88.34         7  30.9190   649.2990   \n\n            Time      Payment  Cost of goods sold  Gross margin percentage  \\\nDate                                                                         \n1/5/2019   13:08      Ewallet              522.83                 4.761905   \n3/8/2019   10:29         Cash               76.40                 4.761905   \n3/3/2019   13:23  Credit card              324.31                 4.761905   \n1/27/2019  20:33      Ewallet              465.76                 4.761905   \n2/8/2019   10:37      Ewallet              604.17                 4.761905   \n...          ...          ...                 ...                      ...   \n1/29/2019  13:46      Ewallet               40.35                 4.761905   \n3/2/2019   17:16      Ewallet              973.80                 4.761905   \n2/9/2019   13:22         Cash               31.84                 4.761905   \n2/22/2019  15:33         Cash               65.82                 4.761905   \n2/18/2019  13:28         Cash              618.38                 4.761905   \n\n           Gross income  Customer stratification rating  \nDate                                                     \n1/5/2019        26.1415                             9.1  \n3/8/2019         3.8200                             9.6  \n3/3/2019        16.2155                             7.4  \n1/27/2019       23.2880                             8.4  \n2/8/2019        30.2085                             5.3  \n...                 ...                             ...  \n1/29/2019        2.0175                             6.2  \n3/2/2019        48.6900                             4.4  \n2/9/2019         1.5920                             7.7  \n2/22/2019        3.2910                             4.1  \n2/18/2019       30.9190                             6.6  \n\n[1000 rows x 16 columns]",
      "text/html": "<div>\n<style scoped>\n    .dataframe tbody tr th:only-of-type {\n        vertical-align: middle;\n    }\n\n    .dataframe tbody tr th {\n        vertical-align: top;\n    }\n\n    .dataframe thead th {\n        text-align: right;\n    }\n</style>\n<table border=\"1\" class=\"dataframe\">\n  <thead>\n    <tr style=\"text-align: right;\">\n      <th></th>\n      <th>Invoice ID</th>\n      <th>Branch</th>\n      <th>City</th>\n      <th>Customer type</th>\n      <th>Gender</th>\n      <th>Product line</th>\n      <th>Unit price</th>\n      <th>Quantity</th>\n      <th>Tax 5%</th>\n      <th>Total</th>\n      <th>Time</th>\n      <th>Payment</th>\n      <th>Cost of goods sold</th>\n      <th>Gross margin percentage</th>\n      <th>Gross income</th>\n      <th>Customer stratification rating</th>\n    </tr>\n    <tr>\n      <th>Date</th>\n      <th></th>\n      <th></th>\n      <th></th>\n      <th></th>\n      <th></th>\n      <th></th>\n      <th></th>\n      <th></th>\n      <th></th>\n      <th></th>\n      <th></th>\n      <th></th>\n      <th></th>\n      <th></th>\n      <th></th>\n      <th></th>\n    </tr>\n  </thead>\n  <tbody>\n    <tr>\n      <th>1/5/2019</th>\n      <td>750-67-8428</td>\n      <td>A</td>\n      <td>Yangon</td>\n      <td>Member</td>\n      <td>Female</td>\n      <td>Health and beauty</td>\n      <td>74.69</td>\n      <td>7</td>\n      <td>26.1415</td>\n      <td>548.9715</td>\n      <td>13:08</td>\n      <td>Ewallet</td>\n      <td>522.83</td>\n      <td>4.761905</td>\n      <td>26.1415</td>\n      <td>9.1</td>\n    </tr>\n    <tr>\n      <th>3/8/2019</th>\n      <td>226-31-3081</td>\n      <td>C</td>\n      <td>Naypyitaw</td>\n      <td>Normal</td>\n      <td>Female</td>\n      <td>Electronic accessories</td>\n      <td>15.28</td>\n      <td>5</td>\n      <td>3.8200</td>\n      <td>80.2200</td>\n      <td>10:29</td>\n      <td>Cash</td>\n      <td>76.40</td>\n      <td>4.761905</td>\n      <td>3.8200</td>\n      <td>9.6</td>\n    </tr>\n    <tr>\n      <th>3/3/2019</th>\n      <td>631-41-3108</td>\n      <td>A</td>\n      <td>Yangon</td>\n      <td>Normal</td>\n      <td>Male</td>\n      <td>Home and lifestyle</td>\n      <td>46.33</td>\n      <td>7</td>\n      <td>16.2155</td>\n      <td>340.5255</td>\n      <td>13:23</td>\n      <td>Credit card</td>\n      <td>324.31</td>\n      <td>4.761905</td>\n      <td>16.2155</td>\n      <td>7.4</td>\n    </tr>\n    <tr>\n      <th>1/27/2019</th>\n      <td>123-19-1176</td>\n      <td>A</td>\n      <td>Yangon</td>\n      <td>Member</td>\n      <td>Male</td>\n      <td>Health and beauty</td>\n      <td>58.22</td>\n      <td>8</td>\n      <td>23.2880</td>\n      <td>489.0480</td>\n      <td>20:33</td>\n      <td>Ewallet</td>\n      <td>465.76</td>\n      <td>4.761905</td>\n      <td>23.2880</td>\n      <td>8.4</td>\n    </tr>\n    <tr>\n      <th>2/8/2019</th>\n      <td>373-73-7910</td>\n      <td>A</td>\n      <td>Yangon</td>\n      <td>Normal</td>\n      <td>Male</td>\n      <td>Sports and travel</td>\n      <td>86.31</td>\n      <td>7</td>\n      <td>30.2085</td>\n      <td>634.3785</td>\n      <td>10:37</td>\n      <td>Ewallet</td>\n      <td>604.17</td>\n      <td>4.761905</td>\n      <td>30.2085</td>\n      <td>5.3</td>\n    </tr>\n    <tr>\n      <th>...</th>\n      <td>...</td>\n      <td>...</td>\n      <td>...</td>\n      <td>...</td>\n      <td>...</td>\n      <td>...</td>\n      <td>...</td>\n      <td>...</td>\n      <td>...</td>\n      <td>...</td>\n      <td>...</td>\n      <td>...</td>\n      <td>...</td>\n      <td>...</td>\n      <td>...</td>\n      <td>...</td>\n    </tr>\n    <tr>\n      <th>1/29/2019</th>\n      <td>233-67-5758</td>\n      <td>C</td>\n      <td>Naypyitaw</td>\n      <td>Normal</td>\n      <td>Male</td>\n      <td>Health and beauty</td>\n      <td>40.35</td>\n      <td>1</td>\n      <td>2.0175</td>\n      <td>42.3675</td>\n      <td>13:46</td>\n      <td>Ewallet</td>\n      <td>40.35</td>\n      <td>4.761905</td>\n      <td>2.0175</td>\n      <td>6.2</td>\n    </tr>\n    <tr>\n      <th>3/2/2019</th>\n      <td>303-96-2227</td>\n      <td>B</td>\n      <td>Mandalay</td>\n      <td>Normal</td>\n      <td>Female</td>\n      <td>Home and lifestyle</td>\n      <td>97.38</td>\n      <td>10</td>\n      <td>48.6900</td>\n      <td>1022.4900</td>\n      <td>17:16</td>\n      <td>Ewallet</td>\n      <td>973.80</td>\n      <td>4.761905</td>\n      <td>48.6900</td>\n      <td>4.4</td>\n    </tr>\n    <tr>\n      <th>2/9/2019</th>\n      <td>727-02-1313</td>\n      <td>A</td>\n      <td>Yangon</td>\n      <td>Member</td>\n      <td>Male</td>\n      <td>Food and beverages</td>\n      <td>31.84</td>\n      <td>1</td>\n      <td>1.5920</td>\n      <td>33.4320</td>\n      <td>13:22</td>\n      <td>Cash</td>\n      <td>31.84</td>\n      <td>4.761905</td>\n      <td>1.5920</td>\n      <td>7.7</td>\n    </tr>\n    <tr>\n      <th>2/22/2019</th>\n      <td>347-56-2442</td>\n      <td>A</td>\n      <td>Yangon</td>\n      <td>Normal</td>\n      <td>Male</td>\n      <td>Home and lifestyle</td>\n      <td>65.82</td>\n      <td>1</td>\n      <td>3.2910</td>\n      <td>69.1110</td>\n      <td>15:33</td>\n      <td>Cash</td>\n      <td>65.82</td>\n      <td>4.761905</td>\n      <td>3.2910</td>\n      <td>4.1</td>\n    </tr>\n    <tr>\n      <th>2/18/2019</th>\n      <td>849-09-3807</td>\n      <td>A</td>\n      <td>Yangon</td>\n      <td>Member</td>\n      <td>Female</td>\n      <td>Fashion accessories</td>\n      <td>88.34</td>\n      <td>7</td>\n      <td>30.9190</td>\n      <td>649.2990</td>\n      <td>13:28</td>\n      <td>Cash</td>\n      <td>618.38</td>\n      <td>4.761905</td>\n      <td>30.9190</td>\n      <td>6.6</td>\n    </tr>\n  </tbody>\n</table>\n<p>1000 rows × 16 columns</p>\n</div>"
     },
     "execution_count": 132,
     "metadata": {},
     "output_type": "execute_result"
    }
   ],
   "source": [
    "sales"
   ],
   "metadata": {
    "collapsed": false,
    "pycharm": {
     "name": "#%%\n"
    }
   }
  },
  {
   "cell_type": "code",
   "execution_count": 133,
   "outputs": [
    {
     "data": {
      "text/plain": "            Invoice ID Branch       City Customer type  Gender  \\\nDate                                                             \n3/25/2019  699-14-3026      C  Naypyitaw        Normal    Male   \n3/25/2019  362-58-8315      C  Naypyitaw        Normal    Male   \n3/25/2019  340-66-0321      A     Yangon        Member    Male   \n3/25/2019  110-05-6330      C  Naypyitaw        Normal  Female   \n3/25/2019  282-35-2475      B   Mandalay        Normal  Female   \n3/25/2019  134-75-2619      A     Yangon        Member    Male   \n3/25/2019  156-95-3964      A     Yangon        Normal  Female   \n3/25/2019  366-43-6862      B   Mandalay        Normal    Male   \n3/25/2019  605-03-2706      A     Yangon        Normal  Female   \n\n                     Product line  Unit price  Quantity   Tax 5%     Total  \\\nDate                                                                         \n3/25/2019  Electronic accessories       85.39         7  29.8865  627.6165   \n3/25/2019     Fashion accessories       76.52         5  19.1300  401.7300   \n3/25/2019  Electronic accessories       36.36         4   7.2720  152.7120   \n3/25/2019      Food and beverages       39.43         6  11.8290  248.4090   \n3/25/2019       Sports and travel       93.31         2   9.3310  195.9510   \n3/25/2019  Electronic accessories       19.32         7   6.7620  142.0020   \n3/25/2019      Food and beverages       55.39         4  11.0780  232.6380   \n3/25/2019  Electronic accessories       52.89         4  10.5780  222.1380   \n3/25/2019       Health and beauty       15.80         3   2.3700   49.7700   \n\n            Time      Payment  Cost of goods sold  Gross margin percentage  \\\nDate                                                                         \n3/25/2019  18:30      Ewallet              597.73                 4.761905   \n3/25/2019  10:23         Cash              382.60                 4.761905   \n3/25/2019  13:07         Cash              145.44                 4.761905   \n3/25/2019  20:18  Credit card              236.58                 4.761905   \n3/25/2019  17:53         Cash              186.62                 4.761905   \n3/25/2019  18:51         Cash              135.24                 4.761905   \n3/25/2019  15:19      Ewallet              221.56                 4.761905   \n3/25/2019  16:32      Ewallet              211.56                 4.761905   \n3/25/2019  18:02         Cash               47.40                 4.761905   \n\n           Gross income  Customer stratification rating  \nDate                                                     \n3/25/2019       29.8865                             4.1  \n3/25/2019       19.1300                             9.9  \n3/25/2019        7.2720                             7.6  \n3/25/2019       11.8290                             9.4  \n3/25/2019        9.3310                             6.3  \n3/25/2019        6.7620                             6.9  \n3/25/2019       11.0780                             8.0  \n3/25/2019       10.5780                             6.7  \n3/25/2019        2.3700                             9.5  ",
      "text/html": "<div>\n<style scoped>\n    .dataframe tbody tr th:only-of-type {\n        vertical-align: middle;\n    }\n\n    .dataframe tbody tr th {\n        vertical-align: top;\n    }\n\n    .dataframe thead th {\n        text-align: right;\n    }\n</style>\n<table border=\"1\" class=\"dataframe\">\n  <thead>\n    <tr style=\"text-align: right;\">\n      <th></th>\n      <th>Invoice ID</th>\n      <th>Branch</th>\n      <th>City</th>\n      <th>Customer type</th>\n      <th>Gender</th>\n      <th>Product line</th>\n      <th>Unit price</th>\n      <th>Quantity</th>\n      <th>Tax 5%</th>\n      <th>Total</th>\n      <th>Time</th>\n      <th>Payment</th>\n      <th>Cost of goods sold</th>\n      <th>Gross margin percentage</th>\n      <th>Gross income</th>\n      <th>Customer stratification rating</th>\n    </tr>\n    <tr>\n      <th>Date</th>\n      <th></th>\n      <th></th>\n      <th></th>\n      <th></th>\n      <th></th>\n      <th></th>\n      <th></th>\n      <th></th>\n      <th></th>\n      <th></th>\n      <th></th>\n      <th></th>\n      <th></th>\n      <th></th>\n      <th></th>\n      <th></th>\n    </tr>\n  </thead>\n  <tbody>\n    <tr>\n      <th>3/25/2019</th>\n      <td>699-14-3026</td>\n      <td>C</td>\n      <td>Naypyitaw</td>\n      <td>Normal</td>\n      <td>Male</td>\n      <td>Electronic accessories</td>\n      <td>85.39</td>\n      <td>7</td>\n      <td>29.8865</td>\n      <td>627.6165</td>\n      <td>18:30</td>\n      <td>Ewallet</td>\n      <td>597.73</td>\n      <td>4.761905</td>\n      <td>29.8865</td>\n      <td>4.1</td>\n    </tr>\n    <tr>\n      <th>3/25/2019</th>\n      <td>362-58-8315</td>\n      <td>C</td>\n      <td>Naypyitaw</td>\n      <td>Normal</td>\n      <td>Male</td>\n      <td>Fashion accessories</td>\n      <td>76.52</td>\n      <td>5</td>\n      <td>19.1300</td>\n      <td>401.7300</td>\n      <td>10:23</td>\n      <td>Cash</td>\n      <td>382.60</td>\n      <td>4.761905</td>\n      <td>19.1300</td>\n      <td>9.9</td>\n    </tr>\n    <tr>\n      <th>3/25/2019</th>\n      <td>340-66-0321</td>\n      <td>A</td>\n      <td>Yangon</td>\n      <td>Member</td>\n      <td>Male</td>\n      <td>Electronic accessories</td>\n      <td>36.36</td>\n      <td>4</td>\n      <td>7.2720</td>\n      <td>152.7120</td>\n      <td>13:07</td>\n      <td>Cash</td>\n      <td>145.44</td>\n      <td>4.761905</td>\n      <td>7.2720</td>\n      <td>7.6</td>\n    </tr>\n    <tr>\n      <th>3/25/2019</th>\n      <td>110-05-6330</td>\n      <td>C</td>\n      <td>Naypyitaw</td>\n      <td>Normal</td>\n      <td>Female</td>\n      <td>Food and beverages</td>\n      <td>39.43</td>\n      <td>6</td>\n      <td>11.8290</td>\n      <td>248.4090</td>\n      <td>20:18</td>\n      <td>Credit card</td>\n      <td>236.58</td>\n      <td>4.761905</td>\n      <td>11.8290</td>\n      <td>9.4</td>\n    </tr>\n    <tr>\n      <th>3/25/2019</th>\n      <td>282-35-2475</td>\n      <td>B</td>\n      <td>Mandalay</td>\n      <td>Normal</td>\n      <td>Female</td>\n      <td>Sports and travel</td>\n      <td>93.31</td>\n      <td>2</td>\n      <td>9.3310</td>\n      <td>195.9510</td>\n      <td>17:53</td>\n      <td>Cash</td>\n      <td>186.62</td>\n      <td>4.761905</td>\n      <td>9.3310</td>\n      <td>6.3</td>\n    </tr>\n    <tr>\n      <th>3/25/2019</th>\n      <td>134-75-2619</td>\n      <td>A</td>\n      <td>Yangon</td>\n      <td>Member</td>\n      <td>Male</td>\n      <td>Electronic accessories</td>\n      <td>19.32</td>\n      <td>7</td>\n      <td>6.7620</td>\n      <td>142.0020</td>\n      <td>18:51</td>\n      <td>Cash</td>\n      <td>135.24</td>\n      <td>4.761905</td>\n      <td>6.7620</td>\n      <td>6.9</td>\n    </tr>\n    <tr>\n      <th>3/25/2019</th>\n      <td>156-95-3964</td>\n      <td>A</td>\n      <td>Yangon</td>\n      <td>Normal</td>\n      <td>Female</td>\n      <td>Food and beverages</td>\n      <td>55.39</td>\n      <td>4</td>\n      <td>11.0780</td>\n      <td>232.6380</td>\n      <td>15:19</td>\n      <td>Ewallet</td>\n      <td>221.56</td>\n      <td>4.761905</td>\n      <td>11.0780</td>\n      <td>8.0</td>\n    </tr>\n    <tr>\n      <th>3/25/2019</th>\n      <td>366-43-6862</td>\n      <td>B</td>\n      <td>Mandalay</td>\n      <td>Normal</td>\n      <td>Male</td>\n      <td>Electronic accessories</td>\n      <td>52.89</td>\n      <td>4</td>\n      <td>10.5780</td>\n      <td>222.1380</td>\n      <td>16:32</td>\n      <td>Ewallet</td>\n      <td>211.56</td>\n      <td>4.761905</td>\n      <td>10.5780</td>\n      <td>6.7</td>\n    </tr>\n    <tr>\n      <th>3/25/2019</th>\n      <td>605-03-2706</td>\n      <td>A</td>\n      <td>Yangon</td>\n      <td>Normal</td>\n      <td>Female</td>\n      <td>Health and beauty</td>\n      <td>15.80</td>\n      <td>3</td>\n      <td>2.3700</td>\n      <td>49.7700</td>\n      <td>18:02</td>\n      <td>Cash</td>\n      <td>47.40</td>\n      <td>4.761905</td>\n      <td>2.3700</td>\n      <td>9.5</td>\n    </tr>\n  </tbody>\n</table>\n</div>"
     },
     "execution_count": 133,
     "metadata": {},
     "output_type": "execute_result"
    }
   ],
   "source": [
    "## Get all sales on Jan. 5, 2019\n",
    "sales.loc['3/25/2019']"
   ],
   "metadata": {
    "collapsed": false,
    "pycharm": {
     "name": "#%%\n"
    }
   }
  },
  {
   "cell_type": "code",
   "execution_count": 134,
   "outputs": [
    {
     "data": {
      "text/plain": "Date\n3/25/2019      Male\n3/25/2019      Male\n3/25/2019      Male\n3/25/2019    Female\n3/25/2019    Female\n3/25/2019      Male\n3/25/2019    Female\n3/25/2019      Male\n3/25/2019    Female\nName: Gender, dtype: object"
     },
     "execution_count": 134,
     "metadata": {},
     "output_type": "execute_result"
    }
   ],
   "source": [
    "## We can also get only a specific column\n",
    "sales.loc['3/25/2019', 'Gender']"
   ],
   "metadata": {
    "collapsed": false,
    "pycharm": {
     "name": "#%%\n"
    }
   }
  },
  {
   "cell_type": "code",
   "execution_count": 93,
   "outputs": [],
   "source": [
    "# sales.iloc['2/8/2019']\n",
    "# ilocuses integer indexing. Regardless of what theactual index is, ilocwill get theassociated rows/columnsfromintegers"
   ],
   "metadata": {
    "collapsed": false,
    "pycharm": {
     "name": "#%%\n"
    }
   }
  },
  {
   "cell_type": "code",
   "execution_count": 136,
   "outputs": [
    {
     "name": "stdout",
     "output_type": "stream",
     "text": [
      "Invoice ID                               315-22-5665\n",
      "Branch                                             C\n",
      "City                                       Naypyitaw\n",
      "Customer type                                 Normal\n",
      "Gender                                        Female\n",
      "Product line                      Home and lifestyle\n",
      "Unit price                                     73.56\n",
      "Quantity                                          10\n",
      "Tax 5%                                         36.78\n",
      "Total                                         772.38\n",
      "Time                                           11:38\n",
      "Payment                                      Ewallet\n",
      "Cost of goods sold                             735.6\n",
      "Gross margin percentage                     4.761905\n",
      "Gross income                                   36.78\n",
      "Customer stratification rating                   8.0\n",
      "Name: 2/24/2019, dtype: object\n"
     ]
    }
   ],
   "source": [
    "print(sales.iloc[7]) # выбираем третью строку датафрейма"
   ],
   "metadata": {
    "collapsed": false,
    "pycharm": {
     "name": "#%%\n"
    }
   }
  },
  {
   "cell_type": "code",
   "execution_count": 137,
   "outputs": [
    {
     "data": {
      "text/plain": "Date                                           2/25/2019\nInvoice ID                                   355-53-5943\nBranch                                                 A\nCity                                              Yangon\nCustomer type                                     Member\nGender                                            Female\nProduct line                      Electronic accessories\nUnit price                                         68.84\nQuantity                                               6\nTax 5%                                            20.652\nTotal                                            433.692\nTime                                               14:36\nPayment                                          Ewallet\nCost of goods sold                                413.04\nGross margin percentage                         4.761905\nGross income                                      20.652\nCustomer stratification rating                       5.8\nName: 6, dtype: object"
     },
     "execution_count": 137,
     "metadata": {},
     "output_type": "execute_result"
    }
   ],
   "source": [
    "sales.reset_index(inplace = True)\n",
    "sales.loc[6]"
   ],
   "metadata": {
    "collapsed": false,
    "pycharm": {
     "name": "#%%\n"
    }
   }
  },
  {
   "cell_type": "code",
   "execution_count": 139,
   "outputs": [
    {
     "data": {
      "text/plain": "'Naypyitaw'"
     },
     "execution_count": 139,
     "metadata": {},
     "output_type": "execute_result"
    }
   ],
   "source": [
    "sales.iloc[7]['City']"
   ],
   "metadata": {
    "collapsed": false,
    "pycharm": {
     "name": "#%%\n"
    }
   }
  },
  {
   "cell_type": "code",
   "execution_count": 140,
   "outputs": [
    {
     "data": {
      "text/plain": "'Yangon'"
     },
     "execution_count": 140,
     "metadata": {},
     "output_type": "execute_result"
    }
   ],
   "source": [
    "sales.iloc[3]['City']"
   ],
   "metadata": {
    "collapsed": false,
    "pycharm": {
     "name": "#%%\n"
    }
   }
  },
  {
   "cell_type": "code",
   "execution_count": 141,
   "outputs": [
    {
     "data": {
      "text/plain": "0       True\n1      False\n2       True\n3       True\n4       True\n       ...  \n995    False\n996    False\n997     True\n998     True\n999     True\nName: City, Length: 1000, dtype: bool"
     },
     "execution_count": 141,
     "metadata": {},
     "output_type": "execute_result"
    }
   ],
   "source": [
    "sales.City == 'Yangon'"
   ],
   "metadata": {
    "collapsed": false,
    "pycharm": {
     "name": "#%%\n"
    }
   }
  },
  {
   "cell_type": "code",
   "execution_count": 142,
   "outputs": [
    {
     "data": {
      "text/plain": "          Date   Invoice ID Branch    City Customer type  Gender  \\\n0     1/5/2019  750-67-8428      A  Yangon        Member  Female   \n2     3/3/2019  631-41-3108      A  Yangon        Normal    Male   \n3    1/27/2019  123-19-1176      A  Yangon        Member    Male   \n4     2/8/2019  373-73-7910      A  Yangon        Normal    Male   \n6    2/25/2019  355-53-5943      A  Yangon        Member  Female   \n..         ...          ...    ...     ...           ...     ...   \n990  3/22/2019  886-18-2897      A  Yangon        Normal  Female   \n992  3/10/2019  745-74-0715      A  Yangon        Normal    Male   \n997   2/9/2019  727-02-1313      A  Yangon        Member    Male   \n998  2/22/2019  347-56-2442      A  Yangon        Normal    Male   \n999  2/18/2019  849-09-3807      A  Yangon        Member  Female   \n\n               Product line  Unit price  Quantity   Tax 5%     Total   Time  \\\n0         Health and beauty       74.69         7  26.1415  548.9715  13:08   \n2        Home and lifestyle       46.33         7  16.2155  340.5255  13:23   \n3         Health and beauty       58.22         8  23.2880  489.0480  20:33   \n4         Sports and travel       86.31         7  30.2085  634.3785  10:37   \n6    Electronic accessories       68.84         6  20.6520  433.6920  14:36   \n..                      ...         ...       ...      ...       ...    ...   \n990      Food and beverages       56.56         5  14.1400  296.9400  19:06   \n992  Electronic accessories       58.03         2   5.8030  121.8630  20:46   \n997      Food and beverages       31.84         1   1.5920   33.4320  13:22   \n998      Home and lifestyle       65.82         1   3.2910   69.1110  15:33   \n999     Fashion accessories       88.34         7  30.9190  649.2990  13:28   \n\n         Payment  Cost of goods sold  Gross margin percentage  Gross income  \\\n0        Ewallet              522.83                 4.761905       26.1415   \n2    Credit card              324.31                 4.761905       16.2155   \n3        Ewallet              465.76                 4.761905       23.2880   \n4        Ewallet              604.17                 4.761905       30.2085   \n6        Ewallet              413.04                 4.761905       20.6520   \n..           ...                 ...                      ...           ...   \n990  Credit card              282.80                 4.761905       14.1400   \n992      Ewallet              116.06                 4.761905        5.8030   \n997         Cash               31.84                 4.761905        1.5920   \n998         Cash               65.82                 4.761905        3.2910   \n999         Cash              618.38                 4.761905       30.9190   \n\n     Customer stratification rating  \n0                               9.1  \n2                               7.4  \n3                               8.4  \n4                               5.3  \n6                               5.8  \n..                              ...  \n990                             4.5  \n992                             8.8  \n997                             7.7  \n998                             4.1  \n999                             6.6  \n\n[340 rows x 17 columns]",
      "text/html": "<div>\n<style scoped>\n    .dataframe tbody tr th:only-of-type {\n        vertical-align: middle;\n    }\n\n    .dataframe tbody tr th {\n        vertical-align: top;\n    }\n\n    .dataframe thead th {\n        text-align: right;\n    }\n</style>\n<table border=\"1\" class=\"dataframe\">\n  <thead>\n    <tr style=\"text-align: right;\">\n      <th></th>\n      <th>Date</th>\n      <th>Invoice ID</th>\n      <th>Branch</th>\n      <th>City</th>\n      <th>Customer type</th>\n      <th>Gender</th>\n      <th>Product line</th>\n      <th>Unit price</th>\n      <th>Quantity</th>\n      <th>Tax 5%</th>\n      <th>Total</th>\n      <th>Time</th>\n      <th>Payment</th>\n      <th>Cost of goods sold</th>\n      <th>Gross margin percentage</th>\n      <th>Gross income</th>\n      <th>Customer stratification rating</th>\n    </tr>\n  </thead>\n  <tbody>\n    <tr>\n      <th>0</th>\n      <td>1/5/2019</td>\n      <td>750-67-8428</td>\n      <td>A</td>\n      <td>Yangon</td>\n      <td>Member</td>\n      <td>Female</td>\n      <td>Health and beauty</td>\n      <td>74.69</td>\n      <td>7</td>\n      <td>26.1415</td>\n      <td>548.9715</td>\n      <td>13:08</td>\n      <td>Ewallet</td>\n      <td>522.83</td>\n      <td>4.761905</td>\n      <td>26.1415</td>\n      <td>9.1</td>\n    </tr>\n    <tr>\n      <th>2</th>\n      <td>3/3/2019</td>\n      <td>631-41-3108</td>\n      <td>A</td>\n      <td>Yangon</td>\n      <td>Normal</td>\n      <td>Male</td>\n      <td>Home and lifestyle</td>\n      <td>46.33</td>\n      <td>7</td>\n      <td>16.2155</td>\n      <td>340.5255</td>\n      <td>13:23</td>\n      <td>Credit card</td>\n      <td>324.31</td>\n      <td>4.761905</td>\n      <td>16.2155</td>\n      <td>7.4</td>\n    </tr>\n    <tr>\n      <th>3</th>\n      <td>1/27/2019</td>\n      <td>123-19-1176</td>\n      <td>A</td>\n      <td>Yangon</td>\n      <td>Member</td>\n      <td>Male</td>\n      <td>Health and beauty</td>\n      <td>58.22</td>\n      <td>8</td>\n      <td>23.2880</td>\n      <td>489.0480</td>\n      <td>20:33</td>\n      <td>Ewallet</td>\n      <td>465.76</td>\n      <td>4.761905</td>\n      <td>23.2880</td>\n      <td>8.4</td>\n    </tr>\n    <tr>\n      <th>4</th>\n      <td>2/8/2019</td>\n      <td>373-73-7910</td>\n      <td>A</td>\n      <td>Yangon</td>\n      <td>Normal</td>\n      <td>Male</td>\n      <td>Sports and travel</td>\n      <td>86.31</td>\n      <td>7</td>\n      <td>30.2085</td>\n      <td>634.3785</td>\n      <td>10:37</td>\n      <td>Ewallet</td>\n      <td>604.17</td>\n      <td>4.761905</td>\n      <td>30.2085</td>\n      <td>5.3</td>\n    </tr>\n    <tr>\n      <th>6</th>\n      <td>2/25/2019</td>\n      <td>355-53-5943</td>\n      <td>A</td>\n      <td>Yangon</td>\n      <td>Member</td>\n      <td>Female</td>\n      <td>Electronic accessories</td>\n      <td>68.84</td>\n      <td>6</td>\n      <td>20.6520</td>\n      <td>433.6920</td>\n      <td>14:36</td>\n      <td>Ewallet</td>\n      <td>413.04</td>\n      <td>4.761905</td>\n      <td>20.6520</td>\n      <td>5.8</td>\n    </tr>\n    <tr>\n      <th>...</th>\n      <td>...</td>\n      <td>...</td>\n      <td>...</td>\n      <td>...</td>\n      <td>...</td>\n      <td>...</td>\n      <td>...</td>\n      <td>...</td>\n      <td>...</td>\n      <td>...</td>\n      <td>...</td>\n      <td>...</td>\n      <td>...</td>\n      <td>...</td>\n      <td>...</td>\n      <td>...</td>\n      <td>...</td>\n    </tr>\n    <tr>\n      <th>990</th>\n      <td>3/22/2019</td>\n      <td>886-18-2897</td>\n      <td>A</td>\n      <td>Yangon</td>\n      <td>Normal</td>\n      <td>Female</td>\n      <td>Food and beverages</td>\n      <td>56.56</td>\n      <td>5</td>\n      <td>14.1400</td>\n      <td>296.9400</td>\n      <td>19:06</td>\n      <td>Credit card</td>\n      <td>282.80</td>\n      <td>4.761905</td>\n      <td>14.1400</td>\n      <td>4.5</td>\n    </tr>\n    <tr>\n      <th>992</th>\n      <td>3/10/2019</td>\n      <td>745-74-0715</td>\n      <td>A</td>\n      <td>Yangon</td>\n      <td>Normal</td>\n      <td>Male</td>\n      <td>Electronic accessories</td>\n      <td>58.03</td>\n      <td>2</td>\n      <td>5.8030</td>\n      <td>121.8630</td>\n      <td>20:46</td>\n      <td>Ewallet</td>\n      <td>116.06</td>\n      <td>4.761905</td>\n      <td>5.8030</td>\n      <td>8.8</td>\n    </tr>\n    <tr>\n      <th>997</th>\n      <td>2/9/2019</td>\n      <td>727-02-1313</td>\n      <td>A</td>\n      <td>Yangon</td>\n      <td>Member</td>\n      <td>Male</td>\n      <td>Food and beverages</td>\n      <td>31.84</td>\n      <td>1</td>\n      <td>1.5920</td>\n      <td>33.4320</td>\n      <td>13:22</td>\n      <td>Cash</td>\n      <td>31.84</td>\n      <td>4.761905</td>\n      <td>1.5920</td>\n      <td>7.7</td>\n    </tr>\n    <tr>\n      <th>998</th>\n      <td>2/22/2019</td>\n      <td>347-56-2442</td>\n      <td>A</td>\n      <td>Yangon</td>\n      <td>Normal</td>\n      <td>Male</td>\n      <td>Home and lifestyle</td>\n      <td>65.82</td>\n      <td>1</td>\n      <td>3.2910</td>\n      <td>69.1110</td>\n      <td>15:33</td>\n      <td>Cash</td>\n      <td>65.82</td>\n      <td>4.761905</td>\n      <td>3.2910</td>\n      <td>4.1</td>\n    </tr>\n    <tr>\n      <th>999</th>\n      <td>2/18/2019</td>\n      <td>849-09-3807</td>\n      <td>A</td>\n      <td>Yangon</td>\n      <td>Member</td>\n      <td>Female</td>\n      <td>Fashion accessories</td>\n      <td>88.34</td>\n      <td>7</td>\n      <td>30.9190</td>\n      <td>649.2990</td>\n      <td>13:28</td>\n      <td>Cash</td>\n      <td>618.38</td>\n      <td>4.761905</td>\n      <td>30.9190</td>\n      <td>6.6</td>\n    </tr>\n  </tbody>\n</table>\n<p>340 rows × 17 columns</p>\n</div>"
     },
     "execution_count": 142,
     "metadata": {},
     "output_type": "execute_result"
    }
   ],
   "source": [
    "sales.loc[sales.City == 'Yangon']"
   ],
   "metadata": {
    "collapsed": false,
    "pycharm": {
     "name": "#%%\n"
    }
   }
  },
  {
   "cell_type": "code",
   "execution_count": 146,
   "outputs": [],
   "source": [
    "# важно установить индекс перед тем, как фильтровать таблицу\n",
    "sales.set_index('Date', inplace=True)"
   ],
   "metadata": {
    "collapsed": false,
    "pycharm": {
     "name": "#%%\n"
    }
   }
  },
  {
   "cell_type": "code",
   "execution_count": 147,
   "outputs": [],
   "source": [
    "# Изменить значение в строке с датой '1/2/2022' для столбца 'Sales'\n",
    "sales.loc['1/27/2019', 'City'] = 'St. Petersburg'"
   ],
   "metadata": {
    "collapsed": false,
    "pycharm": {
     "name": "#%%\n"
    }
   }
  },
  {
   "cell_type": "code",
   "execution_count": 148,
   "outputs": [
    {
     "data": {
      "text/plain": "            Invoice ID Branch            City Customer type  Gender  \\\nDate                                                                  \n1/5/2019   750-67-8428      A          Yangon        Member  Female   \n3/8/2019   226-31-3081      C       Naypyitaw        Normal  Female   \n3/3/2019   631-41-3108      A          Yangon        Normal    Male   \n1/27/2019  123-19-1176      A  St. Petersburg        Member    Male   \n2/8/2019   373-73-7910      A          Yangon        Normal    Male   \n...                ...    ...             ...           ...     ...   \n3/2/2019   303-96-2227      B        Mandalay        Normal  Female   \n2/9/2019   727-02-1313      A          Yangon        Member    Male   \n2/22/2019  347-56-2442      A          Yangon        Normal    Male   \n2/18/2019  849-09-3807      A          Yangon        Member  Female   \nNaN                NaN    NaN  St. Petersburg           NaN     NaN   \n\n                     Product line  Unit price  Quantity   Tax 5%      Total  \\\nDate                                                                          \n1/5/2019        Health and beauty       74.69       7.0  26.1415   548.9715   \n3/8/2019   Electronic accessories       15.28       5.0   3.8200    80.2200   \n3/3/2019       Home and lifestyle       46.33       7.0  16.2155   340.5255   \n1/27/2019       Health and beauty       58.22       8.0  23.2880   489.0480   \n2/8/2019        Sports and travel       86.31       7.0  30.2085   634.3785   \n...                           ...         ...       ...      ...        ...   \n3/2/2019       Home and lifestyle       97.38      10.0  48.6900  1022.4900   \n2/9/2019       Food and beverages       31.84       1.0   1.5920    33.4320   \n2/22/2019      Home and lifestyle       65.82       1.0   3.2910    69.1110   \n2/18/2019     Fashion accessories       88.34       7.0  30.9190   649.2990   \nNaN                           NaN         NaN       NaN      NaN        NaN   \n\n            Time      Payment  Cost of goods sold  Gross margin percentage  \\\nDate                                                                         \n1/5/2019   13:08      Ewallet              522.83                 4.761905   \n3/8/2019   10:29         Cash               76.40                 4.761905   \n3/3/2019   13:23  Credit card              324.31                 4.761905   \n1/27/2019  20:33      Ewallet              465.76                 4.761905   \n2/8/2019   10:37      Ewallet              604.17                 4.761905   \n...          ...          ...                 ...                      ...   \n3/2/2019   17:16      Ewallet              973.80                 4.761905   \n2/9/2019   13:22         Cash               31.84                 4.761905   \n2/22/2019  15:33         Cash               65.82                 4.761905   \n2/18/2019  13:28         Cash              618.38                 4.761905   \nNaN          NaN          NaN                 NaN                      NaN   \n\n           Gross income  Customer stratification rating  \nDate                                                     \n1/5/2019        26.1415                             9.1  \n3/8/2019         3.8200                             9.6  \n3/3/2019        16.2155                             7.4  \n1/27/2019       23.2880                             8.4  \n2/8/2019        30.2085                             5.3  \n...                 ...                             ...  \n3/2/2019        48.6900                             4.4  \n2/9/2019         1.5920                             7.7  \n2/22/2019        3.2910                             4.1  \n2/18/2019       30.9190                             6.6  \nNaN                 NaN                             NaN  \n\n[1001 rows x 16 columns]",
      "text/html": "<div>\n<style scoped>\n    .dataframe tbody tr th:only-of-type {\n        vertical-align: middle;\n    }\n\n    .dataframe tbody tr th {\n        vertical-align: top;\n    }\n\n    .dataframe thead th {\n        text-align: right;\n    }\n</style>\n<table border=\"1\" class=\"dataframe\">\n  <thead>\n    <tr style=\"text-align: right;\">\n      <th></th>\n      <th>Invoice ID</th>\n      <th>Branch</th>\n      <th>City</th>\n      <th>Customer type</th>\n      <th>Gender</th>\n      <th>Product line</th>\n      <th>Unit price</th>\n      <th>Quantity</th>\n      <th>Tax 5%</th>\n      <th>Total</th>\n      <th>Time</th>\n      <th>Payment</th>\n      <th>Cost of goods sold</th>\n      <th>Gross margin percentage</th>\n      <th>Gross income</th>\n      <th>Customer stratification rating</th>\n    </tr>\n    <tr>\n      <th>Date</th>\n      <th></th>\n      <th></th>\n      <th></th>\n      <th></th>\n      <th></th>\n      <th></th>\n      <th></th>\n      <th></th>\n      <th></th>\n      <th></th>\n      <th></th>\n      <th></th>\n      <th></th>\n      <th></th>\n      <th></th>\n      <th></th>\n    </tr>\n  </thead>\n  <tbody>\n    <tr>\n      <th>1/5/2019</th>\n      <td>750-67-8428</td>\n      <td>A</td>\n      <td>Yangon</td>\n      <td>Member</td>\n      <td>Female</td>\n      <td>Health and beauty</td>\n      <td>74.69</td>\n      <td>7.0</td>\n      <td>26.1415</td>\n      <td>548.9715</td>\n      <td>13:08</td>\n      <td>Ewallet</td>\n      <td>522.83</td>\n      <td>4.761905</td>\n      <td>26.1415</td>\n      <td>9.1</td>\n    </tr>\n    <tr>\n      <th>3/8/2019</th>\n      <td>226-31-3081</td>\n      <td>C</td>\n      <td>Naypyitaw</td>\n      <td>Normal</td>\n      <td>Female</td>\n      <td>Electronic accessories</td>\n      <td>15.28</td>\n      <td>5.0</td>\n      <td>3.8200</td>\n      <td>80.2200</td>\n      <td>10:29</td>\n      <td>Cash</td>\n      <td>76.40</td>\n      <td>4.761905</td>\n      <td>3.8200</td>\n      <td>9.6</td>\n    </tr>\n    <tr>\n      <th>3/3/2019</th>\n      <td>631-41-3108</td>\n      <td>A</td>\n      <td>Yangon</td>\n      <td>Normal</td>\n      <td>Male</td>\n      <td>Home and lifestyle</td>\n      <td>46.33</td>\n      <td>7.0</td>\n      <td>16.2155</td>\n      <td>340.5255</td>\n      <td>13:23</td>\n      <td>Credit card</td>\n      <td>324.31</td>\n      <td>4.761905</td>\n      <td>16.2155</td>\n      <td>7.4</td>\n    </tr>\n    <tr>\n      <th>1/27/2019</th>\n      <td>123-19-1176</td>\n      <td>A</td>\n      <td>St. Petersburg</td>\n      <td>Member</td>\n      <td>Male</td>\n      <td>Health and beauty</td>\n      <td>58.22</td>\n      <td>8.0</td>\n      <td>23.2880</td>\n      <td>489.0480</td>\n      <td>20:33</td>\n      <td>Ewallet</td>\n      <td>465.76</td>\n      <td>4.761905</td>\n      <td>23.2880</td>\n      <td>8.4</td>\n    </tr>\n    <tr>\n      <th>2/8/2019</th>\n      <td>373-73-7910</td>\n      <td>A</td>\n      <td>Yangon</td>\n      <td>Normal</td>\n      <td>Male</td>\n      <td>Sports and travel</td>\n      <td>86.31</td>\n      <td>7.0</td>\n      <td>30.2085</td>\n      <td>634.3785</td>\n      <td>10:37</td>\n      <td>Ewallet</td>\n      <td>604.17</td>\n      <td>4.761905</td>\n      <td>30.2085</td>\n      <td>5.3</td>\n    </tr>\n    <tr>\n      <th>...</th>\n      <td>...</td>\n      <td>...</td>\n      <td>...</td>\n      <td>...</td>\n      <td>...</td>\n      <td>...</td>\n      <td>...</td>\n      <td>...</td>\n      <td>...</td>\n      <td>...</td>\n      <td>...</td>\n      <td>...</td>\n      <td>...</td>\n      <td>...</td>\n      <td>...</td>\n      <td>...</td>\n    </tr>\n    <tr>\n      <th>3/2/2019</th>\n      <td>303-96-2227</td>\n      <td>B</td>\n      <td>Mandalay</td>\n      <td>Normal</td>\n      <td>Female</td>\n      <td>Home and lifestyle</td>\n      <td>97.38</td>\n      <td>10.0</td>\n      <td>48.6900</td>\n      <td>1022.4900</td>\n      <td>17:16</td>\n      <td>Ewallet</td>\n      <td>973.80</td>\n      <td>4.761905</td>\n      <td>48.6900</td>\n      <td>4.4</td>\n    </tr>\n    <tr>\n      <th>2/9/2019</th>\n      <td>727-02-1313</td>\n      <td>A</td>\n      <td>Yangon</td>\n      <td>Member</td>\n      <td>Male</td>\n      <td>Food and beverages</td>\n      <td>31.84</td>\n      <td>1.0</td>\n      <td>1.5920</td>\n      <td>33.4320</td>\n      <td>13:22</td>\n      <td>Cash</td>\n      <td>31.84</td>\n      <td>4.761905</td>\n      <td>1.5920</td>\n      <td>7.7</td>\n    </tr>\n    <tr>\n      <th>2/22/2019</th>\n      <td>347-56-2442</td>\n      <td>A</td>\n      <td>Yangon</td>\n      <td>Normal</td>\n      <td>Male</td>\n      <td>Home and lifestyle</td>\n      <td>65.82</td>\n      <td>1.0</td>\n      <td>3.2910</td>\n      <td>69.1110</td>\n      <td>15:33</td>\n      <td>Cash</td>\n      <td>65.82</td>\n      <td>4.761905</td>\n      <td>3.2910</td>\n      <td>4.1</td>\n    </tr>\n    <tr>\n      <th>2/18/2019</th>\n      <td>849-09-3807</td>\n      <td>A</td>\n      <td>Yangon</td>\n      <td>Member</td>\n      <td>Female</td>\n      <td>Fashion accessories</td>\n      <td>88.34</td>\n      <td>7.0</td>\n      <td>30.9190</td>\n      <td>649.2990</td>\n      <td>13:28</td>\n      <td>Cash</td>\n      <td>618.38</td>\n      <td>4.761905</td>\n      <td>30.9190</td>\n      <td>6.6</td>\n    </tr>\n    <tr>\n      <th>NaN</th>\n      <td>NaN</td>\n      <td>NaN</td>\n      <td>St. Petersburg</td>\n      <td>NaN</td>\n      <td>NaN</td>\n      <td>NaN</td>\n      <td>NaN</td>\n      <td>NaN</td>\n      <td>NaN</td>\n      <td>NaN</td>\n      <td>NaN</td>\n      <td>NaN</td>\n      <td>NaN</td>\n      <td>NaN</td>\n      <td>NaN</td>\n      <td>NaN</td>\n    </tr>\n  </tbody>\n</table>\n<p>1001 rows × 16 columns</p>\n</div>"
     },
     "execution_count": 148,
     "metadata": {},
     "output_type": "execute_result"
    }
   ],
   "source": [
    "sales"
   ],
   "metadata": {
    "collapsed": false,
    "pycharm": {
     "name": "#%%\n"
    }
   }
  },
  {
   "cell_type": "code",
   "execution_count": 149,
   "outputs": [],
   "source": [
    "### Get all rows that purchased fashion accesories. Store it into sales_fashion.\n",
    "sales_fashion = sales[sales['Product line'] == 'Fashion accessories']"
   ],
   "metadata": {
    "collapsed": false,
    "pycharm": {
     "name": "#%%\n"
    }
   }
  },
  {
   "cell_type": "code",
   "execution_count": 150,
   "outputs": [],
   "source": [
    "### Get all credit card purcahses from sales_fashion.\n",
    "sales_card_fashion = sales_fashion[sales_fashion['Payment'] == 'Credit card']"
   ],
   "metadata": {
    "collapsed": false,
    "pycharm": {
     "name": "#%%\n"
    }
   }
  },
  {
   "cell_type": "code",
   "execution_count": 151,
   "outputs": [
    {
     "name": "stderr",
     "output_type": "stream",
     "text": [
      "C:\\Users\\HOME\\AppData\\Local\\Temp\\ipykernel_13204\\2166694100.py:1: SettingWithCopyWarning: \n",
      "A value is trying to be set on a copy of a slice from a DataFrame.\n",
      "Try using .loc[row_indexer,col_indexer] = value instead\n",
      "\n",
      "See the caveats in the documentation: https://pandas.pydata.org/pandas-docs/stable/user_guide/indexing.html#returning-a-view-versus-a-copy\n",
      "  sales_card_fashion['Tax 10%'] = sales_card_fashion['Total'] * 0.1\n"
     ]
    }
   ],
   "source": [
    "sales_card_fashion['Tax 10%'] = sales_card_fashion['Total'] * 0.1"
   ],
   "metadata": {
    "collapsed": false,
    "pycharm": {
     "name": "#%%\n"
    }
   }
  },
  {
   "cell_type": "code",
   "execution_count": 152,
   "outputs": [
    {
     "name": "stderr",
     "output_type": "stream",
     "text": [
      "C:\\Users\\HOME\\AppData\\Local\\Temp\\ipykernel_13204\\3818297111.py:1: SettingWithCopyWarning: \n",
      "A value is trying to be set on a copy of a slice from a DataFrame.\n",
      "Try using .loc[row_indexer,col_indexer] = value instead\n",
      "\n",
      "See the caveats in the documentation: https://pandas.pydata.org/pandas-docs/stable/user_guide/indexing.html#returning-a-view-versus-a-copy\n",
      "  sales_card_fashion.loc[:, 'Tax 10%'] = sales_card_fashion['Total'] * 0.1\n"
     ]
    }
   ],
   "source": [
    "sales_card_fashion.loc[:, 'Tax 10%'] = sales_card_fashion['Total'] * 0.1"
   ],
   "metadata": {
    "collapsed": false,
    "pycharm": {
     "name": "#%%\n"
    }
   }
  },
  {
   "cell_type": "code",
   "execution_count": 153,
   "outputs": [
    {
     "data": {
      "text/plain": "count     56.000000\nmean      30.955481\nstd       28.067689\nmin        1.269450\n25%       10.880100\n50%       20.107500\n75%       41.491538\nmax      104.265000\nName: Tax 10%, dtype: float64"
     },
     "execution_count": 153,
     "metadata": {},
     "output_type": "execute_result"
    }
   ],
   "source": [
    "sales_card_fashion['Tax 10%'].describe()"
   ],
   "metadata": {
    "collapsed": false,
    "pycharm": {
     "name": "#%%\n"
    }
   }
  }
 ],
 "metadata": {
  "kernelspec": {
   "display_name": "Python 3",
   "language": "python",
   "name": "python3"
  },
  "language_info": {
   "codemirror_mode": {
    "name": "ipython",
    "version": 2
   },
   "file_extension": ".py",
   "mimetype": "text/x-python",
   "name": "python",
   "nbconvert_exporter": "python",
   "pygments_lexer": "ipython2",
   "version": "2.7.6"
  }
 },
 "nbformat": 4,
 "nbformat_minor": 0
}
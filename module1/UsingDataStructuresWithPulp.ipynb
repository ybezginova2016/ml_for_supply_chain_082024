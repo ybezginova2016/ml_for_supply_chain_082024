{
 "cells": [
  {
   "cell_type": "code",
   "execution_count": 2,
   "metadata": {
    "collapsed": true,
    "pycharm": {
     "name": "#%%\n"
    }
   },
   "outputs": [
    {
     "name": "stdout",
     "output_type": "stream",
     "text": [
      "A 1\n",
      "A 2\n",
      "B 1\n",
      "B 2\n"
     ]
    }
   ],
   "source": [
    "for let in ['A', 'B']:\n",
    "    for num in [1, 2]:\n",
    "        print(let, num)"
   ]
  },
  {
   "cell_type": "markdown",
   "source": [
    "In PuLP, an objective function is defined as part of the linear programming problem to be either maximized or minimized. The correct syntax to create an objective function does not include inequality signs (>, <, <=) or just the expression by itself. Instead, it should be specified with either lpMinimize or lpMaximize to indicate the optimization goal.\n",
    "\n",
    "Given the options, none of them are correct as they stand, but the closest form for creating an objective function (assuming you want to use it with lpMinimize or lpMaximize) would be:\n",
    "\n",
    "`Prob += x + y`"
   ],
   "metadata": {
    "collapsed": false,
    "pycharm": {
     "name": "#%% md\n"
    }
   }
  }
 ],
 "metadata": {
  "kernelspec": {
   "display_name": "Python 3",
   "language": "python",
   "name": "python3"
  },
  "language_info": {
   "codemirror_mode": {
    "name": "ipython",
    "version": 2
   },
   "file_extension": ".py",
   "mimetype": "text/x-python",
   "name": "python",
   "nbconvert_exporter": "python",
   "pygments_lexer": "ipython2",
   "version": "2.7.6"
  }
 },
 "nbformat": 4,
 "nbformat_minor": 0
}
{
 "cells": [
  {
   "cell_type": "markdown",
   "source": [
    "### Exercise 1\n",
    "Refer to the following link for information on the numpy [power function](https://numpy.org/doc/stable/reference/generated/numpy.power.html)."
   ],
   "metadata": {
    "collapsed": false,
    "pycharm": {
     "name": "#%% md\n"
    }
   }
  },
  {
   "cell_type": "code",
   "execution_count": 1,
   "outputs": [],
   "source": [
    "import numpy as np\n",
    "\n",
    "def f(x):\n",
    "    return np.power(x[2] - x[1], x[0])\n"
   ],
   "metadata": {
    "collapsed": false,
    "pycharm": {
     "name": "#%%\n"
    }
   }
  },
  {
   "cell_type": "markdown",
   "source": [
    "### Analysis of the Function\n",
    "\n",
    "**Function Definition:**\n",
    "\n",
    "np.power(base, exponent) computes base exponent\n",
    "\n",
    "  where base and exponent can be scalars or arrays.\n",
    "\n",
    "In the function f(x), x[2] - x[1] computes the base, and x[0] is the exponent.\n",
    "Requirements:\n",
    "\n",
    "x should be a list or array with at least 3 elements (because x[2], x[1], and x[0] are accessed).\n",
    "\n",
    "#### Validating Inputs\n",
    "x = [1, 2, 10, 20, 40]:\n",
    "\n",
    "This is a list with more than 3 elements, so x[2] is 10, x[1] is 2, and x[0] is 1. This will work with the function.\n",
    "x = 2:\n",
    "\n",
    "This is not a list or array, so indexing into x will cause an error. This input is not valid.\n",
    "x = [1, 'string', 3]:\n",
    "\n",
    "x[2] - x[1] will raise a TypeError because subtracting a string from an integer is not supported. This input is not valid.\n",
    "x = [1, 2]:\n",
    "\n",
    "This list has only 2 elements. The function requires at least 3 elements to access x[2], x[1], and x[0]. This input is not valid.\n",
    "Conclusion\n",
    "The valid input for the function f(x) is:\n",
    "\n",
    "x = [1, 2, 10, 20, 40]\n",
    "So, the correct answer is:\n",
    "\n",
    "x = [1, 2, 10, 20, 40]"
   ],
   "metadata": {
    "collapsed": false,
    "pycharm": {
     "name": "#%% md\n"
    }
   }
  },
  {
   "cell_type": "markdown",
   "source": [
    "### Exercise 2"
   ],
   "metadata": {
    "collapsed": false,
    "pycharm": {
     "name": "#%% md\n"
    }
   }
  },
  {
   "cell_type": "code",
   "execution_count": 2,
   "outputs": [],
   "source": [
    "def func(end):\n",
    "    total = 0\n",
    "    for n in range(end+1):\n",
    "        total = total + n*n\n",
    "    return total"
   ],
   "metadata": {
    "collapsed": false,
    "pycharm": {
     "name": "#%%\n"
    }
   }
  },
  {
   "cell_type": "code",
   "execution_count": 3,
   "outputs": [
    {
     "data": {
      "text/plain": "14"
     },
     "execution_count": 3,
     "metadata": {},
     "output_type": "execute_result"
    }
   ],
   "source": [
    "func(3)"
   ],
   "metadata": {
    "collapsed": false,
    "pycharm": {
     "name": "#%%\n"
    }
   }
  },
  {
   "cell_type": "code",
   "execution_count": 6,
   "outputs": [
    {
     "name": "stdout",
     "output_type": "stream",
     "text": [
      "Ulysses 0\n",
      "Don Quixote 0\n",
      "The Great Gatsby 0\n",
      "War and Peace 0\n"
     ]
    }
   ],
   "source": [
    "## Question 5\n",
    "# What will be printed by the following lines of code:\n",
    "\n",
    "books = ['Ulysses', 'Don Quixote', 'The Great Gatsby', 'War and Peace']\n",
    "\n",
    "for book in books:\n",
    "    for n in range(2):\n",
    "        if n != 1:\n",
    "            print(book, n)"
   ],
   "metadata": {
    "collapsed": false,
    "pycharm": {
     "name": "#%%\n"
    }
   }
  },
  {
   "cell_type": "code",
   "execution_count": null,
   "outputs": [],
   "source": [],
   "metadata": {
    "collapsed": false,
    "pycharm": {
     "name": "#%%\n"
    }
   }
  }
 ],
 "metadata": {
  "kernelspec": {
   "display_name": "Python 3",
   "language": "python",
   "name": "python3"
  },
  "language_info": {
   "codemirror_mode": {
    "name": "ipython",
    "version": 2
   },
   "file_extension": ".py",
   "mimetype": "text/x-python",
   "name": "python",
   "nbconvert_exporter": "python",
   "pygments_lexer": "ipython2",
   "version": "2.7.6"
  }
 },
 "nbformat": 4,
 "nbformat_minor": 0
}
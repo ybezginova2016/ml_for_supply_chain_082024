{
 "cells": [
  {
   "cell_type": "markdown",
   "metadata": {
    "deletable": false,
    "editable": false,
    "nbgrader": {
     "cell_type": "markdown",
     "checksum": "9c9c53f0008948ee2d1fde6e7cd88b7f",
     "grade": false,
     "grade_id": "cell-b1f44a3aa93b73be",
     "locked": true,
     "schema_version": 3,
     "solution": false,
     "task": false
    }
   },
   "source": [
    "## Lists\n",
    "a) 1 pt\n",
    "\n",
    "b) 1 pt\n",
    "\n",
    "c) 1 pt"
   ]
  },
  {
   "cell_type": "code",
   "execution_count": 1,
   "metadata": {
    "deletable": false,
    "nbgrader": {
     "cell_type": "code",
     "checksum": "b6cdfbfeb7d77de4008cd8f888fa71a8",
     "grade": false,
     "grade_id": "cell-5758017031267a14",
     "locked": false,
     "schema_version": 3,
     "solution": true,
     "task": false
    },
    "scrolled": true
   },
   "outputs": [
    {
     "data": {
      "text/plain": [
       "['SHORT HALTER',\n",
       " 'LACE INSET MACI',\n",
       " 'MAXI OMBRE',\n",
       " 'MAXI EMB DRESS',\n",
       " 'SLEEEVELESS DRESS',\n",
       " 'TIE DYE ROMPER',\n",
       " 'ROMPER',\n",
       " 'OMBRE MAXI W/LATICE WORK',\n",
       " 'TIE DYE WIDE LEG PANT']"
      ]
     },
     "execution_count": 1,
     "metadata": {},
     "output_type": "execute_result"
    }
   ],
   "source": [
    "'''\n",
    "a) Create a list called 'products' with the following items: \n",
    "'SHORT HALTER', 'LACE INSET MACI', 'MAXI OMBRE', 'MAXI EMB DRESS', 'SLEEEVELESS DRESS', 'TIE DYE ROMPER', 'ROMPER', 'OMBRE MAXI W/LATICE WORK', 'TIE DYE WIDE LEG PANT'\n",
    "'''\n",
    "\n",
    "# your code here\n",
    "products = ['SHORT HALTER', 'LACE INSET MACI', 'MAXI OMBRE', 'MAXI EMB DRESS', 'SLEEEVELESS DRESS', \n",
    "            'TIE DYE ROMPER', 'ROMPER',\n",
    "            'OMBRE MAXI W/LATICE WORK', 'TIE DYE WIDE LEG PANT']\n",
    "products\n"
   ]
  },
  {
   "cell_type": "code",
   "execution_count": null,
   "metadata": {
    "deletable": false,
    "editable": false,
    "nbgrader": {
     "cell_type": "code",
     "checksum": "b10be76a8f37f0dc9c1f034e5ec51068",
     "grade": true,
     "grade_id": "cell-fd28efa9d495edaf",
     "locked": true,
     "points": 1,
     "schema_version": 3,
     "solution": false,
     "task": false
    }
   },
   "outputs": [],
   "source": []
  },
  {
   "cell_type": "code",
   "execution_count": 5,
   "metadata": {
    "deletable": false,
    "nbgrader": {
     "cell_type": "code",
     "checksum": "48b03b4e4a0c7cf5de087edb62944aa6",
     "grade": false,
     "grade_id": "cell-3299436d7d1b1764",
     "locked": false,
     "schema_version": 3,
     "solution": true,
     "task": false
    }
   },
   "outputs": [
    {
     "data": {
      "text/plain": [
       "['MAXI OMBRE', 'MAXI EMB DRESS', 'SLEEEVELESS DRESS']"
      ]
     },
     "execution_count": 5,
     "metadata": {},
     "output_type": "execute_result"
    }
   ],
   "source": [
    "'''\n",
    "b) Then, store the 3rd-5th items in another list called 'product_subset'.\n",
    "'''\n",
    "# your code here\n",
    "\n",
    "# Store the 3rd-5th items in another list called 'product_subset'.\n",
    "product_subset = products[2:5]  # Index 2 to 4 (5th index is not included)\n",
    "\n",
    "# Let's print to verify\n",
    "product_subset"
   ]
  },
  {
   "cell_type": "code",
   "execution_count": null,
   "metadata": {
    "deletable": false,
    "editable": false,
    "nbgrader": {
     "cell_type": "code",
     "checksum": "fd3530304c3e68715ab86c121d2af14e",
     "grade": true,
     "grade_id": "cell-52902a41991c3040",
     "locked": true,
     "points": 1,
     "schema_version": 3,
     "solution": false,
     "task": false
    }
   },
   "outputs": [],
   "source": []
  },
  {
   "cell_type": "code",
   "execution_count": 8,
   "metadata": {
    "deletable": false,
    "nbgrader": {
     "cell_type": "code",
     "checksum": "2db0094d321a002282744c7de3d760e3",
     "grade": false,
     "grade_id": "cell-afa6e2f0ff03ad0f",
     "locked": false,
     "schema_version": 3,
     "solution": true,
     "task": false
    }
   },
   "outputs": [
    {
     "data": {
      "text/plain": [
       "['MAXI OMBRE', 'MAXI EMB DRESS', 'SLEEEVELESS DRESS', [...], [...]]"
      ]
     },
     "execution_count": 8,
     "metadata": {},
     "output_type": "execute_result"
    }
   ],
   "source": [
    "'''\n",
    "c) Append the last element of \"products\" to \"product_subset\"\n",
    "'''\n",
    "\n",
    "# your code here\n",
    "product_subset.append(products[-1])\n",
    "\n",
    "# Let's print to verify\n",
    "product_subset"
   ]
  },
  {
   "cell_type": "code",
   "execution_count": null,
   "metadata": {
    "deletable": false,
    "editable": false,
    "nbgrader": {
     "cell_type": "code",
     "checksum": "94ea7bf933178bb36cdf47323891beb2",
     "grade": true,
     "grade_id": "cell-00ea11bccf18c858",
     "locked": true,
     "points": 1,
     "schema_version": 3,
     "solution": false,
     "task": false
    }
   },
   "outputs": [],
   "source": []
  }
 ],
 "metadata": {
  "kernelspec": {
   "display_name": "Python 3",
   "language": "python",
   "name": "python3"
  },
  "language_info": {
   "codemirror_mode": {
    "name": "ipython",
    "version": 3
   },
   "file_extension": ".py",
   "mimetype": "text/x-python",
   "name": "python",
   "nbconvert_exporter": "python",
   "pygments_lexer": "ipython3",
   "version": "3.7.6"
  }
 },
 "nbformat": 4,
 "nbformat_minor": 4
}

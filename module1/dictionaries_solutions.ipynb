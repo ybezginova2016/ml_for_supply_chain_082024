{
 "cells": [
  {
   "cell_type": "code",
   "execution_count": null,
   "metadata": {
    "pycharm": {
     "name": "#%%\n"
    }
   },
   "outputs": [],
   "source": [
    "'''\n",
    "a) Create a dictionary called \"plants\" with information on the following warehouse plants:\n",
    "Locations        Supply\n",
    "Dallas:          900\n",
    "Las Vegas:       500\n",
    "Detroit':        832\n",
    "Nashville:       600\n",
    "Los Angeles:    2400\n",
    "Seattle:        1300\n",
    "Denver:         1800\n",
    "'''\n",
    "\n",
    "plants = {'Dallas': 900, 'Las Vegas': 500, 'Detroit': 832, 'Nashville': 600, 'Los Angeles': 2400, 'Seattle': 1300, 'Denver': 1800}"
   ]
  },
  {
   "cell_type": "code",
   "execution_count": null,
   "metadata": {
    "pycharm": {
     "name": "#%%\n"
    }
   },
   "outputs": [],
   "source": [
    "'''\n",
    "b) Store the keys of the dictionary into a list called 'locations'. Store the values into a list called 'supply'.\n",
    "HINT: Be sure that these variables are stored as lists. You can use list(x) on any list-like object x to convert it into a list.\n",
    "'''\n",
    "\n",
    "locations = list(plants.keys())\n",
    "supply = list(plants.values())"
   ]
  },
  {
   "cell_type": "code",
   "execution_count": null,
   "metadata": {
    "pycharm": {
     "name": "#%%\n"
    }
   },
   "outputs": [],
   "source": [
    "'''\n",
    "c) Extract the supply for 'Los Angeles' and store it into a variable called 'la_supply'\n",
    "'''\n",
    "\n",
    "la_supply = plants['Los Angeles']"
   ]
  }
 ],
 "metadata": {
  "kernelspec": {
   "display_name": "Python 3",
   "language": "python",
   "name": "python3"
  },
  "language_info": {
   "codemirror_mode": {
    "name": "ipython",
    "version": 3
   },
   "file_extension": ".py",
   "mimetype": "text/x-python",
   "name": "python",
   "nbconvert_exporter": "python",
   "pygments_lexer": "ipython3",
   "version": "3.7.6"
  }
 },
 "nbformat": 4,
 "nbformat_minor": 4
}
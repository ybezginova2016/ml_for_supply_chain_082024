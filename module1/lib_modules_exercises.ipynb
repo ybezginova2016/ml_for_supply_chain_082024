{
 "cells": [
  {
   "cell_type": "code",
   "execution_count": null,
   "metadata": {
    "collapsed": true,
    "pycharm": {
     "name": "#%%\n"
    }
   },
   "outputs": [],
   "source": [
    "# Module - file with definitions / statements\n",
    "\n",
    "# Library - organized collection of modules"
   ]
  },
  {
   "cell_type": "code",
   "execution_count": 2,
   "outputs": [],
   "source": [
    "import numpy as np"
   ],
   "metadata": {
    "collapsed": false,
    "pycharm": {
     "name": "#%%\n"
    }
   }
  },
  {
   "cell_type": "code",
   "execution_count": 6,
   "outputs": [
    {
     "name": "stdout",
     "output_type": "stream",
     "text": [
      "[7.87653125e-01 9.98104794e-01 5.46869241e-04 8.43832442e-01\n",
      " 2.26130694e-01 7.07470770e-01 2.53199036e-01 8.56701017e-01\n",
      " 1.63543700e-01]\n"
     ]
    }
   ],
   "source": [
    "nums = np.random.rand(9)\n",
    "print(nums)"
   ],
   "metadata": {
    "collapsed": false,
    "pycharm": {
     "name": "#%%\n"
    }
   }
  },
  {
   "cell_type": "code",
   "execution_count": 11,
   "outputs": [
    {
     "data": {
      "text/plain": "array([[0.123109  , 0.47618963, 0.18969298, 0.40898982, 0.24822385,\n        0.1629205 , 0.02311745, 0.5436542 , 0.49119429],\n       [0.20408262, 0.58385494, 0.86599102, 0.7410875 , 0.6698853 ,\n        0.96875484, 0.7843356 , 0.88327046, 0.49611173],\n       [0.90285244, 0.00525459, 0.86682487, 0.8131044 , 0.96307576,\n        0.64877657, 0.83906999, 0.94361301, 0.00256545],\n       [0.43052054, 0.89802128, 0.4163203 , 0.10042777, 0.4670262 ,\n        0.78911157, 0.4937313 , 0.92964606, 0.31358207]])"
     },
     "execution_count": 11,
     "metadata": {},
     "output_type": "execute_result"
    }
   ],
   "source": [
    "mat = np.random.rand(4, 9)\n",
    "mat"
   ],
   "metadata": {
    "collapsed": false,
    "pycharm": {
     "name": "#%%\n"
    }
   }
  },
  {
   "cell_type": "code",
   "execution_count": 9,
   "outputs": [
    {
     "data": {
      "text/plain": "0.35044291497010177"
     },
     "execution_count": 9,
     "metadata": {},
     "output_type": "execute_result"
    }
   ],
   "source": [
    "nums.std()"
   ],
   "metadata": {
    "collapsed": false,
    "pycharm": {
     "name": "#%%\n"
    }
   }
  },
  {
   "cell_type": "code",
   "execution_count": 12,
   "outputs": [
    {
     "data": {
      "text/plain": "0.30762878385006903"
     },
     "execution_count": 12,
     "metadata": {},
     "output_type": "execute_result"
    }
   ],
   "source": [
    "mat.std()"
   ],
   "metadata": {
    "collapsed": false,
    "pycharm": {
     "name": "#%%\n"
    }
   }
  },
  {
   "cell_type": "code",
   "execution_count": 13,
   "outputs": [
    {
     "data": {
      "text/plain": "0.9687548444825936"
     },
     "execution_count": 13,
     "metadata": {},
     "output_type": "execute_result"
    }
   ],
   "source": [
    "mat.max()"
   ],
   "metadata": {
    "collapsed": false,
    "pycharm": {
     "name": "#%%\n"
    }
   }
  },
  {
   "cell_type": "code",
   "execution_count": 14,
   "outputs": [
    {
     "data": {
      "text/plain": "0.0946354686530725"
     },
     "execution_count": 14,
     "metadata": {},
     "output_type": "execute_result"
    }
   ],
   "source": [
    "mat.var()"
   ],
   "metadata": {
    "collapsed": false,
    "pycharm": {
     "name": "#%%\n"
    }
   }
  },
  {
   "cell_type": "code",
   "execution_count": 16,
   "outputs": [
    {
     "data": {
      "text/plain": "0.35044291497010177"
     },
     "execution_count": 16,
     "metadata": {},
     "output_type": "execute_result"
    }
   ],
   "source": [
    "np.std(nums)"
   ],
   "metadata": {
    "collapsed": false,
    "pycharm": {
     "name": "#%%\n"
    }
   }
  },
  {
   "cell_type": "code",
   "execution_count": 17,
   "outputs": [
    {
     "name": "stdout",
     "output_type": "stream",
     "text": [
      "Collecting PULP\n",
      "  Downloading PuLP-2.9.0-py3-none-any.whl.metadata (5.4 kB)\n",
      "Downloading PuLP-2.9.0-py3-none-any.whl (17.7 MB)\n",
      "   ---------------------------------------- 0.0/17.7 MB ? eta -:--:--\n",
      "   ----------------- ---------------------- 7.6/17.7 MB 42.7 MB/s eta 0:00:01\n",
      "   ---------------------------------------  17.6/17.7 MB 48.2 MB/s eta 0:00:01\n",
      "   ---------------------------------------- 17.7/17.7 MB 41.3 MB/s eta 0:00:00\n",
      "Installing collected packages: PULP\n",
      "Successfully installed PULP-2.9.0\n"
     ]
    },
    {
     "name": "stderr",
     "output_type": "stream",
     "text": [
      "WARNING: Ignoring invalid distribution - (c:\\users\\home\\appdata\\local\\programs\\python\\python39\\lib\\site-packages)\n",
      "WARNING: Ignoring invalid distribution -illow (c:\\users\\home\\appdata\\local\\programs\\python\\python39\\lib\\site-packages)\n",
      "WARNING: Ignoring invalid distribution - (c:\\users\\home\\appdata\\local\\programs\\python\\python39\\lib\\site-packages)\n",
      "WARNING: Ignoring invalid distribution -illow (c:\\users\\home\\appdata\\local\\programs\\python\\python39\\lib\\site-packages)\n",
      "WARNING: Ignoring invalid distribution - (c:\\users\\home\\appdata\\local\\programs\\python\\python39\\lib\\site-packages)\n",
      "WARNING: Ignoring invalid distribution -illow (c:\\users\\home\\appdata\\local\\programs\\python\\python39\\lib\\site-packages)\n"
     ]
    }
   ],
   "source": [
    "!pip install PULP"
   ],
   "metadata": {
    "collapsed": false,
    "pycharm": {
     "name": "#%%\n"
    }
   }
  },
  {
   "cell_type": "code",
   "execution_count": 20,
   "outputs": [],
   "source": [
    "import pulp"
   ],
   "metadata": {
    "collapsed": false,
    "pycharm": {
     "name": "#%%\n"
    }
   }
  },
  {
   "cell_type": "markdown",
   "source": [
    "### What is PuLP?\n",
    "\n",
    "PuLP is a Python package that specializes in discrete optimization. For example, suppose we want to maximize x*y given that 2*x + y = 3. If we allow any number as a solution then calculus tells us that we would get x = 3/4 and y = 3/2. However, suppose we are only allowed to have integers for solutions (i.e. no fractions). One might expect the answer to be integers close to these fractions (e.g. x = 1 and y = 1), but it's not always this simple. We would use PuLP in place of caluclus for problems like this.\n",
    "\n",
    "Here's an [article discussing PuLP](https://medium.com/ro-data-team-blog/optimization-with-pulp-in-python-getting-started-f6c5b678bf15).\n",
    "\n",
    "PuLP is a Python library used for linear programming and discrete optimization problems. It allows you to define and solve optimization problems where you need to maximize or minimize an objective function subject to certain constraints. For example, if you want to maximize x×y given that 2x+y=3, and the solutions must be integers, PuLP can be used to find the optimal solution. It's particularly useful in operations research, supply chain management, and similar fields."
   ],
   "metadata": {
    "collapsed": false,
    "pycharm": {
     "name": "#%% md\n"
    }
   }
  }
 ],
 "metadata": {
  "kernelspec": {
   "display_name": "Python 3",
   "language": "python",
   "name": "python3"
  },
  "language_info": {
   "codemirror_mode": {
    "name": "ipython",
    "version": 2
   },
   "file_extension": ".py",
   "mimetype": "text/x-python",
   "name": "python",
   "nbconvert_exporter": "python",
   "pygments_lexer": "ipython2",
   "version": "2.7.6"
  }
 },
 "nbformat": 4,
 "nbformat_minor": 0
}
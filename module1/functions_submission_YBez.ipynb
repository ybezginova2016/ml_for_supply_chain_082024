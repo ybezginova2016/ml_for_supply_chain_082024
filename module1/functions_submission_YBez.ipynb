{
 "cells": [
  {
   "cell_type": "markdown",
   "metadata": {
    "deletable": false,
    "editable": false,
    "nbgrader": {
     "cell_type": "markdown",
     "checksum": "d8312d169c8db5a19310fc69663b62d8",
     "grade": false,
     "grade_id": "cell-f50e8f2dad77d0f0",
     "locked": true,
     "schema_version": 3,
     "solution": false,
     "task": false
    },
    "pycharm": {
     "name": "#%% md\n"
    }
   },
   "source": [
    "### Functions\n",
    "\n",
    "Define a function called 'dictionary_creator' to take in two lists and return a dictionary with key:value pair list1:list2. If the two lists are not the same size, return the word \"Error\" instead. "
   ]
  },
  {
   "cell_type": "code",
   "execution_count": null,
   "metadata": {
    "deletable": false,
    "nbgrader": {
     "cell_type": "code",
     "checksum": "1301e8f05758ddc71be3c138745116cf",
     "grade": false,
     "grade_id": "cell-abefb9ce47096e11",
     "locked": false,
     "schema_version": 3,
     "solution": true,
     "task": false
    },
    "pycharm": {
     "name": "#%%\n"
    }
   },
   "outputs": [],
   "source": [
    "def dictionary_creator(list1, list2):\n",
    "    \n",
    "    ### dictionary_creator(['a', 'b', 'c'], [1,2,3]) should return {'a': 1, 'b': 2, 'c': 3}\n",
    "    ### dictionary_creator(['monkeys', 'pirates', 'captains'], [1,2]) should return \"Error\"\n",
    "    \n",
    "    # your code here\n"
   ]
  },
  {
   "cell_type": "code",
   "execution_count": 18,
   "outputs": [],
   "source": [
    "list1 = ['a', 'b', 'c']\n",
    "list2 = [100, 110, 130]\n",
    "list3 = ['Yulia', 'Serbia', 'Russia']\n",
    "list4 = [90, 10, 5, 15]"
   ],
   "metadata": {
    "collapsed": false,
    "pycharm": {
     "name": "#%%\n"
    }
   }
  },
  {
   "cell_type": "code",
   "execution_count": 13,
   "outputs": [
    {
     "name": "stdout",
     "output_type": "stream",
     "text": [
      "no\n"
     ]
    }
   ],
   "source": [
    "if len(list1) == len(list2):\n",
    "    print('yes')\n",
    "else:\n",
    "    print('no')"
   ],
   "metadata": {
    "collapsed": false,
    "pycharm": {
     "name": "#%%\n"
    }
   }
  },
  {
   "cell_type": "code",
   "execution_count": 20,
   "outputs": [
    {
     "name": "stdout",
     "output_type": "stream",
     "text": [
      "{('a', 'b', 'c'): [100, 110, 130]}\n"
     ]
    }
   ],
   "source": [
    "### Ошибка возникает из-за того, что в Python ключи словаря должны быть неизменяемыми объектами (например, строки, числа, кортежи), а вы используете список [list1] в качестве ключа. Списки являются изменяемыми объектами и не могут использоваться в качестве ключей в словарях.\n",
    "\n",
    "# Чтобы исправить эту ошибку, можно использовать неизменяемый объект, например, кортеж:\n",
    "\n",
    "# dict = {[list1] : [list2]}\n",
    "\n",
    "list1 = ['a', 'b', 'c']\n",
    "list2 = [100, 110, 130]\n",
    "\n",
    "# Преобразуем список в кортеж, чтобы использовать его в качестве ключа\n",
    "dict = {tuple(list1): list2}\n",
    "\n",
    "print(dict)"
   ],
   "metadata": {
    "collapsed": false,
    "pycharm": {
     "name": "#%%\n"
    }
   }
  },
  {
   "cell_type": "code",
   "execution_count": 28,
   "outputs": [],
   "source": [
    "def dictionary_creator(list1, list2):\n",
    "    if len(list1) == len(list2):\n",
    "        dict = {tuple(list1) : list2}\n",
    "        return dict\n",
    "    else:\n",
    "        return('Error')"
   ],
   "metadata": {
    "collapsed": false,
    "pycharm": {
     "name": "#%%\n"
    }
   }
  },
  {
   "cell_type": "code",
   "execution_count": 29,
   "outputs": [
    {
     "data": {
      "text/plain": "{('a', 'b', 'c'): [100, 110, 130]}"
     },
     "execution_count": 29,
     "metadata": {},
     "output_type": "execute_result"
    }
   ],
   "source": [
    "dictionary_creator(list1, list2)"
   ],
   "metadata": {
    "collapsed": false,
    "pycharm": {
     "name": "#%%\n"
    }
   }
  },
  {
   "cell_type": "code",
   "execution_count": 30,
   "outputs": [
    {
     "data": {
      "text/plain": "'Error'"
     },
     "execution_count": 30,
     "metadata": {},
     "output_type": "execute_result"
    }
   ],
   "source": [
    "dictionary_creator(list1, list4)"
   ],
   "metadata": {
    "collapsed": false,
    "pycharm": {
     "name": "#%%\n"
    }
   }
  },
  {
   "cell_type": "code",
   "execution_count": 32,
   "outputs": [],
   "source": [
    "# professor's solution\n",
    "\n",
    "def dictionary_creator(list1, list2):\n",
    "    if len(list1) == len(list2):\n",
    "        return dict(zip(list1, list2))\n",
    "    else:\n",
    "        return \"Error\""
   ],
   "metadata": {
    "collapsed": false,
    "pycharm": {
     "name": "#%%\n"
    }
   }
  },
  {
   "cell_type": "markdown",
   "source": [
    "### Решение\n",
    "\n",
    "* `zip(list1, list2)`: Эта функция создаёт итератор, который объединяет элементы из обоих списков попарно. Например, если list1 = ['a', 'b', 'c'] и list2 = [100, 110, 130], zip создаст пары [('a', 100), ('b', 110), ('c', 130)].\n",
    "\n",
    "* `dict(zip(list1, list2))`: Создаёт словарь, где элементы list1 становятся ключами, а элементы list2 — значениями. В результате получается словарь `{ 'a': 100, 'b': 110, 'c': 130 }`.\n",
    "Проверка на равенство длины списков защищает от ошибок, когда количество ключей и значений не совпадает. Если длины не совпадают, функция возвращает \"Error\"."
   ],
   "metadata": {
    "collapsed": false,
    "pycharm": {
     "name": "#%% md\n"
    }
   }
  },
  {
   "cell_type": "code",
   "execution_count": 31,
   "metadata": {
    "deletable": false,
    "editable": false,
    "nbgrader": {
     "cell_type": "code",
     "checksum": "e44895113829c7a69738e7ad64cf0009",
     "grade": true,
     "grade_id": "cell-ee6eb93589b9502f",
     "locked": true,
     "points": 1,
     "schema_version": 3,
     "solution": false,
     "task": false
    },
    "pycharm": {
     "name": "#%%\n"
    }
   },
   "outputs": [
    {
     "data": {
      "text/plain": "'\\nEND OF SECTION\\n'"
     },
     "execution_count": 31,
     "metadata": {},
     "output_type": "execute_result"
    }
   ],
   "source": [
    "'''\n",
    "END OF SECTION\n",
    "'''\n"
   ]
  }
 ],
 "metadata": {
  "kernelspec": {
   "display_name": "Python 3",
   "language": "python",
   "name": "python3"
  },
  "language_info": {
   "codemirror_mode": {
    "name": "ipython",
    "version": 3
   },
   "file_extension": ".py",
   "mimetype": "text/x-python",
   "name": "python",
   "nbconvert_exporter": "python",
   "pygments_lexer": "ipython3",
   "version": "3.7.6"
  }
 },
 "nbformat": 4,
 "nbformat_minor": 4
}
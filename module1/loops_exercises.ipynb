{
 "cells": [
  {
   "cell_type": "code",
   "execution_count": 29,
   "metadata": {
    "collapsed": true,
    "pycharm": {
     "name": "#%%\n"
    }
   },
   "outputs": [],
   "source": [
    "notes = [1,2,3,4,5,6,7,8,9,10]\n",
    "letters = ['a', 'b']"
   ]
  },
  {
   "cell_type": "code",
   "execution_count": 30,
   "outputs": [
    {
     "name": "stdout",
     "output_type": "stream",
     "text": [
      "1 a\n",
      "1 b\n",
      "2 a\n",
      "2 b\n",
      "3 a\n",
      "3 b\n",
      "4 a\n",
      "4 b\n",
      "5 a\n",
      "5 b\n",
      "6 a\n",
      "6 b\n",
      "7 a\n",
      "7 b\n",
      "8 a\n",
      "8 b\n",
      "9 a\n",
      "9 b\n",
      "10 a\n",
      "10 b\n"
     ]
    }
   ],
   "source": [
    "for n in notes:\n",
    "    for l in letters:\n",
    "        print(n, l)"
   ],
   "metadata": {
    "collapsed": false,
    "pycharm": {
     "name": "#%%\n"
    }
   }
  },
  {
   "cell_type": "code",
   "execution_count": 31,
   "outputs": [
    {
     "name": "stdout",
     "output_type": "stream",
     "text": [
      "1\n",
      "2\n",
      "3\n",
      "4\n",
      "5\n",
      "6\n",
      "7\n"
     ]
    }
   ],
   "source": [
    "i = 1\n",
    "# infinite loop\n",
    "# while i < 2:\n",
    "#     print(i)\n",
    "\n",
    "while i < 8:\n",
    "    print(i)\n",
    "    i += 1  # This increments i by 1 each time the loop runs"
   ],
   "metadata": {
    "collapsed": false,
    "pycharm": {
     "name": "#%%\n"
    }
   }
  },
  {
   "cell_type": "code",
   "execution_count": 37,
   "outputs": [
    {
     "name": "stdout",
     "output_type": "stream",
     "text": [
      "1\n",
      "3\n",
      "5\n"
     ]
    }
   ],
   "source": [
    "i = 1 # ALWAYS initialize the variable i right BEFORE each loop\n",
    "while i < 7:\n",
    "    print(i)\n",
    "    i += 2"
   ],
   "metadata": {
    "collapsed": false,
    "pycharm": {
     "name": "#%%\n"
    }
   }
  }
 ],
 "metadata": {
  "kernelspec": {
   "display_name": "Python 3",
   "language": "python",
   "name": "python3"
  },
  "language_info": {
   "codemirror_mode": {
    "name": "ipython",
    "version": 2
   },
   "file_extension": ".py",
   "mimetype": "text/x-python",
   "name": "python",
   "nbconvert_exporter": "python",
   "pygments_lexer": "ipython2",
   "version": "2.7.6"
  }
 },
 "nbformat": 4,
 "nbformat_minor": 0
}
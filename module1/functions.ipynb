{
 "cells": [
  {
   "cell_type": "markdown",
   "metadata": {
    "deletable": false,
    "editable": false,
    "nbgrader": {
     "cell_type": "markdown",
     "checksum": "d8312d169c8db5a19310fc69663b62d8",
     "grade": false,
     "grade_id": "cell-f50e8f2dad77d0f0",
     "locked": true,
     "schema_version": 3,
     "solution": false,
     "task": false
    },
    "pycharm": {
     "name": "#%% md\n"
    }
   },
   "source": [
    "### Functions\n",
    "\n",
    "Define a function called 'dictionary_creator' to take in two lists and return a dictionary with key:value pair list1:list2. If the two lists are not the same size, return the word \"Error\" instead. "
   ]
  },
  {
   "cell_type": "code",
   "execution_count": null,
   "metadata": {
    "deletable": false,
    "nbgrader": {
     "cell_type": "code",
     "checksum": "1301e8f05758ddc71be3c138745116cf",
     "grade": false,
     "grade_id": "cell-abefb9ce47096e11",
     "locked": false,
     "schema_version": 3,
     "solution": true,
     "task": false
    },
    "pycharm": {
     "name": "#%%\n"
    }
   },
   "outputs": [],
   "source": [
    "def dictionary_creator(list1, list2):\n",
    "    \n",
    "    ### dictionary_creator(['a', 'b', 'c'], [1,2,3]) should return {'a': 1, 'b': 2, 'c': 3}\n",
    "    ### dictionary_creator(['monkeys', 'pirates', 'captains'], [1,2]) should return \"Error\"\n",
    "    \n",
    "    # your code here\n",
    "    "
   ]
  },
  {
   "cell_type": "code",
   "execution_count": null,
   "metadata": {
    "deletable": false,
    "editable": false,
    "nbgrader": {
     "cell_type": "code",
     "checksum": "e44895113829c7a69738e7ad64cf0009",
     "grade": true,
     "grade_id": "cell-ee6eb93589b9502f",
     "locked": true,
     "points": 1,
     "schema_version": 3,
     "solution": false,
     "task": false
    },
    "pycharm": {
     "name": "#%%\n"
    }
   },
   "outputs": [],
   "source": [
    "'''\n",
    "END OF SECTION\n",
    "'''\n"
   ]
  }
 ],
 "metadata": {
  "kernelspec": {
   "display_name": "Python 3",
   "language": "python",
   "name": "python3"
  },
  "language_info": {
   "codemirror_mode": {
    "name": "ipython",
    "version": 3
   },
   "file_extension": ".py",
   "mimetype": "text/x-python",
   "name": "python",
   "nbconvert_exporter": "python",
   "pygments_lexer": "ipython3",
   "version": "3.7.6"
  }
 },
 "nbformat": 4,
 "nbformat_minor": 4
}
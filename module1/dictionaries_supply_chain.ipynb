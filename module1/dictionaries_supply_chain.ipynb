{
 "cells": [
  {
   "cell_type": "markdown",
   "metadata": {
    "deletable": false,
    "editable": false,
    "nbgrader": {
     "cell_type": "markdown",
     "checksum": "e0bfe151d5b918fa9aab6561dcc1d163",
     "grade": false,
     "grade_id": "cell-dd5c103ea18be536",
     "locked": true,
     "schema_version": 3,
     "solution": false,
     "task": false
    }
   },
   "source": [
    "## Dictionaries\n",
    "\n",
    "a) 1 pt\n",
    "\n",
    "b) 1 pt\n",
    "\n",
    "c) 1 pt"
   ]
  },
  {
   "cell_type": "code",
   "execution_count": null,
   "metadata": {
    "deletable": false,
    "nbgrader": {
     "cell_type": "code",
     "checksum": "eb61e2d094e1c1dc37f5e8aecdf1ee72",
     "grade": false,
     "grade_id": "cell-e19c5a219469cfa5",
     "locked": false,
     "schema_version": 3,
     "solution": true,
     "task": false
    }
   },
   "outputs": [],
   "source": [
    "'''\n",
    "a) Create a dictionary called \"plants\" with information on the following warehouse plants:\n",
    "Locations        Supply\n",
    "Dallas:          900\n",
    "Las Vegas:       500\n",
    "Detroit':        832\n",
    "Nashville:       600\n",
    "Los Angeles:    2400\n",
    "Seattle:        1300\n",
    "Denver:         1800\n",
    "'''\n",
    "\n",
    "# your code here\n"
   ]
  },
  {
   "cell_type": "code",
   "execution_count": null,
   "metadata": {
    "deletable": false,
    "editable": false,
    "nbgrader": {
     "cell_type": "code",
     "checksum": "685d637a3a11c8d0624f3cb2cfe94d4b",
     "grade": true,
     "grade_id": "cell-b7a1c8665de3aafb",
     "locked": true,
     "points": 1,
     "schema_version": 3,
     "solution": false,
     "task": false
    }
   },
   "outputs": [],
   "source": [
    "'''\n",
    "END OF SECTION\n",
    "'''\n"
   ]
  },
  {
   "cell_type": "code",
   "execution_count": null,
   "metadata": {
    "deletable": false,
    "nbgrader": {
     "cell_type": "code",
     "checksum": "05638b41fd3b03b697fbf4379ee3638c",
     "grade": false,
     "grade_id": "cell-cf3c4b306c4f9d47",
     "locked": false,
     "schema_version": 3,
     "solution": true,
     "task": false
    }
   },
   "outputs": [],
   "source": [
    "'''\n",
    "b) Store the keys of the dictionary into a list called 'locations'. Store the values into a list called 'supply'.\n",
    "HINT: Be sure that these variables are stored as lists. You can use list(x) on any list-like object x to convert it into a list.\n",
    "'''\n",
    "# your code here\n"
   ]
  },
  {
   "cell_type": "code",
   "execution_count": null,
   "metadata": {
    "deletable": false,
    "editable": false,
    "nbgrader": {
     "cell_type": "code",
     "checksum": "2447956237292fc1a904ef849a6b5fbf",
     "grade": true,
     "grade_id": "cell-5252119a0f128e94",
     "locked": true,
     "points": 1,
     "schema_version": 3,
     "solution": false,
     "task": false
    }
   },
   "outputs": [],
   "source": [
    "'''\n",
    "END OF SECTION\n",
    "'''\n"
   ]
  },
  {
   "cell_type": "code",
   "execution_count": null,
   "metadata": {
    "deletable": false,
    "nbgrader": {
     "cell_type": "code",
     "checksum": "ec262b70367866b3f1123cf9b3fa333f",
     "grade": false,
     "grade_id": "cell-e9d91feb0ff0ff55",
     "locked": false,
     "schema_version": 3,
     "solution": true,
     "task": false
    }
   },
   "outputs": [],
   "source": [
    "'''\n",
    "c) Extract the supply for 'Los Angeles' and store it into a variable called 'la_supply'\n",
    "'''\n",
    "# your code here\n"
   ]
  },
  {
   "cell_type": "code",
   "execution_count": null,
   "metadata": {
    "deletable": false,
    "editable": false,
    "nbgrader": {
     "cell_type": "code",
     "checksum": "67c9bda5ccb5fb281390f68c659e7818",
     "grade": true,
     "grade_id": "cell-c946c42ffaa3884a",
     "locked": true,
     "points": 1,
     "schema_version": 3,
     "solution": false,
     "task": false
    }
   },
   "outputs": [],
   "source": [
    "'''\n",
    "END OF SECTION\n",
    "'''"
   ]
  }
 ],
 "metadata": {
  "kernelspec": {
   "display_name": "Python 3",
   "language": "python",
   "name": "python3"
  },
  "language_info": {
   "codemirror_mode": {
    "name": "ipython",
    "version": 3
   },
   "file_extension": ".py",
   "mimetype": "text/x-python",
   "name": "python",
   "nbconvert_exporter": "python",
   "pygments_lexer": "ipython3",
   "version": "3.7.6"
  }
 },
 "nbformat": 4,
 "nbformat_minor": 4
}

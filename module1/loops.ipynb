{
 "cells": [
  {
   "cell_type": "markdown",
   "metadata": {
    "deletable": false,
    "editable": false,
    "nbgrader": {
     "cell_type": "markdown",
     "checksum": "d3c2fff192c7833ec721e5b6cffcfdd1",
     "grade": false,
     "grade_id": "cell-d6c13c15c59255fd",
     "locked": true,
     "schema_version": 3,
     "solution": false,
     "task": false
    }
   },
   "source": [
    "## Loops\n",
    "\n",
    "\n",
    "We have created a dictionary called 'plants' with the values representing annual supply out of that region.\n",
    "Use a for loop to populate a list called 'updated_plants' with only the plant names of the plants with an annual supply of more than 875 units."
   ]
  },
  {
   "cell_type": "code",
   "execution_count": 26,
   "metadata": {
    "deletable": false,
    "editable": false,
    "nbgrader": {
     "cell_type": "code",
     "checksum": "3fb96c61543546e7d8b0aa4ba8be1653",
     "grade": false,
     "grade_id": "cell-200f89eacc88c232",
     "locked": true,
     "schema_version": 3,
     "solution": false,
     "task": false
    }
   },
   "outputs": [],
   "source": [
    "plants = {'Dallas': 900, 'Las Vegas': 500, 'Detroit': 832, 'Nashville': 600, 'Los Angeles': 2400, 'Seattle': 1300, 'Denver': 1800}"
   ]
  },
  {
   "cell_type": "code",
   "execution_count": 21,
   "metadata": {
    "deletable": false,
    "nbgrader": {
     "cell_type": "code",
     "checksum": "3265ffa57a8cbc2f1d94b22429d7cb49",
     "grade": false,
     "grade_id": "cell-e99da6a4fa695423",
     "locked": false,
     "schema_version": 3,
     "solution": true,
     "task": false
    },
    "pycharm": {
     "name": "#%%\n"
    }
   },
   "outputs": [
    {
     "name": "stdout",
     "output_type": "stream",
     "text": [
      "['Dallas', 'Los Angeles', 'Seattle', 'Denver']\n"
     ]
    }
   ],
   "source": [
    "updated_plants = []\n",
    "\n",
    "'''\n",
    "Populate the list called 'updated_plants' with only the plant names of the \n",
    "plants with an annual supply of more than 875 units.\n",
    "'''\n",
    "# Yulia's solution\n",
    "\n",
    "for p in plants:\n",
    "    if plants[p] > 875:\n",
    "        updated_plants.append(p)\n",
    "\n",
    "print(updated_plants)"
   ]
  },
  {
   "cell_type": "code",
   "execution_count": 28,
   "outputs": [
    {
     "name": "stdout",
     "output_type": "stream",
     "text": [
      "['Dallas', 'Los Angeles', 'Seattle', 'Denver']\n"
     ]
    }
   ],
   "source": [
    "# AUTHOR solution\n",
    "updated_plants = []\n",
    "for plant in plants:\n",
    "    temp_val = plants[plant]\n",
    "    if temp_val > 875:\n",
    "        updated_plants.append(plant)\n",
    "\n",
    "print(updated_plants)"
   ],
   "metadata": {
    "collapsed": false,
    "pycharm": {
     "name": "#%%\n"
    }
   }
  },
  {
   "cell_type": "code",
   "execution_count": null,
   "outputs": [],
   "source": [
    "# Когда вы пишете for p in plants:, Python автоматически проходит по ключам словаря.\n",
    "\n",
    "# Это особенность работы циклов for со словарями: они по умолчанию итерируют по ключам.\n",
    "#\n",
    "# plants[p]: Здесь мы обращаемся к значению словаря plants, используя ключ p.\n",
    "# В данном случае p — это название склада (например, 'Dallas'), а plants[p] — это значение, связанное с этим ключом (например, 900 для Далласа)."
   ],
   "metadata": {
    "collapsed": false,
    "pycharm": {
     "name": "#%%\n"
    }
   }
  },
  {
   "cell_type": "code",
   "execution_count": 19,
   "outputs": [
    {
     "name": "stdout",
     "output_type": "stream",
     "text": [
      "900\n",
      "500\n",
      "832\n",
      "600\n",
      "2400\n",
      "1300\n",
      "1800\n"
     ]
    }
   ],
   "source": [
    "for p in plants: # обращение к ключам\n",
    "    print(plants[p]) # вывод значений по ключам"
   ],
   "metadata": {
    "collapsed": false,
    "pycharm": {
     "name": "#%%\n"
    }
   }
  },
  {
   "cell_type": "code",
   "execution_count": 11,
   "outputs": [
    {
     "data": {
      "text/plain": "{'Dallas': 900,\n 'Las Vegas': 500,\n 'Detroit': 832,\n 'Nashville': 600,\n 'Los Angeles': 2400,\n 'Seattle': 1300,\n 'Denver': 1800}"
     },
     "execution_count": 11,
     "metadata": {},
     "output_type": "execute_result"
    }
   ],
   "source": [
    "plants"
   ],
   "metadata": {
    "collapsed": false,
    "pycharm": {
     "name": "#%%\n"
    }
   }
  },
  {
   "cell_type": "code",
   "execution_count": 12,
   "outputs": [
    {
     "name": "stdout",
     "output_type": "stream",
     "text": [
      "Dallas\n",
      "Las Vegas\n",
      "Detroit\n",
      "Nashville\n",
      "Los Angeles\n",
      "Seattle\n",
      "Denver\n"
     ]
    }
   ],
   "source": [
    "for p in plants:\n",
    "    print(p)"
   ],
   "metadata": {
    "collapsed": false,
    "pycharm": {
     "name": "#%%\n"
    }
   }
  },
  {
   "cell_type": "code",
   "execution_count": 13,
   "outputs": [
    {
     "name": "stdout",
     "output_type": "stream",
     "text": [
      "Dallas\n",
      "Las Vegas\n",
      "Detroit\n",
      "Nashville\n",
      "Los Angeles\n",
      "Seattle\n",
      "Denver\n"
     ]
    }
   ],
   "source": [
    "for p in plants.keys():\n",
    "    print(p)"
   ],
   "metadata": {
    "collapsed": false,
    "pycharm": {
     "name": "#%%\n"
    }
   }
  },
  {
   "cell_type": "code",
   "execution_count": 14,
   "outputs": [
    {
     "name": "stdout",
     "output_type": "stream",
     "text": [
      "900\n",
      "500\n",
      "832\n",
      "600\n",
      "2400\n",
      "1300\n",
      "1800\n"
     ]
    }
   ],
   "source": [
    "for p in plants.values():\n",
    "    print(p)"
   ],
   "metadata": {
    "collapsed": false,
    "pycharm": {
     "name": "#%%\n"
    }
   }
  },
  {
   "cell_type": "code",
   "execution_count": 15,
   "outputs": [
    {
     "name": "stdout",
     "output_type": "stream",
     "text": [
      "900\n",
      "2400\n",
      "1300\n",
      "1800\n"
     ]
    }
   ],
   "source": [
    "for p in plants.values():\n",
    "    if p > 875:\n",
    "        print(p)"
   ],
   "metadata": {
    "collapsed": false,
    "pycharm": {
     "name": "#%%\n"
    }
   }
  },
  {
   "cell_type": "code",
   "execution_count": null,
   "outputs": [],
   "source": [],
   "metadata": {
    "collapsed": false,
    "pycharm": {
     "name": "#%%\n"
    }
   }
  },
  {
   "cell_type": "code",
   "execution_count": null,
   "metadata": {
    "deletable": false,
    "editable": false,
    "nbgrader": {
     "cell_type": "code",
     "checksum": "b8efaa47e2019a002b87d51fa57e20a9",
     "grade": true,
     "grade_id": "cell-d9d38ad084cecdf3",
     "locked": true,
     "points": 1,
     "schema_version": 3,
     "solution": false,
     "task": false
    }
   },
   "outputs": [],
   "source": [
    "'''\n",
    "END OF SECTION\n",
    "'''\n"
   ]
  }
 ],
 "metadata": {
  "kernelspec": {
   "display_name": "Python 3",
   "language": "python",
   "name": "python3"
  },
  "language_info": {
   "codemirror_mode": {
    "name": "ipython",
    "version": 3
   },
   "file_extension": ".py",
   "mimetype": "text/x-python",
   "name": "python",
   "nbconvert_exporter": "python",
   "pygments_lexer": "ipython3",
   "version": "3.7.6"
  }
 },
 "nbformat": 4,
 "nbformat_minor": 4
}
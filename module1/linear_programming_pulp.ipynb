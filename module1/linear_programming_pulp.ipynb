{
 "cells": [
  {
   "cell_type": "markdown",
   "source": [
    "### Supply Chain Mnt Optimization\n",
    "\n",
    "#### 4 Plants\n",
    "- Dallas\n",
    "- Los Angeles\n",
    "- Seatle\n",
    "- Denver\n",
    "\n",
    "#### 4 Stores (Demand)\n",
    "- Austin\n",
    "- Sacramento\n",
    "- Philadelphia\n",
    "- Boulder\n",
    "\n",
    "### Costs\n",
    "- Fixed cost to build plant\n",
    "- Variable cost to ship product per route\n",
    "\n",
    "### Research Questions\n",
    "#### 1) Which plant should we build?\n",
    "#### 2) Which products should we send on which route?"
   ],
   "metadata": {
    "collapsed": false,
    "pycharm": {
     "name": "#%% md\n"
    }
   }
  },
  {
   "cell_type": "code",
   "execution_count": 17,
   "outputs": [],
   "source": [
    "import pulp"
   ],
   "metadata": {
    "collapsed": false,
    "pycharm": {
     "name": "#%%\n"
    }
   }
  },
  {
   "cell_type": "code",
   "execution_count": 28,
   "metadata": {
    "collapsed": true,
    "pycharm": {
     "name": "#%%\n"
    }
   },
   "outputs": [],
   "source": [
    "# Costs: Dictionary of Dictionaries\n",
    "\n",
    "# 4 supply plants\n",
    "plants = ['Dallas', 'Los Angeles', 'Seatle', 'Denver']\n",
    "\n",
    "stores = ['Austin', 'Sacramento', 'Philadelphia', 'Boulder']\n",
    "cost_matrix = [\n",
    "    [10, 15, 20, 25],  # Затраты для Dallas\n",
    "    [12, 18, 22, 28],  # Затраты для Los Angeles\n",
    "    [8, 14, 19, 23],   # Затраты для Seattle\n",
    "    [11, 16, 21, 27]   # Затраты для Denver\n",
    "]"
   ]
  },
  {
   "cell_type": "code",
   "execution_count": 20,
   "outputs": [],
   "source": [
    "costs = {}\n",
    "\n",
    "for i in range(len(plants)):\n",
    "    temp_dict = {}\n",
    "    for j in range(len(stores)):\n",
    "        temp_dict[stores[j]] = cost_matrix[i][j]\n",
    "    costs[plants[i]] = temp_dict"
   ],
   "metadata": {
    "collapsed": false,
    "pycharm": {
     "name": "#%%\n"
    }
   }
  },
  {
   "cell_type": "code",
   "execution_count": 21,
   "outputs": [
    {
     "name": "stdout",
     "output_type": "stream",
     "text": [
      "Dallas\n",
      "Los Angeles\n",
      "Seatle\n",
      "Denver\n"
     ]
    }
   ],
   "source": [
    "# Команда range(len(plants)) создает последовательность чисел от 0 до длины списка plants (не включая это значение).\n",
    "#\n",
    "# Если plants — это список с, например, 7 элементами, то range(len(plants)) создаст последовательность чисел от 0 до 6. Эта команда часто используется в циклах for, чтобы итерировать по индексам списка.\n",
    "\n",
    "for i in range(len(plants)):\n",
    "    print(plants[i])"
   ],
   "metadata": {
    "collapsed": false,
    "pycharm": {
     "name": "#%%\n"
    }
   }
  },
  {
   "cell_type": "code",
   "execution_count": 22,
   "outputs": [
    {
     "name": "stdout",
     "output_type": "stream",
     "text": [
      "Austin\n",
      "Sacramento\n",
      "Philadelphia\n",
      "Boulder\n"
     ]
    }
   ],
   "source": [
    "temp_dict = {}\n",
    "for j in range(len(stores)):\n",
    "    print(stores[j])"
   ],
   "metadata": {
    "collapsed": false,
    "pycharm": {
     "name": "#%%\n"
    }
   }
  },
  {
   "cell_type": "code",
   "execution_count": 26,
   "outputs": [
    {
     "data": {
      "text/plain": "[('Dallas', 'Austin'),\n ('Dallas', 'Sacramento'),\n ('Dallas', 'Philadelphia'),\n ('Dallas', 'Boulder'),\n ('Los Angeles', 'Austin'),\n ('Los Angeles', 'Sacramento'),\n ('Los Angeles', 'Philadelphia'),\n ('Los Angeles', 'Boulder'),\n ('Seatle', 'Austin'),\n ('Seatle', 'Sacramento'),\n ('Seatle', 'Philadelphia'),\n ('Seatle', 'Boulder'),\n ('Denver', 'Austin'),\n ('Denver', 'Sacramento'),\n ('Denver', 'Philadelphia'),\n ('Denver', 'Boulder')]"
     },
     "execution_count": 26,
     "metadata": {},
     "output_type": "execute_result"
    }
   ],
   "source": [
    "# Routes\n",
    "\n",
    "routes = []\n",
    "\n",
    "for p in plants:\n",
    "    for s in stores:\n",
    "        routes.append((p, s)) # adding tuple\n",
    "\n",
    "routes"
   ],
   "metadata": {
    "collapsed": false,
    "pycharm": {
     "name": "#%%\n"
    }
   }
  },
  {
   "cell_type": "markdown",
   "source": [
    "### Linear Programming with Pulp for SCM"
   ],
   "metadata": {
    "collapsed": false,
    "pycharm": {
     "name": "#%% md\n"
    }
   }
  },
  {
   "cell_type": "code",
   "execution_count": 52,
   "outputs": [],
   "source": [
    "# product supply\n",
    "supply = {'Dallas': 900,\n",
    "          'Los Angeles': 2400,\n",
    "          'Seatle': 1300,\n",
    "          'Denver': 1800}"
   ],
   "metadata": {
    "collapsed": false,
    "pycharm": {
     "name": "#%%\n"
    }
   }
  },
  {
   "cell_type": "code",
   "execution_count": 53,
   "outputs": [
    {
     "data": {
      "text/plain": "{'Dallas': 75000, 'Los Angeles': 72000, 'Seatle': 100000, 'Denver': 74000}"
     },
     "execution_count": 53,
     "metadata": {},
     "output_type": "execute_result"
    }
   ],
   "source": [
    "# fixed costs of building each plan\n",
    "fixedCost = {'Dallas': 75000,\n",
    "          'Los Angeles': 72000,\n",
    "          'Seatle': 100000,\n",
    "          'Denver': 74000}\n",
    "fixedCost"
   ],
   "metadata": {
    "collapsed": false,
    "pycharm": {
     "name": "#%%\n"
    }
   }
  },
  {
   "cell_type": "code",
   "execution_count": 35,
   "outputs": [],
   "source": [
    "# denine a product demand\n",
    "\n",
    "cost_matrix = [\n",
    "    #ATX    #SAC    #PHL    #BU\n",
    "    [10,    15,     20,     25],  # Затраты для Dallas\n",
    "    [12,    18,     22,     28],  # Затраты для Los Angeles\n",
    "    [8,     14,     19,     23],   # Затраты для Seattle\n",
    "    [11,    16,     21,     27]   # Затраты для Denver\n",
    "]"
   ],
   "metadata": {
    "collapsed": false,
    "pycharm": {
     "name": "#%%\n"
    }
   }
  },
  {
   "cell_type": "code",
   "execution_count": 38,
   "outputs": [
    {
     "data": {
      "text/plain": "[[10, 15, 20, 25], [12, 18, 22, 28], [8, 14, 19, 23], [11, 16, 21, 27]]"
     },
     "execution_count": 38,
     "metadata": {},
     "output_type": "execute_result"
    }
   ],
   "source": [
    "cost_matrix # a list of lists"
   ],
   "metadata": {
    "collapsed": false,
    "pycharm": {
     "name": "#%%\n"
    }
   }
  },
  {
   "cell_type": "code",
   "execution_count": 39,
   "outputs": [
    {
     "data": {
      "text/plain": "{'Dallas': {'Austin': 10, 'Sacramento': 15, 'Philadelphia': 20, 'Boulder': 25},\n 'Los Angeles': {'Austin': 12,\n  'Sacramento': 18,\n  'Philadelphia': 22,\n  'Boulder': 28},\n 'Seatle': {'Austin': 8, 'Sacramento': 14, 'Philadelphia': 19, 'Boulder': 23},\n 'Denver': {'Austin': 11, 'Sacramento': 16, 'Philadelphia': 21, 'Boulder': 27}}"
     },
     "execution_count": 39,
     "metadata": {},
     "output_type": "execute_result"
    }
   ],
   "source": [
    "# instead of list of lists we create a dictionary of a dictionary\n",
    "costs"
   ],
   "metadata": {
    "collapsed": false,
    "pycharm": {
     "name": "#%%\n"
    }
   }
  },
  {
   "cell_type": "markdown",
   "source": [
    "This code is related to Linear Programming using the PuLP library in Python, which is used for optimization problems. Here’s a breakdown of what the code does:\n",
    "\n",
    "* `pulp.LpVariable.dicts`: This function creates a dictionary of PuLP LpVariable objects. LpVariable is a class in the PuLP library used to define decision variables in a linear programming problem.\n",
    "\n",
    "* `'Route'`: This is the name prefix for the variables in the dictionary. Each variable will have this prefix in its name.\n",
    "\n",
    "* `(plants, stores)`: These are the indices for the dictionary. The resulting dictionary will have keys based on the combinations of plants and stores. If plants and stores are lists or ranges, the dictionary will include an LpVariable for each combination of elements from these lists/ranges.\n",
    "\n",
    "* `0`: This is the lower bound for the variables, meaning each variable will have a minimum value of 0.\n",
    "\n",
    "* `None`: This specifies that there is no upper bound on the variables, so they can take any non-negative value."
   ],
   "metadata": {
    "collapsed": false,
    "pycharm": {
     "name": "#%% md\n"
    }
   }
  },
  {
   "cell_type": "code",
   "execution_count": 42,
   "outputs": [
    {
     "data": {
      "text/plain": "{'Dallas': {'Austin': Route_Dallas_Austin,\n  'Sacramento': Route_Dallas_Sacramento,\n  'Philadelphia': Route_Dallas_Philadelphia,\n  'Boulder': Route_Dallas_Boulder},\n 'Los Angeles': {'Austin': Route_Los_Angeles_Austin,\n  'Sacramento': Route_Los_Angeles_Sacramento,\n  'Philadelphia': Route_Los_Angeles_Philadelphia,\n  'Boulder': Route_Los_Angeles_Boulder},\n 'Seatle': {'Austin': Route_Seatle_Austin,\n  'Sacramento': Route_Seatle_Sacramento,\n  'Philadelphia': Route_Seatle_Philadelphia,\n  'Boulder': Route_Seatle_Boulder},\n 'Denver': {'Austin': Route_Denver_Austin,\n  'Sacramento': Route_Denver_Sacramento,\n  'Philadelphia': Route_Denver_Philadelphia,\n  'Boulder': Route_Denver_Boulder}}"
     },
     "execution_count": 42,
     "metadata": {},
     "output_type": "execute_result"
    }
   ],
   "source": [
    "# Use PULP\n",
    "\n",
    "route = pulp.LpVariable.dicts('Route', (plants, stores), 0, None, pulp.LpInteger)\n",
    "route"
   ],
   "metadata": {
    "collapsed": false,
    "pycharm": {
     "name": "#%%\n"
    }
   }
  },
  {
   "cell_type": "code",
   "execution_count": 43,
   "outputs": [],
   "source": [
    "### pulp.LpVariable.dicts(name, indexs, lowBound, upperBound, category)"
   ],
   "metadata": {
    "collapsed": false,
    "pycharm": {
     "name": "#%%\n"
    }
   }
  },
  {
   "cell_type": "code",
   "execution_count": 44,
   "outputs": [],
   "source": [
    "build = pulp.LpVariable.dicts('Build_Plant', plants, 0, 1, pulp.LpInteger)"
   ],
   "metadata": {
    "collapsed": false,
    "pycharm": {
     "name": "#%%\n"
    }
   }
  },
  {
   "cell_type": "code",
   "execution_count": 45,
   "outputs": [
    {
     "data": {
      "text/plain": "{'Dallas': Build_Plant_Dallas,\n 'Los Angeles': Build_Plant_Los_Angeles,\n 'Seatle': Build_Plant_Seatle,\n 'Denver': Build_Plant_Denver}"
     },
     "execution_count": 45,
     "metadata": {},
     "output_type": "execute_result"
    }
   ],
   "source": [
    "build"
   ],
   "metadata": {
    "collapsed": false,
    "pycharm": {
     "name": "#%%\n"
    }
   }
  },
  {
   "cell_type": "code",
   "execution_count": 49,
   "outputs": [
    {
     "data": {
      "text/plain": "10*Route_Dallas_Austin + 25*Route_Dallas_Boulder + 20*Route_Dallas_Philadelphia + 15*Route_Dallas_Sacramento + 11*Route_Denver_Austin + 27*Route_Denver_Boulder + 21*Route_Denver_Philadelphia + 16*Route_Denver_Sacramento + 12*Route_Los_Angeles_Austin + 28*Route_Los_Angeles_Boulder + 22*Route_Los_Angeles_Philadelphia + 18*Route_Los_Angeles_Sacramento + 8*Route_Seatle_Austin + 23*Route_Seatle_Boulder + 19*Route_Seatle_Philadelphia + 14*Route_Seatle_Sacramento + 0"
     },
     "execution_count": 49,
     "metadata": {},
     "output_type": "execute_result"
    }
   ],
   "source": [
    "obj = \"\"\n",
    "for (p, s) in routes:\n",
    "    # print((p, s))\n",
    "    obj += route[p][s] * costs[p][s]\n",
    "\n",
    "obj"
   ],
   "metadata": {
    "collapsed": false,
    "pycharm": {
     "name": "#%%\n"
    }
   }
  },
  {
   "cell_type": "markdown",
   "source": [
    "In this code snippet, `route[p][s] * costs[p][s]` represents the product of two values in a linear programming problem, and it contributes to the objective function. Here’s what each component typically means:\n",
    "\n",
    "* `route[p][s]`: This is a decision variable from the PuLP model, where p and s are indices (possibly representing a plant and a store, for example). This variable represents the quantity or decision associated with the route between plant p and store s.\n",
    "\n",
    "* `costs[p][s]`: This is a cost associated with the route between plant p and store s. It could represent the transportation cost, shipping cost, or any other type of cost relevant to that particular route.\n",
    "\n",
    "* `route[p][s] * costs[p][s]`: This computes the total cost for the route from plant p to store s by multiplying the quantity of the route (route[p][s]) by the cost associated with that route (costs[p][s]).\n",
    "\n",
    "* `obj += route[p][s] * costs[p][s]`: This line adds the total cost for each route to the objective function. The variable obj accumulates these costs to form the complete objective function expression."
   ],
   "metadata": {
    "collapsed": false,
    "pycharm": {
     "name": "#%% md\n"
    }
   }
  },
  {
   "cell_type": "code",
   "execution_count": 54,
   "outputs": [],
   "source": [
    "for p in plants:\n",
    "    obj += fixedCost[p] * build[p]"
   ],
   "metadata": {
    "collapsed": false,
    "pycharm": {
     "name": "#%%\n"
    }
   }
  },
  {
   "cell_type": "code",
   "execution_count": 55,
   "outputs": [
    {
     "data": {
      "text/plain": "75000*Build_Plant_Dallas + 74000*Build_Plant_Denver + 72000*Build_Plant_Los_Angeles + 100000*Build_Plant_Seatle + 10*Route_Dallas_Austin + 25*Route_Dallas_Boulder + 20*Route_Dallas_Philadelphia + 15*Route_Dallas_Sacramento + 11*Route_Denver_Austin + 27*Route_Denver_Boulder + 21*Route_Denver_Philadelphia + 16*Route_Denver_Sacramento + 12*Route_Los_Angeles_Austin + 28*Route_Los_Angeles_Boulder + 22*Route_Los_Angeles_Philadelphia + 18*Route_Los_Angeles_Sacramento + 8*Route_Seatle_Austin + 23*Route_Seatle_Boulder + 19*Route_Seatle_Philadelphia + 14*Route_Seatle_Sacramento + 0"
     },
     "execution_count": 55,
     "metadata": {},
     "output_type": "execute_result"
    }
   ],
   "source": [
    "obj"
   ],
   "metadata": {
    "collapsed": false,
    "pycharm": {
     "name": "#%%\n"
    }
   }
  },
  {
   "cell_type": "code",
   "execution_count": 57,
   "outputs": [
    {
     "name": "stdout",
     "output_type": "stream",
     "text": [
      "       January  February\n",
      "North     1000      1500\n",
      "South     1200      1800\n"
     ]
    }
   ],
   "source": [
    "import pandas as pd\n",
    "\n",
    "# Данные словаря\n",
    "sales = {\n",
    "    'North': {'January': 1000, 'February': 1500},\n",
    "    'South': {'January': 1200, 'February': 1800}\n",
    "}\n",
    "\n",
    "# Преобразование в DataFrame\n",
    "df = pd.DataFrame(sales).T  # .T транспонирует таблицу для правильного представления\n",
    "\n",
    "# Отображение таблицы\n",
    "print(df)"
   ],
   "metadata": {
    "collapsed": false,
    "pycharm": {
     "name": "#%%\n"
    }
   }
  },
  {
   "cell_type": "code",
   "execution_count": 58,
   "outputs": [
    {
     "data": {
      "text/plain": "{'North': {'January': 1000, 'February': 1500},\n 'South': {'January': 1200, 'February': 1800}}"
     },
     "execution_count": 58,
     "metadata": {},
     "output_type": "execute_result"
    }
   ],
   "source": [
    "sales"
   ],
   "metadata": {
    "collapsed": false,
    "pycharm": {
     "name": "#%%\n"
    }
   }
  },
  {
   "cell_type": "code",
   "execution_count": 60,
   "outputs": [
    {
     "data": {
      "text/plain": "Supply_Demand:\nMINIMIZE\n75000*Build_Plant_Dallas + 74000*Build_Plant_Denver + 72000*Build_Plant_Los_Angeles + 100000*Build_Plant_Seatle + 10*Route_Dallas_Austin + 25*Route_Dallas_Boulder + 20*Route_Dallas_Philadelphia + 15*Route_Dallas_Sacramento + 11*Route_Denver_Austin + 27*Route_Denver_Boulder + 21*Route_Denver_Philadelphia + 16*Route_Denver_Sacramento + 12*Route_Los_Angeles_Austin + 28*Route_Los_Angeles_Boulder + 22*Route_Los_Angeles_Philadelphia + 18*Route_Los_Angeles_Sacramento + 8*Route_Seatle_Austin + 23*Route_Seatle_Boulder + 19*Route_Seatle_Philadelphia + 14*Route_Seatle_Sacramento + 0\nVARIABLES\n0 <= Build_Plant_Dallas <= 1 Integer\n0 <= Build_Plant_Denver <= 1 Integer\n0 <= Build_Plant_Los_Angeles <= 1 Integer\n0 <= Build_Plant_Seatle <= 1 Integer\n0 <= Route_Dallas_Austin Integer\n0 <= Route_Dallas_Boulder Integer\n0 <= Route_Dallas_Philadelphia Integer\n0 <= Route_Dallas_Sacramento Integer\n0 <= Route_Denver_Austin Integer\n0 <= Route_Denver_Boulder Integer\n0 <= Route_Denver_Philadelphia Integer\n0 <= Route_Denver_Sacramento Integer\n0 <= Route_Los_Angeles_Austin Integer\n0 <= Route_Los_Angeles_Boulder Integer\n0 <= Route_Los_Angeles_Philadelphia Integer\n0 <= Route_Los_Angeles_Sacramento Integer\n0 <= Route_Seatle_Austin Integer\n0 <= Route_Seatle_Boulder Integer\n0 <= Route_Seatle_Philadelphia Integer\n0 <= Route_Seatle_Sacramento Integer"
     },
     "execution_count": 60,
     "metadata": {},
     "output_type": "execute_result"
    }
   ],
   "source": [
    "prob = pulp.LpProblem('Supply_Demand', pulp.LpMinimize)\n",
    "prob += obj, \"Total Costs\"\n",
    "prob"
   ],
   "metadata": {
    "collapsed": false,
    "pycharm": {
     "name": "#%%\n"
    }
   }
  },
  {
   "cell_type": "code",
   "execution_count": 62,
   "outputs": [],
   "source": [
    "### supply / demand constraints\n",
    "\n",
    "for p in plants:\n",
    "    product_out = \"\"\n",
    "    for s in stores:\n",
    "        product_out += route[p][s]\n",
    "    prob += product_out <= supply[p] * build[p], \"Total product out of plant_\" + str(p)"
   ],
   "metadata": {
    "collapsed": false,
    "pycharm": {
     "name": "#%%\n"
    }
   }
  },
  {
   "cell_type": "code",
   "execution_count": 63,
   "outputs": [
    {
     "data": {
      "text/plain": "Supply_Demand:\nMINIMIZE\n75000*Build_Plant_Dallas + 74000*Build_Plant_Denver + 72000*Build_Plant_Los_Angeles + 100000*Build_Plant_Seatle + 10*Route_Dallas_Austin + 25*Route_Dallas_Boulder + 20*Route_Dallas_Philadelphia + 15*Route_Dallas_Sacramento + 11*Route_Denver_Austin + 27*Route_Denver_Boulder + 21*Route_Denver_Philadelphia + 16*Route_Denver_Sacramento + 12*Route_Los_Angeles_Austin + 28*Route_Los_Angeles_Boulder + 22*Route_Los_Angeles_Philadelphia + 18*Route_Los_Angeles_Sacramento + 8*Route_Seatle_Austin + 23*Route_Seatle_Boulder + 19*Route_Seatle_Philadelphia + 14*Route_Seatle_Sacramento + 0\nSUBJECT TO\nTotal_product_out_of_plant_Dallas: - 900 Build_Plant_Dallas\n + Route_Dallas_Austin + Route_Dallas_Boulder + Route_Dallas_Philadelphia\n + Route_Dallas_Sacramento <= 0\n\nTotal_product_out_of_plant_Los_Angeles: - 2400 Build_Plant_Los_Angeles\n + Route_Los_Angeles_Austin + Route_Los_Angeles_Boulder\n + Route_Los_Angeles_Philadelphia + Route_Los_Angeles_Sacramento <= 0\n\nTotal_product_out_of_plant_Seatle: - 1300 Build_Plant_Seatle\n + Route_Seatle_Austin + Route_Seatle_Boulder + Route_Seatle_Philadelphia\n + Route_Seatle_Sacramento <= 0\n\nTotal_product_out_of_plant_Denver: - 1800 Build_Plant_Denver\n + Route_Denver_Austin + Route_Denver_Boulder + Route_Denver_Philadelphia\n + Route_Denver_Sacramento <= 0\n\nVARIABLES\n0 <= Build_Plant_Dallas <= 1 Integer\n0 <= Build_Plant_Denver <= 1 Integer\n0 <= Build_Plant_Los_Angeles <= 1 Integer\n0 <= Build_Plant_Seatle <= 1 Integer\n0 <= Route_Dallas_Austin Integer\n0 <= Route_Dallas_Boulder Integer\n0 <= Route_Dallas_Philadelphia Integer\n0 <= Route_Dallas_Sacramento Integer\n0 <= Route_Denver_Austin Integer\n0 <= Route_Denver_Boulder Integer\n0 <= Route_Denver_Philadelphia Integer\n0 <= Route_Denver_Sacramento Integer\n0 <= Route_Los_Angeles_Austin Integer\n0 <= Route_Los_Angeles_Boulder Integer\n0 <= Route_Los_Angeles_Philadelphia Integer\n0 <= Route_Los_Angeles_Sacramento Integer\n0 <= Route_Seatle_Austin Integer\n0 <= Route_Seatle_Boulder Integer\n0 <= Route_Seatle_Philadelphia Integer\n0 <= Route_Seatle_Sacramento Integer"
     },
     "execution_count": 63,
     "metadata": {},
     "output_type": "execute_result"
    }
   ],
   "source": [
    "prob"
   ],
   "metadata": {
    "collapsed": false,
    "pycharm": {
     "name": "#%%\n"
    }
   }
  },
  {
   "cell_type": "code",
   "execution_count": 65,
   "outputs": [],
   "source": [
    "# Demand Constraints\n",
    "\n",
    "demand = {'Austin': 1700,\n",
    "          'Sacramento': 1000,\n",
    "          'Philadelphia':1500,\n",
    "          'Boulder':1200}\n",
    "\n",
    "for s in stores:\n",
    "    product_in = \"\"\n",
    "    for p in plants:\n",
    "        product_in += route[p][s]\n",
    "    prob += product_in >= demand[s], \"Total product store_\" + str(s)"
   ],
   "metadata": {
    "collapsed": false,
    "pycharm": {
     "name": "#%%\n"
    }
   }
  },
  {
   "cell_type": "code",
   "execution_count": 66,
   "outputs": [
    {
     "data": {
      "text/plain": "Supply_Demand:\nMINIMIZE\n75000*Build_Plant_Dallas + 74000*Build_Plant_Denver + 72000*Build_Plant_Los_Angeles + 100000*Build_Plant_Seatle + 10*Route_Dallas_Austin + 25*Route_Dallas_Boulder + 20*Route_Dallas_Philadelphia + 15*Route_Dallas_Sacramento + 11*Route_Denver_Austin + 27*Route_Denver_Boulder + 21*Route_Denver_Philadelphia + 16*Route_Denver_Sacramento + 12*Route_Los_Angeles_Austin + 28*Route_Los_Angeles_Boulder + 22*Route_Los_Angeles_Philadelphia + 18*Route_Los_Angeles_Sacramento + 8*Route_Seatle_Austin + 23*Route_Seatle_Boulder + 19*Route_Seatle_Philadelphia + 14*Route_Seatle_Sacramento + 0\nSUBJECT TO\nTotal_product_out_of_plant_Dallas: - 900 Build_Plant_Dallas\n + Route_Dallas_Austin + Route_Dallas_Boulder + Route_Dallas_Philadelphia\n + Route_Dallas_Sacramento <= 0\n\nTotal_product_out_of_plant_Los_Angeles: - 2400 Build_Plant_Los_Angeles\n + Route_Los_Angeles_Austin + Route_Los_Angeles_Boulder\n + Route_Los_Angeles_Philadelphia + Route_Los_Angeles_Sacramento <= 0\n\nTotal_product_out_of_plant_Seatle: - 1300 Build_Plant_Seatle\n + Route_Seatle_Austin + Route_Seatle_Boulder + Route_Seatle_Philadelphia\n + Route_Seatle_Sacramento <= 0\n\nTotal_product_out_of_plant_Denver: - 1800 Build_Plant_Denver\n + Route_Denver_Austin + Route_Denver_Boulder + Route_Denver_Philadelphia\n + Route_Denver_Sacramento <= 0\n\nTotal_product_store_Austin: Route_Dallas_Austin + Route_Denver_Austin\n + Route_Los_Angeles_Austin + Route_Seatle_Austin >= 1700\n\nTotal_product_store_Sacramento: Route_Dallas_Sacramento\n + Route_Denver_Sacramento + Route_Los_Angeles_Sacramento\n + Route_Seatle_Sacramento >= 1000\n\nTotal_product_store_Philadelphia: Route_Dallas_Philadelphia\n + Route_Denver_Philadelphia + Route_Los_Angeles_Philadelphia\n + Route_Seatle_Philadelphia >= 1500\n\nTotal_product_store_Boulder: Route_Dallas_Boulder + Route_Denver_Boulder\n + Route_Los_Angeles_Boulder + Route_Seatle_Boulder >= 1200\n\nVARIABLES\n0 <= Build_Plant_Dallas <= 1 Integer\n0 <= Build_Plant_Denver <= 1 Integer\n0 <= Build_Plant_Los_Angeles <= 1 Integer\n0 <= Build_Plant_Seatle <= 1 Integer\n0 <= Route_Dallas_Austin Integer\n0 <= Route_Dallas_Boulder Integer\n0 <= Route_Dallas_Philadelphia Integer\n0 <= Route_Dallas_Sacramento Integer\n0 <= Route_Denver_Austin Integer\n0 <= Route_Denver_Boulder Integer\n0 <= Route_Denver_Philadelphia Integer\n0 <= Route_Denver_Sacramento Integer\n0 <= Route_Los_Angeles_Austin Integer\n0 <= Route_Los_Angeles_Boulder Integer\n0 <= Route_Los_Angeles_Philadelphia Integer\n0 <= Route_Los_Angeles_Sacramento Integer\n0 <= Route_Seatle_Austin Integer\n0 <= Route_Seatle_Boulder Integer\n0 <= Route_Seatle_Philadelphia Integer\n0 <= Route_Seatle_Sacramento Integer"
     },
     "execution_count": 66,
     "metadata": {},
     "output_type": "execute_result"
    }
   ],
   "source": [
    "prob"
   ],
   "metadata": {
    "collapsed": false,
    "pycharm": {
     "name": "#%%\n"
    }
   }
  },
  {
   "cell_type": "code",
   "execution_count": 67,
   "outputs": [
    {
     "data": {
      "text/plain": "1"
     },
     "execution_count": 67,
     "metadata": {},
     "output_type": "execute_result"
    }
   ],
   "source": [
    "### solver!\n",
    "\n",
    "prob.solve()"
   ],
   "metadata": {
    "collapsed": false,
    "pycharm": {
     "name": "#%%\n"
    }
   }
  },
  {
   "cell_type": "code",
   "execution_count": 70,
   "outputs": [
    {
     "name": "stdout",
     "output_type": "stream",
     "text": [
      "Status:  Optimal\n"
     ]
    }
   ],
   "source": [
    "print('Status: ' , pulp.LpStatus[prob.status])"
   ],
   "metadata": {
    "collapsed": false,
    "pycharm": {
     "name": "#%%\n"
    }
   }
  },
  {
   "cell_type": "code",
   "execution_count": 71,
   "outputs": [
    {
     "data": {
      "text/plain": "{0: 'Not Solved',\n 1: 'Optimal',\n -1: 'Infeasible',\n -2: 'Unbounded',\n -3: 'Undefined'}"
     },
     "execution_count": 71,
     "metadata": {},
     "output_type": "execute_result"
    }
   ],
   "source": [
    "pulp.LpStatus # dictionary"
   ],
   "metadata": {
    "collapsed": false,
    "pycharm": {
     "name": "#%%\n"
    }
   }
  },
  {
   "cell_type": "code",
   "execution_count": 72,
   "outputs": [
    {
     "data": {
      "text/plain": "1"
     },
     "execution_count": 72,
     "metadata": {},
     "output_type": "execute_result"
    }
   ],
   "source": [
    "prob.status"
   ],
   "metadata": {
    "collapsed": false,
    "pycharm": {
     "name": "#%%\n"
    }
   }
  },
  {
   "cell_type": "code",
   "execution_count": 74,
   "outputs": [
    {
     "name": "stdout",
     "output_type": "stream",
     "text": [
      "Build_Plant_Dallas\n",
      "Build_Plant_Denver\n",
      "Build_Plant_Los_Angeles\n",
      "Build_Plant_Seatle\n",
      "Route_Dallas_Austin\n",
      "Route_Dallas_Boulder\n",
      "Route_Dallas_Philadelphia\n",
      "Route_Dallas_Sacramento\n",
      "Route_Denver_Austin\n",
      "Route_Denver_Boulder\n",
      "Route_Denver_Philadelphia\n",
      "Route_Denver_Sacramento\n",
      "Route_Los_Angeles_Austin\n",
      "Route_Los_Angeles_Boulder\n",
      "Route_Los_Angeles_Philadelphia\n",
      "Route_Los_Angeles_Sacramento\n",
      "Route_Seatle_Austin\n",
      "Route_Seatle_Boulder\n",
      "Route_Seatle_Philadelphia\n",
      "Route_Seatle_Sacramento\n"
     ]
    }
   ],
   "source": [
    "# taking a look on decision variables to see what plant we should build\n",
    "\n",
    "for w in prob.variables():\n",
    "    print(w)"
   ],
   "metadata": {
    "collapsed": false,
    "pycharm": {
     "name": "#%%\n"
    }
   }
  },
  {
   "cell_type": "code",
   "execution_count": 77,
   "outputs": [
    {
     "name": "stdout",
     "output_type": "stream",
     "text": [
      "Build_Plant_Dallas = 0.0\n",
      "Build_Plant_Denver = 1.0\n",
      "Build_Plant_Los_Angeles = 1.0\n",
      "Build_Plant_Seatle = 1.0\n",
      "Route_Dallas_Austin = 0.0\n",
      "Route_Dallas_Boulder = 0.0\n",
      "Route_Dallas_Philadelphia = 0.0\n",
      "Route_Dallas_Sacramento = 0.0\n",
      "Route_Denver_Austin = 0.0\n",
      "Route_Denver_Boulder = 0.0\n",
      "Route_Denver_Philadelphia = 800.0\n",
      "Route_Denver_Sacramento = 1000.0\n",
      "Route_Los_Angeles_Austin = 1600.0\n",
      "Route_Los_Angeles_Boulder = 0.0\n",
      "Route_Los_Angeles_Philadelphia = 700.0\n",
      "Route_Los_Angeles_Sacramento = 0.0\n",
      "Route_Seatle_Austin = 100.0\n",
      "Route_Seatle_Boulder = 1200.0\n",
      "Route_Seatle_Philadelphia = 0.0\n",
      "Route_Seatle_Sacramento = 0.0\n"
     ]
    }
   ],
   "source": [
    "for w in prob.variables():\n",
    "    print(w.name, '=', w.varValue)"
   ],
   "metadata": {
    "collapsed": false,
    "pycharm": {
     "name": "#%%\n"
    }
   }
  },
  {
   "cell_type": "code",
   "execution_count": 80,
   "outputs": [
    {
     "data": {
      "text/plain": "341800.0"
     },
     "execution_count": 80,
     "metadata": {},
     "output_type": "execute_result"
    }
   ],
   "source": [
    "# total expected costs, mln USD\n",
    "\n",
    "pulp.value(prob.objective)"
   ],
   "metadata": {
    "collapsed": false,
    "pycharm": {
     "name": "#%%\n"
    }
   }
  },
  {
   "cell_type": "code",
   "execution_count": null,
   "outputs": [],
   "source": [],
   "metadata": {
    "collapsed": false,
    "pycharm": {
     "name": "#%%\n"
    }
   }
  }
 ],
 "metadata": {
  "kernelspec": {
   "display_name": "Python 3",
   "language": "python",
   "name": "python3"
  },
  "language_info": {
   "codemirror_mode": {
    "name": "ipython",
    "version": 2
   },
   "file_extension": ".py",
   "mimetype": "text/x-python",
   "name": "python",
   "nbconvert_exporter": "python",
   "pygments_lexer": "ipython2",
   "version": "2.7.6"
  }
 },
 "nbformat": 4,
 "nbformat_minor": 0
}
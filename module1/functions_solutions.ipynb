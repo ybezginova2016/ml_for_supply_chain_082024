{
 "cells": [
  {
   "cell_type": "code",
   "execution_count": null,
   "metadata": {
    "pycharm": {
     "name": "#%%\n"
    }
   },
   "outputs": [],
   "source": [
    "'''\n",
    "Define a function called 'dictionary_creator' to take in two lists and return a dictionary with key:value pair list1:list2.\n",
    "If the two lists are not the same size, return the word \"Error\" instead.\n",
    "'''"
   ]
  },
  {
   "cell_type": "code",
   "execution_count": null,
   "metadata": {
    "pycharm": {
     "name": "#%%\n"
    }
   },
   "outputs": [],
   "source": [
    "def dictionary_creator(list1, list2):\n",
    "    if len(list1) == len(list2):\n",
    "        return dict(zip(list1, list2))\n",
    "    else:\n",
    "        return \"Error\""
   ]
  },
  {
   "cell_type": "markdown",
   "source": [
    "### Решение\n",
    "\n",
    "* `zip(list1, list2)`: Эта функция создаёт итератор, который объединяет элементы из обоих списков попарно. Например, если list1 = ['a', 'b', 'c'] и list2 = [100, 110, 130], zip создаст пары [('a', 100), ('b', 110), ('c', 130)].\n",
    "\n",
    "* `dict(zip(list1, list2))`: Создаёт словарь, где элементы list1 становятся ключами, а элементы list2 — значениями. В результате получается словарь `{ 'a': 100, 'b': 110, 'c': 130 }`.\n",
    "Проверка на равенство длины списков защищает от ошибок, когда количество ключей и значений не совпадает. Если длины не совпадают, функция возвращает \"Error\"."
   ],
   "metadata": {
    "collapsed": false,
    "pycharm": {
     "name": "#%% md\n"
    }
   }
  }
 ],
 "metadata": {
  "kernelspec": {
   "display_name": "Python 3",
   "language": "python",
   "name": "python3"
  },
  "language_info": {
   "codemirror_mode": {
    "name": "ipython",
    "version": 3
   },
   "file_extension": ".py",
   "mimetype": "text/x-python",
   "name": "python",
   "nbconvert_exporter": "python",
   "pygments_lexer": "ipython3",
   "version": "3.7.6"
  }
 },
 "nbformat": 4,
 "nbformat_minor": 4
}
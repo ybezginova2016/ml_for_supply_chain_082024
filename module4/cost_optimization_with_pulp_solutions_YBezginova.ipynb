{
 "cells": [
  {
   "cell_type": "code",
   "execution_count": 116,
   "metadata": {
    "pycharm": {
     "name": "#%%\n"
    }
   },
   "outputs": [],
   "source": [
    "import pandas as pd\n",
    "import numpy as np\n",
    "import pulp"
   ]
  },
  {
   "cell_type": "markdown",
   "source": [
    "## Part 1: Loading and preprocessing the datasets"
   ],
   "metadata": {
    "collapsed": false,
    "pycharm": {
     "name": "#%% md\n"
    }
   }
  },
  {
   "cell_type": "code",
   "execution_count": 161,
   "metadata": {
    "pycharm": {
     "name": "#%%\n"
    }
   },
   "outputs": [
    {
     "data": {
      "text/plain": "       Order ID Order Date Origin Port Carrier  TPT Service Level  \\\n0  1.447296e+09 2013-05-26      PORT09   V44_3    1           CRF   \n1  1.447158e+09 2013-05-26      PORT09   V44_3    1           CRF   \n2  1.447139e+09 2013-05-26      PORT09   V44_3    1           CRF   \n3  1.447364e+09 2013-05-26      PORT09   V44_3    1           CRF   \n4  1.447364e+09 2013-05-26      PORT09   V44_3    1           CRF   \n\n   Ship ahead day count  Ship Late Day count   Customer  Product ID  \\\n0                     3                    0  V55555_53     1700106   \n1                     3                    0  V55555_53     1700106   \n2                     3                    0  V55555_53     1700106   \n3                     3                    0  V55555_53     1700106   \n4                     3                    0  V55555_53     1700106   \n\n  Plant Code Destination Port  Unit quantity  Weight  \n0    PLANT16           PORT09            808   14.30  \n1    PLANT16           PORT09           3188   87.94  \n2    PLANT16           PORT09           2331   61.20  \n3    PLANT16           PORT09            847   16.16  \n4    PLANT16           PORT09           2163   52.34  ",
      "text/html": "<div>\n<style scoped>\n    .dataframe tbody tr th:only-of-type {\n        vertical-align: middle;\n    }\n\n    .dataframe tbody tr th {\n        vertical-align: top;\n    }\n\n    .dataframe thead th {\n        text-align: right;\n    }\n</style>\n<table border=\"1\" class=\"dataframe\">\n  <thead>\n    <tr style=\"text-align: right;\">\n      <th></th>\n      <th>Order ID</th>\n      <th>Order Date</th>\n      <th>Origin Port</th>\n      <th>Carrier</th>\n      <th>TPT</th>\n      <th>Service Level</th>\n      <th>Ship ahead day count</th>\n      <th>Ship Late Day count</th>\n      <th>Customer</th>\n      <th>Product ID</th>\n      <th>Plant Code</th>\n      <th>Destination Port</th>\n      <th>Unit quantity</th>\n      <th>Weight</th>\n    </tr>\n  </thead>\n  <tbody>\n    <tr>\n      <th>0</th>\n      <td>1.447296e+09</td>\n      <td>2013-05-26</td>\n      <td>PORT09</td>\n      <td>V44_3</td>\n      <td>1</td>\n      <td>CRF</td>\n      <td>3</td>\n      <td>0</td>\n      <td>V55555_53</td>\n      <td>1700106</td>\n      <td>PLANT16</td>\n      <td>PORT09</td>\n      <td>808</td>\n      <td>14.30</td>\n    </tr>\n    <tr>\n      <th>1</th>\n      <td>1.447158e+09</td>\n      <td>2013-05-26</td>\n      <td>PORT09</td>\n      <td>V44_3</td>\n      <td>1</td>\n      <td>CRF</td>\n      <td>3</td>\n      <td>0</td>\n      <td>V55555_53</td>\n      <td>1700106</td>\n      <td>PLANT16</td>\n      <td>PORT09</td>\n      <td>3188</td>\n      <td>87.94</td>\n    </tr>\n    <tr>\n      <th>2</th>\n      <td>1.447139e+09</td>\n      <td>2013-05-26</td>\n      <td>PORT09</td>\n      <td>V44_3</td>\n      <td>1</td>\n      <td>CRF</td>\n      <td>3</td>\n      <td>0</td>\n      <td>V55555_53</td>\n      <td>1700106</td>\n      <td>PLANT16</td>\n      <td>PORT09</td>\n      <td>2331</td>\n      <td>61.20</td>\n    </tr>\n    <tr>\n      <th>3</th>\n      <td>1.447364e+09</td>\n      <td>2013-05-26</td>\n      <td>PORT09</td>\n      <td>V44_3</td>\n      <td>1</td>\n      <td>CRF</td>\n      <td>3</td>\n      <td>0</td>\n      <td>V55555_53</td>\n      <td>1700106</td>\n      <td>PLANT16</td>\n      <td>PORT09</td>\n      <td>847</td>\n      <td>16.16</td>\n    </tr>\n    <tr>\n      <th>4</th>\n      <td>1.447364e+09</td>\n      <td>2013-05-26</td>\n      <td>PORT09</td>\n      <td>V44_3</td>\n      <td>1</td>\n      <td>CRF</td>\n      <td>3</td>\n      <td>0</td>\n      <td>V55555_53</td>\n      <td>1700106</td>\n      <td>PLANT16</td>\n      <td>PORT09</td>\n      <td>2163</td>\n      <td>52.34</td>\n    </tr>\n  </tbody>\n</table>\n</div>"
     },
     "execution_count": 161,
     "metadata": {},
     "output_type": "execute_result"
    }
   ],
   "source": [
    "orders = pd.read_excel(\"C:\\\\Users\\\\HOME\\\\Documents\\\\data_science\\\\ml_for_supply_chain_082024\\\\module4\\\\Supply chain logisitcs problem.xlsx\", sheet_name='OrderList')\n",
    "orders.dropna(axis = 1, how = 'all', inplace = True)\n",
    "orders.dropna(axis = 0, how = 'all', inplace = True)\n",
    "orders.head()"
   ]
  },
  {
   "cell_type": "code",
   "execution_count": 162,
   "outputs": [
    {
     "data": {
      "text/plain": "Index(['Order ID', 'Order Date', 'Origin Port', 'Carrier', 'TPT',\n       'Service Level', 'Ship ahead day count', 'Ship Late Day count',\n       'Customer', 'Product ID', 'Plant Code', 'Destination Port',\n       'Unit quantity', 'Weight'],\n      dtype='object')"
     },
     "execution_count": 162,
     "metadata": {},
     "output_type": "execute_result"
    }
   ],
   "source": [
    "orders.columns"
   ],
   "metadata": {
    "collapsed": false,
    "pycharm": {
     "name": "#%%\n"
    }
   }
  },
  {
   "cell_type": "code",
   "execution_count": 163,
   "metadata": {
    "pycharm": {
     "name": "#%%\n"
    }
   },
   "outputs": [
    {
     "data": {
      "text/plain": "  Carrier orig_port_cd dest_port_cd  minm_wgh_qty  max_wgh_qty svc_cd  \\\n0  V444_6       PORT08       PORT09         250.0       499.99    DTD   \n1  V444_6       PORT08       PORT09          65.0        69.99    DTD   \n2  V444_6       PORT08       PORT09          60.0        64.99    DTD   \n3  V444_6       PORT08       PORT09          50.0        54.99    DTD   \n4  V444_6       PORT08       PORT09          35.0        39.99    DTD   \n\n   minimum cost    rate mode_dsc  tpt_day_cnt Carrier type  \n0       43.2272  0.7132   AIR               2  V88888888_0  \n1       43.2272  0.7512   AIR               2  V88888888_0  \n2       43.2272  0.7892   AIR               2  V88888888_0  \n3       43.2272  0.8272   AIR               2  V88888888_0  \n4       43.2272  1.0552   AIR               2  V88888888_0  ",
      "text/html": "<div>\n<style scoped>\n    .dataframe tbody tr th:only-of-type {\n        vertical-align: middle;\n    }\n\n    .dataframe tbody tr th {\n        vertical-align: top;\n    }\n\n    .dataframe thead th {\n        text-align: right;\n    }\n</style>\n<table border=\"1\" class=\"dataframe\">\n  <thead>\n    <tr style=\"text-align: right;\">\n      <th></th>\n      <th>Carrier</th>\n      <th>orig_port_cd</th>\n      <th>dest_port_cd</th>\n      <th>minm_wgh_qty</th>\n      <th>max_wgh_qty</th>\n      <th>svc_cd</th>\n      <th>minimum cost</th>\n      <th>rate</th>\n      <th>mode_dsc</th>\n      <th>tpt_day_cnt</th>\n      <th>Carrier type</th>\n    </tr>\n  </thead>\n  <tbody>\n    <tr>\n      <th>0</th>\n      <td>V444_6</td>\n      <td>PORT08</td>\n      <td>PORT09</td>\n      <td>250.0</td>\n      <td>499.99</td>\n      <td>DTD</td>\n      <td>43.2272</td>\n      <td>0.7132</td>\n      <td>AIR</td>\n      <td>2</td>\n      <td>V88888888_0</td>\n    </tr>\n    <tr>\n      <th>1</th>\n      <td>V444_6</td>\n      <td>PORT08</td>\n      <td>PORT09</td>\n      <td>65.0</td>\n      <td>69.99</td>\n      <td>DTD</td>\n      <td>43.2272</td>\n      <td>0.7512</td>\n      <td>AIR</td>\n      <td>2</td>\n      <td>V88888888_0</td>\n    </tr>\n    <tr>\n      <th>2</th>\n      <td>V444_6</td>\n      <td>PORT08</td>\n      <td>PORT09</td>\n      <td>60.0</td>\n      <td>64.99</td>\n      <td>DTD</td>\n      <td>43.2272</td>\n      <td>0.7892</td>\n      <td>AIR</td>\n      <td>2</td>\n      <td>V88888888_0</td>\n    </tr>\n    <tr>\n      <th>3</th>\n      <td>V444_6</td>\n      <td>PORT08</td>\n      <td>PORT09</td>\n      <td>50.0</td>\n      <td>54.99</td>\n      <td>DTD</td>\n      <td>43.2272</td>\n      <td>0.8272</td>\n      <td>AIR</td>\n      <td>2</td>\n      <td>V88888888_0</td>\n    </tr>\n    <tr>\n      <th>4</th>\n      <td>V444_6</td>\n      <td>PORT08</td>\n      <td>PORT09</td>\n      <td>35.0</td>\n      <td>39.99</td>\n      <td>DTD</td>\n      <td>43.2272</td>\n      <td>1.0552</td>\n      <td>AIR</td>\n      <td>2</td>\n      <td>V88888888_0</td>\n    </tr>\n  </tbody>\n</table>\n</div>"
     },
     "execution_count": 163,
     "metadata": {},
     "output_type": "execute_result"
    }
   ],
   "source": [
    "freight_rates = pd.read_excel(\"C:\\\\Users\\\\HOME\\\\Documents\\\\data_science\\\\ml_for_supply_chain_082024\\\\module4\\\\Supply chain logisitcs problem.xlsx\", sheet_name='FreightRates')\n",
    "freight_rates.dropna(axis = 1, how = 'all', inplace = True)\n",
    "freight_rates.dropna(axis = 0, how = 'all', inplace = True)\n",
    "freight_rates.head()"
   ]
  },
  {
   "cell_type": "code",
   "execution_count": 164,
   "metadata": {
    "pycharm": {
     "name": "#%%\n"
    }
   },
   "outputs": [
    {
     "data": {
      "text/plain": "  Plant ID  Daily Capacity \n0  PLANT15               11\n1  PLANT17                8\n2  PLANT18              111\n3  PLANT05              385\n4  PLANT02              138",
      "text/html": "<div>\n<style scoped>\n    .dataframe tbody tr th:only-of-type {\n        vertical-align: middle;\n    }\n\n    .dataframe tbody tr th {\n        vertical-align: top;\n    }\n\n    .dataframe thead th {\n        text-align: right;\n    }\n</style>\n<table border=\"1\" class=\"dataframe\">\n  <thead>\n    <tr style=\"text-align: right;\">\n      <th></th>\n      <th>Plant ID</th>\n      <th>Daily Capacity</th>\n    </tr>\n  </thead>\n  <tbody>\n    <tr>\n      <th>0</th>\n      <td>PLANT15</td>\n      <td>11</td>\n    </tr>\n    <tr>\n      <th>1</th>\n      <td>PLANT17</td>\n      <td>8</td>\n    </tr>\n    <tr>\n      <th>2</th>\n      <td>PLANT18</td>\n      <td>111</td>\n    </tr>\n    <tr>\n      <th>3</th>\n      <td>PLANT05</td>\n      <td>385</td>\n    </tr>\n    <tr>\n      <th>4</th>\n      <td>PLANT02</td>\n      <td>138</td>\n    </tr>\n  </tbody>\n</table>\n</div>"
     },
     "execution_count": 164,
     "metadata": {},
     "output_type": "execute_result"
    }
   ],
   "source": [
    "wh_capacities = pd.read_excel(\"C:\\\\Users\\\\HOME\\\\Documents\\\\data_science\\\\ml_for_supply_chain_082024\\\\module4\\\\Supply chain logisitcs problem.xlsx\", sheet_name  = 'WhCapacities')\n",
    "wh_capacities.dropna(axis = 1, how = 'all', inplace = True)\n",
    "wh_capacities.dropna(axis = 0, how = 'all', inplace = True)\n",
    "wh_capacities.head()"
   ]
  },
  {
   "cell_type": "code",
   "execution_count": 165,
   "metadata": {
    "pycharm": {
     "name": "#%%\n"
    }
   },
   "outputs": [
    {
     "data": {
      "text/plain": "  Plant Code  Product ID\n0    PLANT15     1698815\n1    PLANT17     1664419\n2    PLANT17     1664426\n3    PLANT17     1672826\n4    PLANT17     1674916",
      "text/html": "<div>\n<style scoped>\n    .dataframe tbody tr th:only-of-type {\n        vertical-align: middle;\n    }\n\n    .dataframe tbody tr th {\n        vertical-align: top;\n    }\n\n    .dataframe thead th {\n        text-align: right;\n    }\n</style>\n<table border=\"1\" class=\"dataframe\">\n  <thead>\n    <tr style=\"text-align: right;\">\n      <th></th>\n      <th>Plant Code</th>\n      <th>Product ID</th>\n    </tr>\n  </thead>\n  <tbody>\n    <tr>\n      <th>0</th>\n      <td>PLANT15</td>\n      <td>1698815</td>\n    </tr>\n    <tr>\n      <th>1</th>\n      <td>PLANT17</td>\n      <td>1664419</td>\n    </tr>\n    <tr>\n      <th>2</th>\n      <td>PLANT17</td>\n      <td>1664426</td>\n    </tr>\n    <tr>\n      <th>3</th>\n      <td>PLANT17</td>\n      <td>1672826</td>\n    </tr>\n    <tr>\n      <th>4</th>\n      <td>PLANT17</td>\n      <td>1674916</td>\n    </tr>\n  </tbody>\n</table>\n</div>"
     },
     "execution_count": 165,
     "metadata": {},
     "output_type": "execute_result"
    }
   ],
   "source": [
    "products_per_plant = pd.read_excel(\"C:\\\\Users\\\\HOME\\\\Documents\\\\data_science\\\\ml_for_supply_chain_082024\\\\module4\\\\Supply chain logisitcs problem.xlsx\", sheet_name = 'ProductsPerPlant')\n",
    "products_per_plant.dropna(axis = 1, how = 'all', inplace = True)\n",
    "products_per_plant.dropna(axis = 0, how = 'all', inplace = True)\n",
    "products_per_plant.head()"
   ]
  },
  {
   "cell_type": "code",
   "execution_count": 166,
   "outputs": [
    {
     "data": {
      "text/plain": "        WH  Cost/unit\n0  PLANT15   1.415063\n1  PLANT17   0.428947\n2  PLANT18   2.036254\n3  PLANT05   0.488144\n4  PLANT02   0.477504",
      "text/html": "<div>\n<style scoped>\n    .dataframe tbody tr th:only-of-type {\n        vertical-align: middle;\n    }\n\n    .dataframe tbody tr th {\n        vertical-align: top;\n    }\n\n    .dataframe thead th {\n        text-align: right;\n    }\n</style>\n<table border=\"1\" class=\"dataframe\">\n  <thead>\n    <tr style=\"text-align: right;\">\n      <th></th>\n      <th>WH</th>\n      <th>Cost/unit</th>\n    </tr>\n  </thead>\n  <tbody>\n    <tr>\n      <th>0</th>\n      <td>PLANT15</td>\n      <td>1.415063</td>\n    </tr>\n    <tr>\n      <th>1</th>\n      <td>PLANT17</td>\n      <td>0.428947</td>\n    </tr>\n    <tr>\n      <th>2</th>\n      <td>PLANT18</td>\n      <td>2.036254</td>\n    </tr>\n    <tr>\n      <th>3</th>\n      <td>PLANT05</td>\n      <td>0.488144</td>\n    </tr>\n    <tr>\n      <th>4</th>\n      <td>PLANT02</td>\n      <td>0.477504</td>\n    </tr>\n  </tbody>\n</table>\n</div>"
     },
     "execution_count": 166,
     "metadata": {},
     "output_type": "execute_result"
    }
   ],
   "source": [
    "wh_costs_per_unit = pd.read_excel(\"C:\\\\Users\\\\HOME\\\\Documents\\\\data_science\\\\ml_for_supply_chain_082024\\\\module4\\\\Supply chain logisitcs problem.xlsx\", sheet_name = 'WhCosts')\n",
    "wh_costs_per_unit.dropna(axis = 1, how = 'all', inplace = True)\n",
    "wh_costs_per_unit.dropna(axis = 0, how = 'all', inplace = True)\n",
    "wh_costs_per_unit.head()"
   ],
   "metadata": {
    "collapsed": false,
    "pycharm": {
     "name": "#%%\n"
    }
   }
  },
  {
   "cell_type": "code",
   "execution_count": 167,
   "outputs": [
    {
     "data": {
      "text/plain": "  Plant Code  Cost/unit\n0    PLANT15   1.415063\n1    PLANT17   0.428947\n2    PLANT18   2.036254\n3    PLANT05   0.488144\n4    PLANT02   0.477504",
      "text/html": "<div>\n<style scoped>\n    .dataframe tbody tr th:only-of-type {\n        vertical-align: middle;\n    }\n\n    .dataframe tbody tr th {\n        vertical-align: top;\n    }\n\n    .dataframe thead th {\n        text-align: right;\n    }\n</style>\n<table border=\"1\" class=\"dataframe\">\n  <thead>\n    <tr style=\"text-align: right;\">\n      <th></th>\n      <th>Plant Code</th>\n      <th>Cost/unit</th>\n    </tr>\n  </thead>\n  <tbody>\n    <tr>\n      <th>0</th>\n      <td>PLANT15</td>\n      <td>1.415063</td>\n    </tr>\n    <tr>\n      <th>1</th>\n      <td>PLANT17</td>\n      <td>0.428947</td>\n    </tr>\n    <tr>\n      <th>2</th>\n      <td>PLANT18</td>\n      <td>2.036254</td>\n    </tr>\n    <tr>\n      <th>3</th>\n      <td>PLANT05</td>\n      <td>0.488144</td>\n    </tr>\n    <tr>\n      <th>4</th>\n      <td>PLANT02</td>\n      <td>0.477504</td>\n    </tr>\n  </tbody>\n</table>\n</div>"
     },
     "execution_count": 167,
     "metadata": {},
     "output_type": "execute_result"
    }
   ],
   "source": [
    "# Переименование столбца WH в Plant ID\n",
    "wh_costs_per_unit.rename(columns={'WH': 'Plant Code'}, inplace=True)\n",
    "\n",
    "# Просмотр первых строк обновленного DataFrame\n",
    "wh_costs_per_unit.head()"
   ],
   "metadata": {
    "collapsed": false,
    "pycharm": {
     "name": "#%%\n"
    }
   }
  },
  {
   "cell_type": "code",
   "execution_count": 168,
   "outputs": [
    {
     "data": {
      "text/plain": "  Plant Code  Product ID  Cost/unit\n0    PLANT15     1698815   1.415063\n1    PLANT17     1664419   0.428947\n2    PLANT17     1664426   0.428947\n3    PLANT17     1672826   0.428947\n4    PLANT17     1674916   0.428947",
      "text/html": "<div>\n<style scoped>\n    .dataframe tbody tr th:only-of-type {\n        vertical-align: middle;\n    }\n\n    .dataframe tbody tr th {\n        vertical-align: top;\n    }\n\n    .dataframe thead th {\n        text-align: right;\n    }\n</style>\n<table border=\"1\" class=\"dataframe\">\n  <thead>\n    <tr style=\"text-align: right;\">\n      <th></th>\n      <th>Plant Code</th>\n      <th>Product ID</th>\n      <th>Cost/unit</th>\n    </tr>\n  </thead>\n  <tbody>\n    <tr>\n      <th>0</th>\n      <td>PLANT15</td>\n      <td>1698815</td>\n      <td>1.415063</td>\n    </tr>\n    <tr>\n      <th>1</th>\n      <td>PLANT17</td>\n      <td>1664419</td>\n      <td>0.428947</td>\n    </tr>\n    <tr>\n      <th>2</th>\n      <td>PLANT17</td>\n      <td>1664426</td>\n      <td>0.428947</td>\n    </tr>\n    <tr>\n      <th>3</th>\n      <td>PLANT17</td>\n      <td>1672826</td>\n      <td>0.428947</td>\n    </tr>\n    <tr>\n      <th>4</th>\n      <td>PLANT17</td>\n      <td>1674916</td>\n      <td>0.428947</td>\n    </tr>\n  </tbody>\n</table>\n</div>"
     },
     "execution_count": 168,
     "metadata": {},
     "output_type": "execute_result"
    }
   ],
   "source": [
    "# Объединение таблиц по ключу 'Plant Code' и добавление столбца 'Cost/unit'\n",
    "products_per_plant = pd.merge(products_per_plant, wh_costs_per_unit[['Plant Code', 'Cost/unit']], on='Plant Code', how='left')\n",
    "\n",
    "# Оставляем только необходимые столбцы\n",
    "products_per_plant = products_per_plant[['Plant Code', 'Product ID', 'Cost/unit']]\n",
    "\n",
    "# Просмотр первых строк обновленного DataFrame\n",
    "products_per_plant.head()"
   ],
   "metadata": {
    "collapsed": false,
    "pycharm": {
     "name": "#%%\n"
    }
   }
  },
  {
   "cell_type": "code",
   "execution_count": 169,
   "metadata": {
    "pycharm": {
     "name": "#%%\n"
    }
   },
   "outputs": [
    {
     "data": {
      "text/plain": "  Plant Code    Port\n0    PLANT01  PORT01\n1    PLANT01  PORT02\n2    PLANT02  PORT03\n3    PLANT03  PORT04\n4    PLANT04  PORT05",
      "text/html": "<div>\n<style scoped>\n    .dataframe tbody tr th:only-of-type {\n        vertical-align: middle;\n    }\n\n    .dataframe tbody tr th {\n        vertical-align: top;\n    }\n\n    .dataframe thead th {\n        text-align: right;\n    }\n</style>\n<table border=\"1\" class=\"dataframe\">\n  <thead>\n    <tr style=\"text-align: right;\">\n      <th></th>\n      <th>Plant Code</th>\n      <th>Port</th>\n    </tr>\n  </thead>\n  <tbody>\n    <tr>\n      <th>0</th>\n      <td>PLANT01</td>\n      <td>PORT01</td>\n    </tr>\n    <tr>\n      <th>1</th>\n      <td>PLANT01</td>\n      <td>PORT02</td>\n    </tr>\n    <tr>\n      <th>2</th>\n      <td>PLANT02</td>\n      <td>PORT03</td>\n    </tr>\n    <tr>\n      <th>3</th>\n      <td>PLANT03</td>\n      <td>PORT04</td>\n    </tr>\n    <tr>\n      <th>4</th>\n      <td>PLANT04</td>\n      <td>PORT05</td>\n    </tr>\n  </tbody>\n</table>\n</div>"
     },
     "execution_count": 169,
     "metadata": {},
     "output_type": "execute_result"
    }
   ],
   "source": [
    "ports = pd.read_excel(\"C:\\\\Users\\\\HOME\\\\Documents\\\\data_science\\\\ml_for_supply_chain_082024\\\\module4\\\\Supply chain logisitcs problem.xlsx\", sheet_name  = 'PlantPorts')\n",
    "ports.dropna(axis = 1, how = 'all', inplace = True)\n",
    "ports.dropna(axis = 0, how = 'all', inplace = True)\n",
    "ports.head()"
   ]
  },
  {
   "cell_type": "markdown",
   "source": [
    "## Part 2: Building a dataset for optimization"
   ],
   "metadata": {
    "collapsed": false,
    "pycharm": {
     "name": "#%% md\n"
    }
   }
  },
  {
   "cell_type": "markdown",
   "source": [
    "We need to turn the shipping costs into a dictionary for easy lookup. We use the 'dict(zip(column1, column2))' paradigm."
   ],
   "metadata": {
    "collapsed": false,
    "pycharm": {
     "name": "#%% md\n"
    }
   }
  },
  {
   "cell_type": "code",
   "execution_count": 170,
   "outputs": [],
   "source": [
    "shipping_costs = dict(zip(freight_rates['orig_port_cd'], freight_rates['rate']))"
   ],
   "metadata": {
    "collapsed": false,
    "pycharm": {
     "name": "#%%\n"
    }
   }
  },
  {
   "cell_type": "code",
   "execution_count": 171,
   "outputs": [
    {
     "data": {
      "text/plain": "{'PORT08': 0.1476,\n 'PORT10': 0.11803052611157165,\n 'PORT09': 13.2784,\n 'PORT11': 0.20279999999999998,\n 'PORT04': 0.1816,\n 'PORT02': 0.124,\n 'PORT03': 0.41159999999999997,\n 'PORT07': 0.1972,\n 'PORT05': 0.13520000000000001,\n 'PORT06': 0.2756}"
     },
     "execution_count": 171,
     "metadata": {},
     "output_type": "execute_result"
    }
   ],
   "source": [
    "shipping_costs"
   ],
   "metadata": {
    "collapsed": false,
    "pycharm": {
     "name": "#%%\n"
    }
   }
  },
  {
   "cell_type": "code",
   "execution_count": 172,
   "outputs": [],
   "source": [
    "def get_plants(product_id):\n",
    "\n",
    "    temp = products_per_plant[products_per_plant['Product ID'] == product_id]\n",
    "    return tuple(np.unique(temp['Plant Code']))"
   ],
   "metadata": {
    "collapsed": false,
    "pycharm": {
     "name": "#%%\n"
    }
   }
  },
  {
   "cell_type": "code",
   "execution_count": 173,
   "metadata": {
    "pycharm": {
     "name": "#%%\n"
    }
   },
   "outputs": [
    {
     "data": {
      "text/plain": "          Order ID Order Date Origin Port Carrier  TPT Service Level  \\\n0     1.447296e+09 2013-05-26      PORT09   V44_3    1           CRF   \n1     1.447158e+09 2013-05-26      PORT09   V44_3    1           CRF   \n2     1.447139e+09 2013-05-26      PORT09   V44_3    1           CRF   \n3     1.447364e+09 2013-05-26      PORT09   V44_3    1           CRF   \n4     1.447364e+09 2013-05-26      PORT09   V44_3    1           CRF   \n...            ...        ...         ...     ...  ...           ...   \n9210  1.447305e+09 2013-05-26      PORT04  V444_1    1           DTD   \n9211  1.447319e+09 2013-05-26      PORT04  V444_1    1           DTD   \n9212  1.447322e+09 2013-05-26      PORT04  V444_1    1           DTD   \n9213  1.447145e+09 2013-05-26      PORT04  V444_1    1           DTD   \n9214  1.447328e+09 2013-05-26      PORT04  V444_1    1           DTD   \n\n      Ship ahead day count  Ship Late Day count           Customer  \\\n0                        3                    0          V55555_53   \n1                        3                    0          V55555_53   \n2                        3                    0          V55555_53   \n3                        3                    0          V55555_53   \n4                        3                    0          V55555_53   \n...                    ...                  ...                ...   \n9210                     5                    0  V55555555555555_8   \n9211                     5                    0  V55555555555555_8   \n9212                     5                    0  V55555555555555_8   \n9213                     5                    0  V55555555555555_8   \n9214                     5                    0  V55555555555555_8   \n\n      Product ID Plant Code Destination Port  Unit quantity     Weight  \\\n0        1700106    PLANT16           PORT09            808  14.300000   \n1        1700106    PLANT16           PORT09           3188  87.940000   \n2        1700106    PLANT16           PORT09           2331  61.200000   \n3        1700106    PLANT16           PORT09            847  16.160000   \n4        1700106    PLANT16           PORT09           2163  52.340000   \n...          ...        ...              ...            ...        ...   \n9210     1683388    PLANT03           PORT09            339   2.354118   \n9211     1683388    PLANT03           PORT09            339   2.354118   \n9212     1683388    PLANT03           PORT09            245   0.294265   \n9213     1683430    PLANT03           PORT09            278   2.480000   \n9214     1683424    PLANT03           PORT09            317   1.960000   \n\n     allowed_plants  \n0        (PLANT16,)  \n1        (PLANT16,)  \n2        (PLANT16,)  \n3        (PLANT16,)  \n4        (PLANT16,)  \n...             ...  \n9210     (PLANT03,)  \n9211     (PLANT03,)  \n9212     (PLANT03,)  \n9213     (PLANT03,)  \n9214     (PLANT03,)  \n\n[9215 rows x 15 columns]",
      "text/html": "<div>\n<style scoped>\n    .dataframe tbody tr th:only-of-type {\n        vertical-align: middle;\n    }\n\n    .dataframe tbody tr th {\n        vertical-align: top;\n    }\n\n    .dataframe thead th {\n        text-align: right;\n    }\n</style>\n<table border=\"1\" class=\"dataframe\">\n  <thead>\n    <tr style=\"text-align: right;\">\n      <th></th>\n      <th>Order ID</th>\n      <th>Order Date</th>\n      <th>Origin Port</th>\n      <th>Carrier</th>\n      <th>TPT</th>\n      <th>Service Level</th>\n      <th>Ship ahead day count</th>\n      <th>Ship Late Day count</th>\n      <th>Customer</th>\n      <th>Product ID</th>\n      <th>Plant Code</th>\n      <th>Destination Port</th>\n      <th>Unit quantity</th>\n      <th>Weight</th>\n      <th>allowed_plants</th>\n    </tr>\n  </thead>\n  <tbody>\n    <tr>\n      <th>0</th>\n      <td>1.447296e+09</td>\n      <td>2013-05-26</td>\n      <td>PORT09</td>\n      <td>V44_3</td>\n      <td>1</td>\n      <td>CRF</td>\n      <td>3</td>\n      <td>0</td>\n      <td>V55555_53</td>\n      <td>1700106</td>\n      <td>PLANT16</td>\n      <td>PORT09</td>\n      <td>808</td>\n      <td>14.300000</td>\n      <td>(PLANT16,)</td>\n    </tr>\n    <tr>\n      <th>1</th>\n      <td>1.447158e+09</td>\n      <td>2013-05-26</td>\n      <td>PORT09</td>\n      <td>V44_3</td>\n      <td>1</td>\n      <td>CRF</td>\n      <td>3</td>\n      <td>0</td>\n      <td>V55555_53</td>\n      <td>1700106</td>\n      <td>PLANT16</td>\n      <td>PORT09</td>\n      <td>3188</td>\n      <td>87.940000</td>\n      <td>(PLANT16,)</td>\n    </tr>\n    <tr>\n      <th>2</th>\n      <td>1.447139e+09</td>\n      <td>2013-05-26</td>\n      <td>PORT09</td>\n      <td>V44_3</td>\n      <td>1</td>\n      <td>CRF</td>\n      <td>3</td>\n      <td>0</td>\n      <td>V55555_53</td>\n      <td>1700106</td>\n      <td>PLANT16</td>\n      <td>PORT09</td>\n      <td>2331</td>\n      <td>61.200000</td>\n      <td>(PLANT16,)</td>\n    </tr>\n    <tr>\n      <th>3</th>\n      <td>1.447364e+09</td>\n      <td>2013-05-26</td>\n      <td>PORT09</td>\n      <td>V44_3</td>\n      <td>1</td>\n      <td>CRF</td>\n      <td>3</td>\n      <td>0</td>\n      <td>V55555_53</td>\n      <td>1700106</td>\n      <td>PLANT16</td>\n      <td>PORT09</td>\n      <td>847</td>\n      <td>16.160000</td>\n      <td>(PLANT16,)</td>\n    </tr>\n    <tr>\n      <th>4</th>\n      <td>1.447364e+09</td>\n      <td>2013-05-26</td>\n      <td>PORT09</td>\n      <td>V44_3</td>\n      <td>1</td>\n      <td>CRF</td>\n      <td>3</td>\n      <td>0</td>\n      <td>V55555_53</td>\n      <td>1700106</td>\n      <td>PLANT16</td>\n      <td>PORT09</td>\n      <td>2163</td>\n      <td>52.340000</td>\n      <td>(PLANT16,)</td>\n    </tr>\n    <tr>\n      <th>...</th>\n      <td>...</td>\n      <td>...</td>\n      <td>...</td>\n      <td>...</td>\n      <td>...</td>\n      <td>...</td>\n      <td>...</td>\n      <td>...</td>\n      <td>...</td>\n      <td>...</td>\n      <td>...</td>\n      <td>...</td>\n      <td>...</td>\n      <td>...</td>\n      <td>...</td>\n    </tr>\n    <tr>\n      <th>9210</th>\n      <td>1.447305e+09</td>\n      <td>2013-05-26</td>\n      <td>PORT04</td>\n      <td>V444_1</td>\n      <td>1</td>\n      <td>DTD</td>\n      <td>5</td>\n      <td>0</td>\n      <td>V55555555555555_8</td>\n      <td>1683388</td>\n      <td>PLANT03</td>\n      <td>PORT09</td>\n      <td>339</td>\n      <td>2.354118</td>\n      <td>(PLANT03,)</td>\n    </tr>\n    <tr>\n      <th>9211</th>\n      <td>1.447319e+09</td>\n      <td>2013-05-26</td>\n      <td>PORT04</td>\n      <td>V444_1</td>\n      <td>1</td>\n      <td>DTD</td>\n      <td>5</td>\n      <td>0</td>\n      <td>V55555555555555_8</td>\n      <td>1683388</td>\n      <td>PLANT03</td>\n      <td>PORT09</td>\n      <td>339</td>\n      <td>2.354118</td>\n      <td>(PLANT03,)</td>\n    </tr>\n    <tr>\n      <th>9212</th>\n      <td>1.447322e+09</td>\n      <td>2013-05-26</td>\n      <td>PORT04</td>\n      <td>V444_1</td>\n      <td>1</td>\n      <td>DTD</td>\n      <td>5</td>\n      <td>0</td>\n      <td>V55555555555555_8</td>\n      <td>1683388</td>\n      <td>PLANT03</td>\n      <td>PORT09</td>\n      <td>245</td>\n      <td>0.294265</td>\n      <td>(PLANT03,)</td>\n    </tr>\n    <tr>\n      <th>9213</th>\n      <td>1.447145e+09</td>\n      <td>2013-05-26</td>\n      <td>PORT04</td>\n      <td>V444_1</td>\n      <td>1</td>\n      <td>DTD</td>\n      <td>5</td>\n      <td>0</td>\n      <td>V55555555555555_8</td>\n      <td>1683430</td>\n      <td>PLANT03</td>\n      <td>PORT09</td>\n      <td>278</td>\n      <td>2.480000</td>\n      <td>(PLANT03,)</td>\n    </tr>\n    <tr>\n      <th>9214</th>\n      <td>1.447328e+09</td>\n      <td>2013-05-26</td>\n      <td>PORT04</td>\n      <td>V444_1</td>\n      <td>1</td>\n      <td>DTD</td>\n      <td>5</td>\n      <td>0</td>\n      <td>V55555555555555_8</td>\n      <td>1683424</td>\n      <td>PLANT03</td>\n      <td>PORT09</td>\n      <td>317</td>\n      <td>1.960000</td>\n      <td>(PLANT03,)</td>\n    </tr>\n  </tbody>\n</table>\n<p>9215 rows × 15 columns</p>\n</div>"
     },
     "execution_count": 173,
     "metadata": {},
     "output_type": "execute_result"
    }
   ],
   "source": [
    "''' \n",
    "a) Create a new column in the 'orders' dataframe called 'allowed_plants'. \n",
    "To do this, you'll need to apply the defined get_plants function using a lambda function.\n",
    "'''\n",
    "\n",
    "orders['allowed_plants'] = orders['Product ID'].apply(lambda x: get_plants(x))\n",
    "orders"
   ]
  },
  {
   "cell_type": "code",
   "execution_count": 174,
   "metadata": {
    "pycharm": {
     "name": "#%%\n"
    }
   },
   "outputs": [],
   "source": [
    "'''\n",
    "b) Set the index of the 'orders' dataframe to be the 'Order ID'. Make sure you set the index in place. \n",
    "'''\n",
    "\n",
    "orders.set_index('Order ID', inplace = True)"
   ]
  },
  {
   "cell_type": "code",
   "execution_count": 175,
   "outputs": [
    {
     "data": {
      "text/plain": "             Order Date Origin Port Carrier  TPT Service Level  \\\nOrder ID                                                         \n1.447296e+09 2013-05-26      PORT09   V44_3    1           CRF   \n1.447158e+09 2013-05-26      PORT09   V44_3    1           CRF   \n1.447139e+09 2013-05-26      PORT09   V44_3    1           CRF   \n1.447364e+09 2013-05-26      PORT09   V44_3    1           CRF   \n1.447364e+09 2013-05-26      PORT09   V44_3    1           CRF   \n...                 ...         ...     ...  ...           ...   \n1.447305e+09 2013-05-26      PORT04  V444_1    1           DTD   \n1.447319e+09 2013-05-26      PORT04  V444_1    1           DTD   \n1.447322e+09 2013-05-26      PORT04  V444_1    1           DTD   \n1.447145e+09 2013-05-26      PORT04  V444_1    1           DTD   \n1.447328e+09 2013-05-26      PORT04  V444_1    1           DTD   \n\n              Ship ahead day count  Ship Late Day count           Customer  \\\nOrder ID                                                                     \n1.447296e+09                     3                    0          V55555_53   \n1.447158e+09                     3                    0          V55555_53   \n1.447139e+09                     3                    0          V55555_53   \n1.447364e+09                     3                    0          V55555_53   \n1.447364e+09                     3                    0          V55555_53   \n...                            ...                  ...                ...   \n1.447305e+09                     5                    0  V55555555555555_8   \n1.447319e+09                     5                    0  V55555555555555_8   \n1.447322e+09                     5                    0  V55555555555555_8   \n1.447145e+09                     5                    0  V55555555555555_8   \n1.447328e+09                     5                    0  V55555555555555_8   \n\n              Product ID Plant Code Destination Port  Unit quantity  \\\nOrder ID                                                              \n1.447296e+09     1700106    PLANT16           PORT09            808   \n1.447158e+09     1700106    PLANT16           PORT09           3188   \n1.447139e+09     1700106    PLANT16           PORT09           2331   \n1.447364e+09     1700106    PLANT16           PORT09            847   \n1.447364e+09     1700106    PLANT16           PORT09           2163   \n...                  ...        ...              ...            ...   \n1.447305e+09     1683388    PLANT03           PORT09            339   \n1.447319e+09     1683388    PLANT03           PORT09            339   \n1.447322e+09     1683388    PLANT03           PORT09            245   \n1.447145e+09     1683430    PLANT03           PORT09            278   \n1.447328e+09     1683424    PLANT03           PORT09            317   \n\n                 Weight allowed_plants  \nOrder ID                                \n1.447296e+09  14.300000     (PLANT16,)  \n1.447158e+09  87.940000     (PLANT16,)  \n1.447139e+09  61.200000     (PLANT16,)  \n1.447364e+09  16.160000     (PLANT16,)  \n1.447364e+09  52.340000     (PLANT16,)  \n...                 ...            ...  \n1.447305e+09   2.354118     (PLANT03,)  \n1.447319e+09   2.354118     (PLANT03,)  \n1.447322e+09   0.294265     (PLANT03,)  \n1.447145e+09   2.480000     (PLANT03,)  \n1.447328e+09   1.960000     (PLANT03,)  \n\n[9215 rows x 14 columns]",
      "text/html": "<div>\n<style scoped>\n    .dataframe tbody tr th:only-of-type {\n        vertical-align: middle;\n    }\n\n    .dataframe tbody tr th {\n        vertical-align: top;\n    }\n\n    .dataframe thead th {\n        text-align: right;\n    }\n</style>\n<table border=\"1\" class=\"dataframe\">\n  <thead>\n    <tr style=\"text-align: right;\">\n      <th></th>\n      <th>Order Date</th>\n      <th>Origin Port</th>\n      <th>Carrier</th>\n      <th>TPT</th>\n      <th>Service Level</th>\n      <th>Ship ahead day count</th>\n      <th>Ship Late Day count</th>\n      <th>Customer</th>\n      <th>Product ID</th>\n      <th>Plant Code</th>\n      <th>Destination Port</th>\n      <th>Unit quantity</th>\n      <th>Weight</th>\n      <th>allowed_plants</th>\n    </tr>\n    <tr>\n      <th>Order ID</th>\n      <th></th>\n      <th></th>\n      <th></th>\n      <th></th>\n      <th></th>\n      <th></th>\n      <th></th>\n      <th></th>\n      <th></th>\n      <th></th>\n      <th></th>\n      <th></th>\n      <th></th>\n      <th></th>\n    </tr>\n  </thead>\n  <tbody>\n    <tr>\n      <th>1.447296e+09</th>\n      <td>2013-05-26</td>\n      <td>PORT09</td>\n      <td>V44_3</td>\n      <td>1</td>\n      <td>CRF</td>\n      <td>3</td>\n      <td>0</td>\n      <td>V55555_53</td>\n      <td>1700106</td>\n      <td>PLANT16</td>\n      <td>PORT09</td>\n      <td>808</td>\n      <td>14.300000</td>\n      <td>(PLANT16,)</td>\n    </tr>\n    <tr>\n      <th>1.447158e+09</th>\n      <td>2013-05-26</td>\n      <td>PORT09</td>\n      <td>V44_3</td>\n      <td>1</td>\n      <td>CRF</td>\n      <td>3</td>\n      <td>0</td>\n      <td>V55555_53</td>\n      <td>1700106</td>\n      <td>PLANT16</td>\n      <td>PORT09</td>\n      <td>3188</td>\n      <td>87.940000</td>\n      <td>(PLANT16,)</td>\n    </tr>\n    <tr>\n      <th>1.447139e+09</th>\n      <td>2013-05-26</td>\n      <td>PORT09</td>\n      <td>V44_3</td>\n      <td>1</td>\n      <td>CRF</td>\n      <td>3</td>\n      <td>0</td>\n      <td>V55555_53</td>\n      <td>1700106</td>\n      <td>PLANT16</td>\n      <td>PORT09</td>\n      <td>2331</td>\n      <td>61.200000</td>\n      <td>(PLANT16,)</td>\n    </tr>\n    <tr>\n      <th>1.447364e+09</th>\n      <td>2013-05-26</td>\n      <td>PORT09</td>\n      <td>V44_3</td>\n      <td>1</td>\n      <td>CRF</td>\n      <td>3</td>\n      <td>0</td>\n      <td>V55555_53</td>\n      <td>1700106</td>\n      <td>PLANT16</td>\n      <td>PORT09</td>\n      <td>847</td>\n      <td>16.160000</td>\n      <td>(PLANT16,)</td>\n    </tr>\n    <tr>\n      <th>1.447364e+09</th>\n      <td>2013-05-26</td>\n      <td>PORT09</td>\n      <td>V44_3</td>\n      <td>1</td>\n      <td>CRF</td>\n      <td>3</td>\n      <td>0</td>\n      <td>V55555_53</td>\n      <td>1700106</td>\n      <td>PLANT16</td>\n      <td>PORT09</td>\n      <td>2163</td>\n      <td>52.340000</td>\n      <td>(PLANT16,)</td>\n    </tr>\n    <tr>\n      <th>...</th>\n      <td>...</td>\n      <td>...</td>\n      <td>...</td>\n      <td>...</td>\n      <td>...</td>\n      <td>...</td>\n      <td>...</td>\n      <td>...</td>\n      <td>...</td>\n      <td>...</td>\n      <td>...</td>\n      <td>...</td>\n      <td>...</td>\n      <td>...</td>\n    </tr>\n    <tr>\n      <th>1.447305e+09</th>\n      <td>2013-05-26</td>\n      <td>PORT04</td>\n      <td>V444_1</td>\n      <td>1</td>\n      <td>DTD</td>\n      <td>5</td>\n      <td>0</td>\n      <td>V55555555555555_8</td>\n      <td>1683388</td>\n      <td>PLANT03</td>\n      <td>PORT09</td>\n      <td>339</td>\n      <td>2.354118</td>\n      <td>(PLANT03,)</td>\n    </tr>\n    <tr>\n      <th>1.447319e+09</th>\n      <td>2013-05-26</td>\n      <td>PORT04</td>\n      <td>V444_1</td>\n      <td>1</td>\n      <td>DTD</td>\n      <td>5</td>\n      <td>0</td>\n      <td>V55555555555555_8</td>\n      <td>1683388</td>\n      <td>PLANT03</td>\n      <td>PORT09</td>\n      <td>339</td>\n      <td>2.354118</td>\n      <td>(PLANT03,)</td>\n    </tr>\n    <tr>\n      <th>1.447322e+09</th>\n      <td>2013-05-26</td>\n      <td>PORT04</td>\n      <td>V444_1</td>\n      <td>1</td>\n      <td>DTD</td>\n      <td>5</td>\n      <td>0</td>\n      <td>V55555555555555_8</td>\n      <td>1683388</td>\n      <td>PLANT03</td>\n      <td>PORT09</td>\n      <td>245</td>\n      <td>0.294265</td>\n      <td>(PLANT03,)</td>\n    </tr>\n    <tr>\n      <th>1.447145e+09</th>\n      <td>2013-05-26</td>\n      <td>PORT04</td>\n      <td>V444_1</td>\n      <td>1</td>\n      <td>DTD</td>\n      <td>5</td>\n      <td>0</td>\n      <td>V55555555555555_8</td>\n      <td>1683430</td>\n      <td>PLANT03</td>\n      <td>PORT09</td>\n      <td>278</td>\n      <td>2.480000</td>\n      <td>(PLANT03,)</td>\n    </tr>\n    <tr>\n      <th>1.447328e+09</th>\n      <td>2013-05-26</td>\n      <td>PORT04</td>\n      <td>V444_1</td>\n      <td>1</td>\n      <td>DTD</td>\n      <td>5</td>\n      <td>0</td>\n      <td>V55555555555555_8</td>\n      <td>1683424</td>\n      <td>PLANT03</td>\n      <td>PORT09</td>\n      <td>317</td>\n      <td>1.960000</td>\n      <td>(PLANT03,)</td>\n    </tr>\n  </tbody>\n</table>\n<p>9215 rows × 14 columns</p>\n</div>"
     },
     "execution_count": 175,
     "metadata": {},
     "output_type": "execute_result"
    }
   ],
   "source": [
    "orders"
   ],
   "metadata": {
    "collapsed": false,
    "pycharm": {
     "name": "#%%\n"
    }
   }
  },
  {
   "cell_type": "code",
   "execution_count": 176,
   "metadata": {
    "pycharm": {
     "name": "#%%\n"
    }
   },
   "outputs": [],
   "source": [
    "plant_ports = dict(zip(ports['Plant Code'], ports['Port']))"
   ]
  },
  {
   "cell_type": "code",
   "execution_count": 177,
   "outputs": [
    {
     "data": {
      "text/plain": "{'PLANT01': 'PORT02',\n 'PLANT02': 'PORT03',\n 'PLANT03': 'PORT04',\n 'PLANT04': 'PORT05',\n 'PLANT05': 'PORT06',\n 'PLANT06': 'PORT06',\n 'PLANT07': 'PORT02',\n 'PLANT08': 'PORT04',\n 'PLANT09': 'PORT04',\n 'PLANT10': 'PORT02',\n 'PLANT11': 'PORT04',\n 'PLANT12': 'PORT04',\n 'PLANT13': 'PORT04',\n 'PLANT14': 'PORT07',\n 'PLANT15': 'PORT08',\n 'PLANT16': 'PORT09',\n 'PLANT17': 'PORT10',\n 'PLANT18': 'PORT11',\n 'PLANT19': 'PORT04'}"
     },
     "execution_count": 177,
     "metadata": {},
     "output_type": "execute_result"
    }
   ],
   "source": [
    "plant_ports"
   ],
   "metadata": {
    "collapsed": false,
    "pycharm": {
     "name": "#%%\n"
    }
   }
  },
  {
   "cell_type": "markdown",
   "source": [
    "### Writing the axiliary functions"
   ],
   "metadata": {
    "collapsed": false,
    "pycharm": {
     "name": "#%% md\n"
    }
   }
  },
  {
   "cell_type": "code",
   "execution_count": 178,
   "metadata": {
    "pycharm": {
     "name": "#%%\n"
    }
   },
   "outputs": [],
   "source": [
    "def production_cost(order_id, plant):\n",
    "    '''\n",
    "    a) Return the production cost for a given order_id and plant (wahrehouse) name. \n",
    "    From the order id, you should first get the associated product id, which can be used to get the cost per unit.\n",
    "    From here, multiply the cost per unit by the unit quantity to get the total production cost.\n",
    "    '''\n",
    "    \n",
    "    t = orders.loc[order_id]\n",
    "    prod_id = t['Product ID']\n",
    "    pt = products_per_plant[products_per_plant['Product ID'] == prod_id]\n",
    "    pt = pt[pt['Plant Code'] == plant]\n",
    "    cpu = pt['Cost/unit']\n",
    "    production_cost = cpu * t['Unit quantity']\n",
    "    return production_cost.iloc[0]"
   ]
  },
  {
   "cell_type": "code",
   "execution_count": 179,
   "metadata": {
    "pycharm": {
     "name": "#%%\n"
    }
   },
   "outputs": [],
   "source": [
    "def shipping_cost(order_id, plant):\n",
    "    '''\n",
    "    b) Return the shipping cost for a given order_id and plant (warehouse) name. \n",
    "    From the plant name, you should first get the associated port, which can be used to get the shipping cost per lb.\n",
    "    From here, multiply the cost per lb by the weight to get the total shipping cost.\n",
    "    '''\n",
    "    \n",
    "    t = orders.loc[order_id]\n",
    "    w = t['Weight']\n",
    "    port = plant_ports[plant]\n",
    "    cp = shipping_costs[port]\n",
    "    ship_cost = cp * w\n",
    "    return ship_cost"
   ]
  },
  {
   "cell_type": "code",
   "execution_count": 180,
   "metadata": {
    "pycharm": {
     "name": "#%%\n"
    }
   },
   "outputs": [],
   "source": [
    "def total_cost(order_id, plant):\n",
    "    '''\n",
    "    c) Return the total cost for a given order_id and plant (warehouse) name. \n",
    "    You should add the results of the two functions above. \n",
    "    '''\n",
    "\n",
    "    return shipping_cost(order_id, plant) + production_cost(order_id, plant)"
   ]
  },
  {
   "cell_type": "code",
   "execution_count": 181,
   "metadata": {
    "pycharm": {
     "name": "#%%\n"
    }
   },
   "outputs": [],
   "source": [
    "### We create a dictionary with the key-value pair 'orderId_plantName': total_cost.\n",
    "\n",
    "order_costs = {}\n",
    "for name, row in orders.iterrows():\n",
    "    order_id = name\n",
    "    for plant in row['allowed_plants']:   \n",
    "        order_costs[str(order_id) + '_' + str(plant)] = total_cost(order_id, plant)"
   ]
  },
  {
   "cell_type": "code",
   "execution_count": 182,
   "metadata": {
    "pycharm": {
     "name": "#%%\n"
    }
   },
   "outputs": [],
   "source": [
    "### We create a dictionary with the key-value pair 'plantName': list_of_orders.\n",
    "\n",
    "plants = np.unique(ports['Plant Code'])\n",
    "\n",
    "plant_orders = {}\n",
    "for plant in plants:\n",
    "    temp_list = []\n",
    "    for name, row in orders.iterrows():\n",
    "        if plant in row['allowed_plants']:  \n",
    "            temp_list.append(str(name) + '_' + plant)\n",
    "    plant_orders[plant] = temp_list"
   ]
  },
  {
   "cell_type": "code",
   "execution_count": 183,
   "outputs": [
    {
     "data": {
      "text/plain": "Index(['Plant ID', 'Daily Capacity '], dtype='object')"
     },
     "execution_count": 183,
     "metadata": {},
     "output_type": "execute_result"
    }
   ],
   "source": [
    "wh_capacities.columns"
   ],
   "metadata": {
    "collapsed": false,
    "pycharm": {
     "name": "#%%\n"
    }
   }
  },
  {
   "cell_type": "code",
   "execution_count": 149,
   "metadata": {
    "pycharm": {
     "name": "#%%\n"
    }
   },
   "outputs": [],
   "source": [
    "### We create a dictionary with the key-value pair 'plantName': capacity.\n",
    "\n",
    "plant_cap = dict(zip(wh_capacities['Plant ID'], wh_capacities['Daily Capacity ']))"
   ]
  },
  {
   "cell_type": "code",
   "execution_count": 150,
   "metadata": {
    "pycharm": {
     "name": "#%%\n"
    }
   },
   "outputs": [],
   "source": [
    "### We create a dictionary with the key-value pair 'orderID': orderID_plantName.\n",
    "\n",
    "order_plants = {}\n",
    "temp_dict = dict(zip(orders.index, orders['allowed_plants']))\n",
    "for key in temp_dict:\n",
    "    temp_list = []\n",
    "    for pl in temp_dict[key]:\n",
    "        temp_list.append(str(key) + '_' + pl)\n",
    "    order_plants[key] = temp_list"
   ]
  },
  {
   "cell_type": "code",
   "execution_count": 151,
   "metadata": {
    "pycharm": {
     "name": "#%%\n"
    }
   },
   "outputs": [],
   "source": [
    "build = pulp.LpVariable.dicts(\"Route\",order_costs.keys(),0,None, pulp.LpInteger)\n",
    "prob = pulp.LpProblem(\"Problem\",pulp.LpMinimize)\n",
    "prob += pulp.lpSum([build[b] * order_costs[b] for b in order_costs.keys()]), \"Total Cost\""
   ]
  },
  {
   "cell_type": "code",
   "execution_count": 152,
   "metadata": {
    "pycharm": {
     "name": "#%%\n"
    }
   },
   "outputs": [],
   "source": [
    "for plant in plant_orders:\n",
    "    if len(plant_orders[plant]) > 0:\n",
    "        prob += pulp.lpSum(build[p] for p in plant_orders[plant]) <= plant_cap[plant], \"Total orders out of plant %s\"%plant"
   ]
  },
  {
   "cell_type": "code",
   "execution_count": 153,
   "metadata": {
    "pycharm": {
     "name": "#%%\n"
    }
   },
   "outputs": [],
   "source": [
    "for o in order_plants:\n",
    "    prob += pulp.lpSum(build[p] for p in order_plants[o]) == 1, \"Order_\" + str(o) + \"_filled\""
   ]
  },
  {
   "cell_type": "markdown",
   "source": [
    "## Part 3"
   ],
   "metadata": {
    "collapsed": false,
    "pycharm": {
     "name": "#%% md\n"
    }
   }
  },
  {
   "cell_type": "code",
   "execution_count": 154,
   "outputs": [
    {
     "data": {
      "text/plain": "'\\nPart 3\\n'"
     },
     "execution_count": 154,
     "metadata": {},
     "output_type": "execute_result"
    }
   ],
   "source": [
    "'''\n",
    "Part 3\n",
    "'''"
   ],
   "metadata": {
    "collapsed": false,
    "pycharm": {
     "name": "#%%\n"
    }
   }
  },
  {
   "cell_type": "code",
   "execution_count": 155,
   "metadata": {
    "pycharm": {
     "name": "#%%\n"
    }
   },
   "outputs": [
    {
     "name": "stdout",
     "output_type": "stream",
     "text": [
      "Status: Not Solved\n"
     ]
    }
   ],
   "source": [
    "''' \n",
    "a) Solve the linear programming problem and store its status in a variable called 'status'.\n",
    "'''\n",
    "\n",
    "status = pulp.LpStatus[prob.status]\n",
    "for i in range(3):\n",
    "    if status == 'Optimal':\n",
    "        break\n",
    "    prob.solve()\n",
    "\n",
    "print(\"Status:\", status)"
   ]
  },
  {
   "cell_type": "code",
   "execution_count": 156,
   "outputs": [
    {
     "name": "stdout",
     "output_type": "stream",
     "text": [
      "Total Cost =  3077806.5\n"
     ]
    }
   ],
   "source": [
    "'''\n",
    "b) Find the total cost to produce and ship all products and store the answer in a variable called 'total_cost'\n",
    "Round the final answer to 2 decimal places (https://docs.python.org/3/library/functions.html#round).\n",
    "'''\n",
    "total_cost = round(pulp.value(prob.objective), 2)\n",
    "\n",
    "print(\"Total Cost = \", str(total_cost))"
   ],
   "metadata": {
    "collapsed": false,
    "pycharm": {
     "name": "#%%\n"
    }
   }
  },
  {
   "cell_type": "code",
   "execution_count": null,
   "outputs": [],
   "source": [],
   "metadata": {
    "collapsed": false,
    "pycharm": {
     "name": "#%%\n"
    }
   }
  }
 ],
 "metadata": {
  "kernelspec": {
   "display_name": "Python 3",
   "language": "python",
   "name": "python3"
  },
  "language_info": {
   "codemirror_mode": {
    "name": "ipython",
    "version": 3
   },
   "file_extension": ".py",
   "mimetype": "text/x-python",
   "name": "python",
   "nbconvert_exporter": "python",
   "pygments_lexer": "ipython3",
   "version": "3.7.6"
  }
 },
 "nbformat": 4,
 "nbformat_minor": 4
}
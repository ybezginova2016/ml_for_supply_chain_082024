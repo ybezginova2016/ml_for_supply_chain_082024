{
 "cells": [
  {
   "cell_type": "code",
   "execution_count": null,
   "metadata": {
    "pycharm": {
     "name": "#%%\n"
    }
   },
   "outputs": [],
   "source": [
    "'''\n",
    "In this lab, we'll analyze the lb / unit ratio for different products.\n",
    "We want to look for any outliers in the data, where shipments are abnormally heavy or light.\n",
    "'''"
   ]
  },
  {
   "cell_type": "code",
   "execution_count": 1,
   "metadata": {
    "pycharm": {
     "name": "#%%\n"
    }
   },
   "outputs": [],
   "source": [
    "### Loading in libraries\n",
    "\n",
    "import pandas as pd\n",
    "import numpy as np"
   ]
  },
  {
   "cell_type": "code",
   "execution_count": 8,
   "metadata": {
    "pycharm": {
     "name": "#%%\n"
    }
   },
   "outputs": [
    {
     "data": {
      "text/plain": "        Order ID Order Date Origin Port Carrier  TPT Service Level  \\\n0   1.447296e+09 2013-05-26      PORT09   V44_3    1           CRF   \n1   1.447158e+09 2013-05-26      PORT09   V44_3    1           CRF   \n2   1.447139e+09 2013-05-26      PORT09   V44_3    1           CRF   \n3   1.447364e+09 2013-05-26      PORT09   V44_3    1           CRF   \n4   1.447364e+09 2013-05-26      PORT09   V44_3    1           CRF   \n5   1.447351e+09 2013-05-26      PORT09   V44_3    1           CRF   \n6   1.447320e+09 2013-05-26      PORT09   V44_3    1           CRF   \n7   1.447158e+09 2013-05-26      PORT09   V44_3    1           CRF   \n8   1.447219e+09 2013-05-26      PORT09   V44_3    1           CRF   \n9   1.447398e+09 2013-05-26      PORT09   V44_3    1           CRF   \n10  1.447382e+09 2013-05-26      PORT09   V44_3    1           CRF   \n11  1.447171e+09 2013-05-26      PORT09   V44_3    1           CRF   \n12  1.447155e+09 2013-05-26      PORT09   V44_3    1           CRF   \n13  1.447257e+09 2013-05-26      PORT09   V44_3    1           CRF   \n14  1.447241e+09 2013-05-26      PORT09   V44_3    1           CRF   \n15  1.447257e+09 2013-05-26      PORT09   V44_3    1           CRF   \n16  1.447261e+09 2013-05-26      PORT09   V44_3    1           CRF   \n17  1.447139e+09 2013-05-26      PORT09   V44_3    1           CRF   \n18  1.447309e+09 2013-05-26      PORT09   V44_3    1           CRF   \n19  1.447191e+09 2013-05-26      PORT09   V44_3    1           CRF   \n\n    Ship ahead day count  Ship Late Day count   Customer  Product ID  \\\n0                      3                    0  V55555_53     1700106   \n1                      3                    0  V55555_53     1700106   \n2                      3                    0  V55555_53     1700106   \n3                      3                    0  V55555_53     1700106   \n4                      3                    0  V55555_53     1700106   \n5                      3                    0  V55555_53     1700106   \n6                      3                    0  V55555_53     1700106   \n7                      3                    0  V55555_53     1700106   \n8                      3                    0  V55555_53     1700106   \n9                      3                    0  V55555_53     1700106   \n10                     3                    0  V55555_53     1700106   \n11                     3                    0  V55555_53     1700106   \n12                     3                    0  V55555_53     1697884   \n13                     3                    0  V55555_53     1697884   \n14                     3                    0  V55555_53     1697884   \n15                     3                    0  V55555_53     1697884   \n16                     3                    0  V55555_53     1697884   \n17                     3                    0  V55555_53     1697884   \n18                     3                    0  V55555_53     1697884   \n19                     3                    0  V55555_53     1697884   \n\n   Plant Code Destination Port  Unit quantity  Weight  \n0     PLANT16           PORT09            808   14.30  \n1     PLANT16           PORT09           3188   87.94  \n2     PLANT16           PORT09           2331   61.20  \n3     PLANT16           PORT09            847   16.16  \n4     PLANT16           PORT09           2163   52.34  \n5     PLANT16           PORT09           3332   92.80  \n6     PLANT16           PORT09           1782   46.90  \n7     PLANT16           PORT09            427    2.86  \n8     PLANT16           PORT09           1291   26.60  \n9     PLANT16           PORT09           2294   62.20  \n10    PLANT16           PORT09           2766   75.50  \n11    PLANT16           PORT09            798   14.30  \n12    PLANT16           PORT09            739   73.90  \n13    PLANT16           PORT09            280    7.80  \n14    PLANT16           PORT09            574   59.50  \n15    PLANT16           PORT09            556   52.70  \n16    PLANT16           PORT09            544   58.50  \n17    PLANT16           PORT09           1151  181.70  \n18    PLANT16           PORT09           1404  227.20  \n19    PLANT16           PORT09            662   74.10  ",
      "text/html": "<div>\n<style scoped>\n    .dataframe tbody tr th:only-of-type {\n        vertical-align: middle;\n    }\n\n    .dataframe tbody tr th {\n        vertical-align: top;\n    }\n\n    .dataframe thead th {\n        text-align: right;\n    }\n</style>\n<table border=\"1\" class=\"dataframe\">\n  <thead>\n    <tr style=\"text-align: right;\">\n      <th></th>\n      <th>Order ID</th>\n      <th>Order Date</th>\n      <th>Origin Port</th>\n      <th>Carrier</th>\n      <th>TPT</th>\n      <th>Service Level</th>\n      <th>Ship ahead day count</th>\n      <th>Ship Late Day count</th>\n      <th>Customer</th>\n      <th>Product ID</th>\n      <th>Plant Code</th>\n      <th>Destination Port</th>\n      <th>Unit quantity</th>\n      <th>Weight</th>\n    </tr>\n  </thead>\n  <tbody>\n    <tr>\n      <th>0</th>\n      <td>1.447296e+09</td>\n      <td>2013-05-26</td>\n      <td>PORT09</td>\n      <td>V44_3</td>\n      <td>1</td>\n      <td>CRF</td>\n      <td>3</td>\n      <td>0</td>\n      <td>V55555_53</td>\n      <td>1700106</td>\n      <td>PLANT16</td>\n      <td>PORT09</td>\n      <td>808</td>\n      <td>14.30</td>\n    </tr>\n    <tr>\n      <th>1</th>\n      <td>1.447158e+09</td>\n      <td>2013-05-26</td>\n      <td>PORT09</td>\n      <td>V44_3</td>\n      <td>1</td>\n      <td>CRF</td>\n      <td>3</td>\n      <td>0</td>\n      <td>V55555_53</td>\n      <td>1700106</td>\n      <td>PLANT16</td>\n      <td>PORT09</td>\n      <td>3188</td>\n      <td>87.94</td>\n    </tr>\n    <tr>\n      <th>2</th>\n      <td>1.447139e+09</td>\n      <td>2013-05-26</td>\n      <td>PORT09</td>\n      <td>V44_3</td>\n      <td>1</td>\n      <td>CRF</td>\n      <td>3</td>\n      <td>0</td>\n      <td>V55555_53</td>\n      <td>1700106</td>\n      <td>PLANT16</td>\n      <td>PORT09</td>\n      <td>2331</td>\n      <td>61.20</td>\n    </tr>\n    <tr>\n      <th>3</th>\n      <td>1.447364e+09</td>\n      <td>2013-05-26</td>\n      <td>PORT09</td>\n      <td>V44_3</td>\n      <td>1</td>\n      <td>CRF</td>\n      <td>3</td>\n      <td>0</td>\n      <td>V55555_53</td>\n      <td>1700106</td>\n      <td>PLANT16</td>\n      <td>PORT09</td>\n      <td>847</td>\n      <td>16.16</td>\n    </tr>\n    <tr>\n      <th>4</th>\n      <td>1.447364e+09</td>\n      <td>2013-05-26</td>\n      <td>PORT09</td>\n      <td>V44_3</td>\n      <td>1</td>\n      <td>CRF</td>\n      <td>3</td>\n      <td>0</td>\n      <td>V55555_53</td>\n      <td>1700106</td>\n      <td>PLANT16</td>\n      <td>PORT09</td>\n      <td>2163</td>\n      <td>52.34</td>\n    </tr>\n    <tr>\n      <th>5</th>\n      <td>1.447351e+09</td>\n      <td>2013-05-26</td>\n      <td>PORT09</td>\n      <td>V44_3</td>\n      <td>1</td>\n      <td>CRF</td>\n      <td>3</td>\n      <td>0</td>\n      <td>V55555_53</td>\n      <td>1700106</td>\n      <td>PLANT16</td>\n      <td>PORT09</td>\n      <td>3332</td>\n      <td>92.80</td>\n    </tr>\n    <tr>\n      <th>6</th>\n      <td>1.447320e+09</td>\n      <td>2013-05-26</td>\n      <td>PORT09</td>\n      <td>V44_3</td>\n      <td>1</td>\n      <td>CRF</td>\n      <td>3</td>\n      <td>0</td>\n      <td>V55555_53</td>\n      <td>1700106</td>\n      <td>PLANT16</td>\n      <td>PORT09</td>\n      <td>1782</td>\n      <td>46.90</td>\n    </tr>\n    <tr>\n      <th>7</th>\n      <td>1.447158e+09</td>\n      <td>2013-05-26</td>\n      <td>PORT09</td>\n      <td>V44_3</td>\n      <td>1</td>\n      <td>CRF</td>\n      <td>3</td>\n      <td>0</td>\n      <td>V55555_53</td>\n      <td>1700106</td>\n      <td>PLANT16</td>\n      <td>PORT09</td>\n      <td>427</td>\n      <td>2.86</td>\n    </tr>\n    <tr>\n      <th>8</th>\n      <td>1.447219e+09</td>\n      <td>2013-05-26</td>\n      <td>PORT09</td>\n      <td>V44_3</td>\n      <td>1</td>\n      <td>CRF</td>\n      <td>3</td>\n      <td>0</td>\n      <td>V55555_53</td>\n      <td>1700106</td>\n      <td>PLANT16</td>\n      <td>PORT09</td>\n      <td>1291</td>\n      <td>26.60</td>\n    </tr>\n    <tr>\n      <th>9</th>\n      <td>1.447398e+09</td>\n      <td>2013-05-26</td>\n      <td>PORT09</td>\n      <td>V44_3</td>\n      <td>1</td>\n      <td>CRF</td>\n      <td>3</td>\n      <td>0</td>\n      <td>V55555_53</td>\n      <td>1700106</td>\n      <td>PLANT16</td>\n      <td>PORT09</td>\n      <td>2294</td>\n      <td>62.20</td>\n    </tr>\n    <tr>\n      <th>10</th>\n      <td>1.447382e+09</td>\n      <td>2013-05-26</td>\n      <td>PORT09</td>\n      <td>V44_3</td>\n      <td>1</td>\n      <td>CRF</td>\n      <td>3</td>\n      <td>0</td>\n      <td>V55555_53</td>\n      <td>1700106</td>\n      <td>PLANT16</td>\n      <td>PORT09</td>\n      <td>2766</td>\n      <td>75.50</td>\n    </tr>\n    <tr>\n      <th>11</th>\n      <td>1.447171e+09</td>\n      <td>2013-05-26</td>\n      <td>PORT09</td>\n      <td>V44_3</td>\n      <td>1</td>\n      <td>CRF</td>\n      <td>3</td>\n      <td>0</td>\n      <td>V55555_53</td>\n      <td>1700106</td>\n      <td>PLANT16</td>\n      <td>PORT09</td>\n      <td>798</td>\n      <td>14.30</td>\n    </tr>\n    <tr>\n      <th>12</th>\n      <td>1.447155e+09</td>\n      <td>2013-05-26</td>\n      <td>PORT09</td>\n      <td>V44_3</td>\n      <td>1</td>\n      <td>CRF</td>\n      <td>3</td>\n      <td>0</td>\n      <td>V55555_53</td>\n      <td>1697884</td>\n      <td>PLANT16</td>\n      <td>PORT09</td>\n      <td>739</td>\n      <td>73.90</td>\n    </tr>\n    <tr>\n      <th>13</th>\n      <td>1.447257e+09</td>\n      <td>2013-05-26</td>\n      <td>PORT09</td>\n      <td>V44_3</td>\n      <td>1</td>\n      <td>CRF</td>\n      <td>3</td>\n      <td>0</td>\n      <td>V55555_53</td>\n      <td>1697884</td>\n      <td>PLANT16</td>\n      <td>PORT09</td>\n      <td>280</td>\n      <td>7.80</td>\n    </tr>\n    <tr>\n      <th>14</th>\n      <td>1.447241e+09</td>\n      <td>2013-05-26</td>\n      <td>PORT09</td>\n      <td>V44_3</td>\n      <td>1</td>\n      <td>CRF</td>\n      <td>3</td>\n      <td>0</td>\n      <td>V55555_53</td>\n      <td>1697884</td>\n      <td>PLANT16</td>\n      <td>PORT09</td>\n      <td>574</td>\n      <td>59.50</td>\n    </tr>\n    <tr>\n      <th>15</th>\n      <td>1.447257e+09</td>\n      <td>2013-05-26</td>\n      <td>PORT09</td>\n      <td>V44_3</td>\n      <td>1</td>\n      <td>CRF</td>\n      <td>3</td>\n      <td>0</td>\n      <td>V55555_53</td>\n      <td>1697884</td>\n      <td>PLANT16</td>\n      <td>PORT09</td>\n      <td>556</td>\n      <td>52.70</td>\n    </tr>\n    <tr>\n      <th>16</th>\n      <td>1.447261e+09</td>\n      <td>2013-05-26</td>\n      <td>PORT09</td>\n      <td>V44_3</td>\n      <td>1</td>\n      <td>CRF</td>\n      <td>3</td>\n      <td>0</td>\n      <td>V55555_53</td>\n      <td>1697884</td>\n      <td>PLANT16</td>\n      <td>PORT09</td>\n      <td>544</td>\n      <td>58.50</td>\n    </tr>\n    <tr>\n      <th>17</th>\n      <td>1.447139e+09</td>\n      <td>2013-05-26</td>\n      <td>PORT09</td>\n      <td>V44_3</td>\n      <td>1</td>\n      <td>CRF</td>\n      <td>3</td>\n      <td>0</td>\n      <td>V55555_53</td>\n      <td>1697884</td>\n      <td>PLANT16</td>\n      <td>PORT09</td>\n      <td>1151</td>\n      <td>181.70</td>\n    </tr>\n    <tr>\n      <th>18</th>\n      <td>1.447309e+09</td>\n      <td>2013-05-26</td>\n      <td>PORT09</td>\n      <td>V44_3</td>\n      <td>1</td>\n      <td>CRF</td>\n      <td>3</td>\n      <td>0</td>\n      <td>V55555_53</td>\n      <td>1697884</td>\n      <td>PLANT16</td>\n      <td>PORT09</td>\n      <td>1404</td>\n      <td>227.20</td>\n    </tr>\n    <tr>\n      <th>19</th>\n      <td>1.447191e+09</td>\n      <td>2013-05-26</td>\n      <td>PORT09</td>\n      <td>V44_3</td>\n      <td>1</td>\n      <td>CRF</td>\n      <td>3</td>\n      <td>0</td>\n      <td>V55555_53</td>\n      <td>1697884</td>\n      <td>PLANT16</td>\n      <td>PORT09</td>\n      <td>662</td>\n      <td>74.10</td>\n    </tr>\n  </tbody>\n</table>\n</div>"
     },
     "execution_count": 8,
     "metadata": {},
     "output_type": "execute_result"
    }
   ],
   "source": [
    "'''\n",
    "a) There is a file called 'Supply chain logisitcs problem.xlsx'. \n",
    "Read in the file as a datafrane and store it into a variable called \"orders\"\n",
    "'''\n",
    "orders = pd.read_excel(\"C:\\\\Users\\\\HOME\\\\Documents\\\\data_science\\\\ml_for_supply_chain_082024\\\\module3\\\\Supply chain logisitcs problem.xlsx\", sheet_name='OrderList')\n",
    "orders.head(20)"
   ]
  },
  {
   "cell_type": "code",
   "execution_count": 9,
   "outputs": [
    {
     "data": {
      "text/plain": "Index(['Order ID', 'Order Date', 'Origin Port', 'Carrier', 'TPT',\n       'Service Level', 'Ship ahead day count', 'Ship Late Day count',\n       'Customer', 'Product ID', 'Plant Code', 'Destination Port',\n       'Unit quantity', 'Weight'],\n      dtype='object')"
     },
     "execution_count": 9,
     "metadata": {},
     "output_type": "execute_result"
    }
   ],
   "source": [
    "orders.columns"
   ],
   "metadata": {
    "collapsed": false,
    "pycharm": {
     "name": "#%%\n"
    }
   }
  },
  {
   "cell_type": "code",
   "execution_count": 10,
   "metadata": {
    "pycharm": {
     "name": "#%%\n"
    }
   },
   "outputs": [
    {
     "data": {
      "text/plain": "Index(['Order ID', 'Order Date', 'Origin Port', 'Carrier', 'TPT',\n       'Service Level', 'Ship ahead day count', 'Ship Late Day count',\n       'Customer', 'Product ID', 'Plant Code', 'Destination Port',\n       'Unit quantity', 'Weight', 'lb/unit_ratio'],\n      dtype='object')"
     },
     "execution_count": 10,
     "metadata": {},
     "output_type": "execute_result"
    }
   ],
   "source": [
    "'''\n",
    "b) Next, we'll create a column for the lb / unit ratio for each product. Create this column in the orders dataframe\n",
    "and call it 'lb/unit_ratio'.\n",
    "'''\n",
    "\n",
    "orders['lb/unit_ratio'] = orders['Weight'] / orders['Unit quantity']\n",
    "orders.columns"
   ]
  },
  {
   "cell_type": "code",
   "execution_count": 12,
   "metadata": {
    "pycharm": {
     "name": "#%%\n"
    }
   },
   "outputs": [
    {
     "data": {
      "text/plain": "          Order ID Order Date Origin Port Carrier  TPT Service Level  \\\n0     1.447296e+09 2013-05-26      PORT09   V44_3    1           CRF   \n1     1.447158e+09 2013-05-26      PORT09   V44_3    1           CRF   \n2     1.447139e+09 2013-05-26      PORT09   V44_3    1           CRF   \n3     1.447364e+09 2013-05-26      PORT09   V44_3    1           CRF   \n4     1.447364e+09 2013-05-26      PORT09   V44_3    1           CRF   \n...            ...        ...         ...     ...  ...           ...   \n9210  1.447305e+09 2013-05-26      PORT04  V444_1    1           DTD   \n9211  1.447319e+09 2013-05-26      PORT04  V444_1    1           DTD   \n9212  1.447322e+09 2013-05-26      PORT04  V444_1    1           DTD   \n9213  1.447145e+09 2013-05-26      PORT04  V444_1    1           DTD   \n9214  1.447328e+09 2013-05-26      PORT04  V444_1    1           DTD   \n\n      Ship ahead day count  Ship Late Day count           Customer  \\\n0                        3                    0          V55555_53   \n1                        3                    0          V55555_53   \n2                        3                    0          V55555_53   \n3                        3                    0          V55555_53   \n4                        3                    0          V55555_53   \n...                    ...                  ...                ...   \n9210                     5                    0  V55555555555555_8   \n9211                     5                    0  V55555555555555_8   \n9212                     5                    0  V55555555555555_8   \n9213                     5                    0  V55555555555555_8   \n9214                     5                    0  V55555555555555_8   \n\n      Product ID Plant Code Destination Port  Unit quantity     Weight  \\\n0        1700106    PLANT16           PORT09            808  14.300000   \n1        1700106    PLANT16           PORT09           3188  87.940000   \n2        1700106    PLANT16           PORT09           2331  61.200000   \n3        1700106    PLANT16           PORT09            847  16.160000   \n4        1700106    PLANT16           PORT09           2163  52.340000   \n...          ...        ...              ...            ...        ...   \n9210     1683388    PLANT03           PORT09            339   2.354118   \n9211     1683388    PLANT03           PORT09            339   2.354118   \n9212     1683388    PLANT03           PORT09            245   0.294265   \n9213     1683430    PLANT03           PORT09            278   2.480000   \n9214     1683424    PLANT03           PORT09            317   1.960000   \n\n      lb/unit_ratio  avg_product_lb/unit_ratio  \n0          0.017698                   0.022385  \n1          0.027585                   0.022385  \n2          0.026255                   0.022385  \n3          0.019079                   0.022385  \n4          0.024198                   0.022385  \n...             ...                        ...  \n9210       0.006944                   0.006204  \n9211       0.006944                   0.006204  \n9212       0.001201                   0.006204  \n9213       0.008921                   0.008921  \n9214       0.006183                   0.004379  \n\n[9215 rows x 16 columns]",
      "text/html": "<div>\n<style scoped>\n    .dataframe tbody tr th:only-of-type {\n        vertical-align: middle;\n    }\n\n    .dataframe tbody tr th {\n        vertical-align: top;\n    }\n\n    .dataframe thead th {\n        text-align: right;\n    }\n</style>\n<table border=\"1\" class=\"dataframe\">\n  <thead>\n    <tr style=\"text-align: right;\">\n      <th></th>\n      <th>Order ID</th>\n      <th>Order Date</th>\n      <th>Origin Port</th>\n      <th>Carrier</th>\n      <th>TPT</th>\n      <th>Service Level</th>\n      <th>Ship ahead day count</th>\n      <th>Ship Late Day count</th>\n      <th>Customer</th>\n      <th>Product ID</th>\n      <th>Plant Code</th>\n      <th>Destination Port</th>\n      <th>Unit quantity</th>\n      <th>Weight</th>\n      <th>lb/unit_ratio</th>\n      <th>avg_product_lb/unit_ratio</th>\n    </tr>\n  </thead>\n  <tbody>\n    <tr>\n      <th>0</th>\n      <td>1.447296e+09</td>\n      <td>2013-05-26</td>\n      <td>PORT09</td>\n      <td>V44_3</td>\n      <td>1</td>\n      <td>CRF</td>\n      <td>3</td>\n      <td>0</td>\n      <td>V55555_53</td>\n      <td>1700106</td>\n      <td>PLANT16</td>\n      <td>PORT09</td>\n      <td>808</td>\n      <td>14.300000</td>\n      <td>0.017698</td>\n      <td>0.022385</td>\n    </tr>\n    <tr>\n      <th>1</th>\n      <td>1.447158e+09</td>\n      <td>2013-05-26</td>\n      <td>PORT09</td>\n      <td>V44_3</td>\n      <td>1</td>\n      <td>CRF</td>\n      <td>3</td>\n      <td>0</td>\n      <td>V55555_53</td>\n      <td>1700106</td>\n      <td>PLANT16</td>\n      <td>PORT09</td>\n      <td>3188</td>\n      <td>87.940000</td>\n      <td>0.027585</td>\n      <td>0.022385</td>\n    </tr>\n    <tr>\n      <th>2</th>\n      <td>1.447139e+09</td>\n      <td>2013-05-26</td>\n      <td>PORT09</td>\n      <td>V44_3</td>\n      <td>1</td>\n      <td>CRF</td>\n      <td>3</td>\n      <td>0</td>\n      <td>V55555_53</td>\n      <td>1700106</td>\n      <td>PLANT16</td>\n      <td>PORT09</td>\n      <td>2331</td>\n      <td>61.200000</td>\n      <td>0.026255</td>\n      <td>0.022385</td>\n    </tr>\n    <tr>\n      <th>3</th>\n      <td>1.447364e+09</td>\n      <td>2013-05-26</td>\n      <td>PORT09</td>\n      <td>V44_3</td>\n      <td>1</td>\n      <td>CRF</td>\n      <td>3</td>\n      <td>0</td>\n      <td>V55555_53</td>\n      <td>1700106</td>\n      <td>PLANT16</td>\n      <td>PORT09</td>\n      <td>847</td>\n      <td>16.160000</td>\n      <td>0.019079</td>\n      <td>0.022385</td>\n    </tr>\n    <tr>\n      <th>4</th>\n      <td>1.447364e+09</td>\n      <td>2013-05-26</td>\n      <td>PORT09</td>\n      <td>V44_3</td>\n      <td>1</td>\n      <td>CRF</td>\n      <td>3</td>\n      <td>0</td>\n      <td>V55555_53</td>\n      <td>1700106</td>\n      <td>PLANT16</td>\n      <td>PORT09</td>\n      <td>2163</td>\n      <td>52.340000</td>\n      <td>0.024198</td>\n      <td>0.022385</td>\n    </tr>\n    <tr>\n      <th>...</th>\n      <td>...</td>\n      <td>...</td>\n      <td>...</td>\n      <td>...</td>\n      <td>...</td>\n      <td>...</td>\n      <td>...</td>\n      <td>...</td>\n      <td>...</td>\n      <td>...</td>\n      <td>...</td>\n      <td>...</td>\n      <td>...</td>\n      <td>...</td>\n      <td>...</td>\n      <td>...</td>\n    </tr>\n    <tr>\n      <th>9210</th>\n      <td>1.447305e+09</td>\n      <td>2013-05-26</td>\n      <td>PORT04</td>\n      <td>V444_1</td>\n      <td>1</td>\n      <td>DTD</td>\n      <td>5</td>\n      <td>0</td>\n      <td>V55555555555555_8</td>\n      <td>1683388</td>\n      <td>PLANT03</td>\n      <td>PORT09</td>\n      <td>339</td>\n      <td>2.354118</td>\n      <td>0.006944</td>\n      <td>0.006204</td>\n    </tr>\n    <tr>\n      <th>9211</th>\n      <td>1.447319e+09</td>\n      <td>2013-05-26</td>\n      <td>PORT04</td>\n      <td>V444_1</td>\n      <td>1</td>\n      <td>DTD</td>\n      <td>5</td>\n      <td>0</td>\n      <td>V55555555555555_8</td>\n      <td>1683388</td>\n      <td>PLANT03</td>\n      <td>PORT09</td>\n      <td>339</td>\n      <td>2.354118</td>\n      <td>0.006944</td>\n      <td>0.006204</td>\n    </tr>\n    <tr>\n      <th>9212</th>\n      <td>1.447322e+09</td>\n      <td>2013-05-26</td>\n      <td>PORT04</td>\n      <td>V444_1</td>\n      <td>1</td>\n      <td>DTD</td>\n      <td>5</td>\n      <td>0</td>\n      <td>V55555555555555_8</td>\n      <td>1683388</td>\n      <td>PLANT03</td>\n      <td>PORT09</td>\n      <td>245</td>\n      <td>0.294265</td>\n      <td>0.001201</td>\n      <td>0.006204</td>\n    </tr>\n    <tr>\n      <th>9213</th>\n      <td>1.447145e+09</td>\n      <td>2013-05-26</td>\n      <td>PORT04</td>\n      <td>V444_1</td>\n      <td>1</td>\n      <td>DTD</td>\n      <td>5</td>\n      <td>0</td>\n      <td>V55555555555555_8</td>\n      <td>1683430</td>\n      <td>PLANT03</td>\n      <td>PORT09</td>\n      <td>278</td>\n      <td>2.480000</td>\n      <td>0.008921</td>\n      <td>0.008921</td>\n    </tr>\n    <tr>\n      <th>9214</th>\n      <td>1.447328e+09</td>\n      <td>2013-05-26</td>\n      <td>PORT04</td>\n      <td>V444_1</td>\n      <td>1</td>\n      <td>DTD</td>\n      <td>5</td>\n      <td>0</td>\n      <td>V55555555555555_8</td>\n      <td>1683424</td>\n      <td>PLANT03</td>\n      <td>PORT09</td>\n      <td>317</td>\n      <td>1.960000</td>\n      <td>0.006183</td>\n      <td>0.004379</td>\n    </tr>\n  </tbody>\n</table>\n<p>9215 rows × 16 columns</p>\n</div>"
     },
     "execution_count": 12,
     "metadata": {},
     "output_type": "execute_result"
    }
   ],
   "source": [
    "'''\n",
    "c) Next, we need to get the mean lb / unit ratio for each product. For easy comparision, broadcast this result back into\n",
    "the original 'orders' dataframe. Your new column in the orders dataframe should be called 'avg_product_lb/unit_ratio'.\n",
    "Hint: There are multiple ways to do this, but the easiest is with the transform method.\n",
    "'''\n",
    "\n",
    "orders['avg_product_lb/unit_ratio'] = orders.groupby('Product ID')['lb/unit_ratio'].transform('mean')\n",
    "orders"
   ]
  },
  {
   "cell_type": "code",
   "execution_count": 13,
   "metadata": {
    "pycharm": {
     "name": "#%%\n"
    }
   },
   "outputs": [],
   "source": [
    "'''\n",
    "d) To look for outliers, let's analyze the squared difference between the 'lb/unit_ratio' and 'avg_product_lb/unit_ratio' columns within each row.\n",
    "Create a new column in the orders dataframe called 'lb/unit_squared_diff' with the stored result.\n",
    "Hint: Use the np.square() function.\n",
    "'''\n",
    "\n",
    "orders['lb/unit_squared_diff'] = np.square(orders['lb/unit_ratio'] - orders['avg_product_lb/unit_ratio'])"
   ]
  },
  {
   "cell_type": "code",
   "execution_count": 14,
   "metadata": {
    "pycharm": {
     "name": "#%%\n"
    }
   },
   "outputs": [],
   "source": [
    "'''\n",
    "e) Let's sort the orders by our new 'lb/unit_squared_diff' columns.\n",
    "Create a new dataframe called 'outliers' to store the 10 orders with the highest lb/unit\n",
    "deviations from the product mean.\n",
    "Hint: Pay attention to the 'ascending keyword' if using the sort_values function.\n",
    "'''\n",
    "\n",
    "outliers = orders.sort_values(by = ['lb/unit_squared_diff'], ascending = False).head(10)"
   ]
  },
  {
   "cell_type": "code",
   "execution_count": 15,
   "outputs": [
    {
     "data": {
      "text/plain": "<Axes: >"
     },
     "execution_count": 15,
     "metadata": {},
     "output_type": "execute_result"
    },
    {
     "data": {
      "text/plain": "<Figure size 640x480 with 1 Axes>",
      "image/png": "[encoded data removed]"
     },
     "metadata": {},
     "output_type": "display_data"
    }
   ],
   "source": [
    "'''\n",
    "f) Extra Credit: Let's plot our outliers in a bar chart. The y-axis should be our new 'lb/unit_squared_diff' column.\n",
    "The x-axis can be the default index.\n",
    "'''\n",
    "\n",
    "outliers['lb/unit_squared_diff'].plot(kind = 'bar')"
   ],
   "metadata": {
    "collapsed": false,
    "pycharm": {
     "name": "#%%\n"
    }
   }
  },
  {
   "cell_type": "code",
   "execution_count": null,
   "outputs": [],
   "source": [],
   "metadata": {
    "collapsed": false,
    "pycharm": {
     "name": "#%%\n"
    }
   }
  }
 ],
 "metadata": {
  "kernelspec": {
   "display_name": "Python 3",
   "language": "python",
   "name": "python3"
  },
  "language_info": {
   "codemirror_mode": {
    "name": "ipython",
    "version": 3
   },
   "file_extension": ".py",
   "mimetype": "text/x-python",
   "name": "python",
   "nbconvert_exporter": "python",
   "pygments_lexer": "ipython3",
   "version": "3.7.6"
  }
 },
 "nbformat": 4,
 "nbformat_minor": 4
}